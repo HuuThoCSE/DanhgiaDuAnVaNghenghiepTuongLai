{
 "cells": [
  {
   "cell_type": "code",
   "metadata": {
    "ExecuteTime": {
     "end_time": "2024-06-26T10:33:54.924648Z",
     "start_time": "2024-06-26T10:33:50.869149Z"
    }
   },
   "source": [
    "import os\n",
    "import joblib\n",
    "from tensorflow.keras.preprocessing.sequence import pad_sequences"
   ],
   "outputs": [],
   "execution_count": 1
  },
  {
   "cell_type": "code",
   "metadata": {
    "ExecuteTime": {
     "end_time": "2024-06-26T10:33:54.975240Z",
     "start_time": "2024-06-26T10:33:54.925655Z"
    }
   },
   "source": [
    "!dir"
   ],
   "outputs": [
    {
     "name": "stdout",
     "output_type": "stream",
     "text": [
      " Volume in drive D is New Volume\n",
      " Volume Serial Number is DC85-82A4\n",
      "\n",
      " Directory of D:\\Github\\DanhgiaDuAnVaNghenghiepTuongLai\\code_ai\\TestCode_ver6\n",
      "\n",
      "06/26/2024  05:33 PM    <DIR>          .\n",
      "06/26/2024  05:06 PM    <DIR>          ..\n",
      "06/26/2024  05:29 PM    <DIR>          .idea\n",
      "06/26/2024  05:32 PM                30 config.txt\n",
      "06/26/2024  05:23 PM           174,200 RunCode1.ipynb\n",
      "06/26/2024  05:33 PM            81,685 RunCode2.ipynb\n",
      "06/26/2024  05:32 PM            18,488 uncategorized_projects.csv\n",
      "               4 File(s)        274,403 bytes\n",
      "               3 Dir(s)  106,650,112,000 bytes free\n"
     ]
    }
   ],
   "execution_count": 2
  },
  {
   "cell_type": "code",
   "metadata": {
    "ExecuteTime": {
     "end_time": "2024-06-26T10:33:54.984019Z",
     "start_time": "2024-06-26T10:33:54.978264Z"
    }
   },
   "source": [
    "# Xóa file mô hình cũ nếu tồn tại\n",
    "if os.path.exists('best_model.keras'):\n",
    "    os.remove('best_model.keras')\n",
    "    os.remove('categories.joblib')\n",
    "    os.remove('tokenizer.joblib')\n",
    "    os.remove('uncategorized_projects.csv')"
   ],
   "outputs": [],
   "execution_count": 3
  },
  {
   "cell_type": "code",
   "metadata": {
    "ExecuteTime": {
     "end_time": "2024-06-26T10:33:55.216220Z",
     "start_time": "2024-06-26T10:33:54.985026Z"
    }
   },
   "source": [
    "from tensorflow.keras.models import Sequential\n",
    "from tensorflow.keras.layers import Embedding, LSTM, Dense, Dropout, GRU\n",
    "from tensorflow.keras.callbacks import EarlyStopping, ModelCheckpoint\n",
    "from tensorflow.keras.preprocessing.text import Tokenizer\n",
    "from tensorflow.keras.preprocessing.sequence import pad_sequences\n",
    "from sklearn.model_selection import train_test_split\n",
    "import matplotlib.pyplot as plt\n",
    "import numpy as np\n",
    "import pandas as pd"
   ],
   "outputs": [],
   "execution_count": 4
  },
  {
   "cell_type": "code",
   "metadata": {
    "ExecuteTime": {
     "end_time": "2024-06-26T10:33:55.226082Z",
     "start_time": "2024-06-26T10:33:55.216220Z"
    }
   },
   "source": [
    "from tensorflow.keras.models import Model\n",
    "from tensorflow.keras.layers import Input, Embedding, LSTM, GRU, Dense, Dropout, Bidirectional, BatchNormalization, Attention, Concatenate\n",
    "from tensorflow.keras.optimizers import Adam\n",
    "from tensorflow.keras.callbacks import EarlyStopping, ModelCheckpoint, ReduceLROnPlateau\n",
    "\n",
    "# Hàm xây dựng mô hình tối ưu với lớp Attention\n",
    "def build_model(vocab_size, num_classes, input_length):\n",
    "    inputs = Input(shape=(input_length,))\n",
    "    x = Embedding(input_dim=vocab_size, output_dim=256, input_length=input_length)(inputs)\n",
    "    x = Bidirectional(LSTM(256, return_sequences=True))(x)\n",
    "    x = BatchNormalization()(x)\n",
    "    x = Dropout(0.5)(x)\n",
    "    x = Bidirectional(GRU(128, return_sequences=True))(x)\n",
    "    x = BatchNormalization()(x)\n",
    "\n",
    "    # Sử dụng Attention Layer\n",
    "    query = Dense(128)(x)\n",
    "    value = Dense(128)(x)\n",
    "    attention = Attention()([query, value])\n",
    "    x = Concatenate()([attention, x])\n",
    "    \n",
    "    x = Dropout(0.5)(x)\n",
    "    x = Dense(128, activation='relu')(x)\n",
    "    x = Dropout(0.5)(x)\n",
    "    outputs = Dense(num_classes, activation='sigmoid')(x)\n",
    "    \n",
    "    model = Model(inputs, outputs)\n",
    "    model.compile(loss='binary_crossentropy', optimizer=Adam(learning_rate=0.001), metrics=['accuracy'])\n",
    "\n",
    "    # Thêm EarlyStopping, ModelCheckpoint và ReduceLROnPlateau\n",
    "    early_stopping = EarlyStopping(monitor='val_loss', patience=5, restore_best_weights=True)\n",
    "    model_checkpoint = ModelCheckpoint('best_model.keras', save_best_only=True, monitor='val_loss')\n",
    "    reduce_lr = ReduceLROnPlateau(monitor='val_loss', factor=0.2, patience=3, min_lr=0.0001)\n",
    "\n",
    "    return model, [early_stopping, model_checkpoint, reduce_lr]"
   ],
   "outputs": [],
   "execution_count": 5
  },
  {
   "cell_type": "code",
   "metadata": {
    "ExecuteTime": {
     "end_time": "2024-06-26T10:33:55.233564Z",
     "start_time": "2024-06-26T10:33:55.227596Z"
    }
   },
   "source": [
    "# Hàm vẽ biểu đồ\n",
    "def plot_history(history):\n",
    "    plt.figure(figsize=(12, 6))\n",
    "\n",
    "    plt.subplot(1, 2, 1)\n",
    "    plt.plot(history.history['loss'], label='Training Loss')\n",
    "    plt.plot(history.history['val_loss'], label='Validation Loss')\n",
    "    plt.title('Biểu đồ Loss')\n",
    "    plt.xlabel('Epoch')\n",
    "    plt.ylabel('Loss')\n",
    "    plt.legend()\n",
    "\n",
    "    plt.subplot(1, 2, 2)\n",
    "    plt.plot(history.history['accuracy'], label='Training Accuracy')\n",
    "    plt.plot(history.history['val_accuracy'], label='Validation Accuracy')\n",
    "    plt.title('Biểu đồ Accuracy')\n",
    "    plt.xlabel('Epoch')\n",
    "    plt.ylabel('Accuracy')\n",
    "    plt.legend()\n",
    "\n",
    "    plt.tight_layout()\n",
    "    plt.show()"
   ],
   "outputs": [],
   "execution_count": 6
  },
  {
   "cell_type": "code",
   "metadata": {
    "ExecuteTime": {
     "end_time": "2024-06-26T10:33:55.241357Z",
     "start_time": "2024-06-26T10:33:55.235484Z"
    }
   },
   "source": [
    "# Tạo từ điển ánh xạ với nhóm từ khóa cho mỗi chủ đề\n",
    "technically = {\n",
    "    'website': ['website', 'web'],\n",
    "    'mobile-app': ['mobile app', 'app di động', 'Xây dựng ứng dụng', 'Xây dựng Ứng dụng', 'Ứng dụng di động', 'Phát triển ứng dụng', 'Xây dựng ứng dụng', 'hệ thống nhận diện'],\n",
    "    'game': ['game', 'trò chơi'],\n",
    "    'chatbot': ['chatbot', 'chat bot'],\n",
    "    'artificial-intelligence': ['trí tuệ nhân tạo', 'Yolo', 'AIOT'],\n",
    "    'machine-learning': ['machine learning', 'máy học'],\n",
    "    'deep-learning': ['deep learning', 'học sâu'],\n",
    "    'computer-vision': ['computer vision', 'thị giác máy tính'],\n",
    "    'big-data': ['big data', 'dữ liệu lớn', 'bigdata'],\n",
    "    'data-analysis': ['data analysis', 'phân tích dữ liệu'],\n",
    "    'cloud-computing': ['cloud computing', 'điện toán đám mây', 'K8s', 'kubernetes'],\n",
    "    'blockchain': ['blockchain', 'chuỗi khối', 'NFT'],\n",
    "    'robot': ['robot', 'robotics', 'robotic'],\n",
    "    'drone': ['drone', 'flycam'],\n",
    "    'vr': ['vr', 'thực tế ảo', 'virtual reality'],\n",
    "    'iot': ['nhà thông minh', 'thiết bị thông minh', 'AIOT', 'iot', 'ESP32', 'MQTT', 'vườn thông minh'],\n",
    "}"
   ],
   "outputs": [],
   "execution_count": 7
  },
  {
   "cell_type": "code",
   "metadata": {
    "ExecuteTime": {
     "end_time": "2024-06-26T10:33:55.270909Z",
     "start_time": "2024-06-26T10:33:55.242366Z"
    }
   },
   "source": [
    "# Tải dữ liệu\n",
    "pd_data = pd.read_csv('D:/Github/DanhgiaDuAnVaNghenghiepTuongLai/dataset/dataset_train_ver1.csv')\n",
    "pd_data"
   ],
   "outputs": [
    {
     "data": {
      "text/plain": [
       "     STT                                    nameProject_VNI  nameProject_ENG  \\\n",
       "0    1.0             Xây dựng hệ thống quản lý sân cầu lông              NaN   \n",
       "1    2.0  Tìm hiểu công nghệ Web 3.0 và ứng dụng web 3.0...              NaN   \n",
       "2    3.0  Xây dựng hệ thống trợ giúp tư vấn hướng nghiệp...              NaN   \n",
       "3    4.0  Xây dựng mạng xã hội kết hợp chatbot cho người...              NaN   \n",
       "4    5.0  Tìm hiểu Chatbot và xây dựng ứng dụng hỗ trợ t...              NaN   \n",
       "..   ...                                                ...              ...   \n",
       "854  NaN  Ứng dụng Blockchain trong quản lý hệ thống chă...              NaN   \n",
       "855  NaN  Phát triển hệ thống quản lý thông tin bảo hiểm...              NaN   \n",
       "856  NaN  Ứng dụng Blockchain trong quản lý dịch vụ hưu ...              NaN   \n",
       "857  NaN  Blockchain và bảo mật trong dịch vụ bảo mật th...              NaN   \n",
       "858  NaN  Ứng dụng Blockchain trong quản lý tài nguyên t...              NaN   \n",
       "\n",
       "    course  difficulty_level  codeSememter major specialization university  \\\n",
       "0      NaN               1.0         232.0   NaN            NaN        UIT   \n",
       "1      NaN               1.0         232.0   NaN            NaN        UIT   \n",
       "2      NaN               1.0         232.0   NaN            NaN        UIT   \n",
       "3      NaN               1.0         232.0   NaN            NaN        UIT   \n",
       "4      NaN               1.0         232.0   NaN            NaN        UIT   \n",
       "..     ...               ...           ...   ...            ...        ...   \n",
       "854    NaN               NaN           NaN   NaN            NaN        NaN   \n",
       "855    NaN               NaN           NaN   NaN            NaN        NaN   \n",
       "856    NaN               NaN           NaN   NaN            NaN        NaN   \n",
       "857    NaN               NaN           NaN   NaN            NaN        NaN   \n",
       "858    NaN               NaN           NaN   NaN            NaN        NaN   \n",
       "\n",
       "    note  \n",
       "0    NaN  \n",
       "1    NaN  \n",
       "2    NaN  \n",
       "3    NaN  \n",
       "4    NaN  \n",
       "..   ...  \n",
       "854  NaN  \n",
       "855  NaN  \n",
       "856  NaN  \n",
       "857  NaN  \n",
       "858  NaN  \n",
       "\n",
       "[859 rows x 10 columns]"
      ],
      "text/html": [
       "<div>\n",
       "<style scoped>\n",
       "    .dataframe tbody tr th:only-of-type {\n",
       "        vertical-align: middle;\n",
       "    }\n",
       "\n",
       "    .dataframe tbody tr th {\n",
       "        vertical-align: top;\n",
       "    }\n",
       "\n",
       "    .dataframe thead th {\n",
       "        text-align: right;\n",
       "    }\n",
       "</style>\n",
       "<table border=\"1\" class=\"dataframe\">\n",
       "  <thead>\n",
       "    <tr style=\"text-align: right;\">\n",
       "      <th></th>\n",
       "      <th>STT</th>\n",
       "      <th>nameProject_VNI</th>\n",
       "      <th>nameProject_ENG</th>\n",
       "      <th>course</th>\n",
       "      <th>difficulty_level</th>\n",
       "      <th>codeSememter</th>\n",
       "      <th>major</th>\n",
       "      <th>specialization</th>\n",
       "      <th>university</th>\n",
       "      <th>note</th>\n",
       "    </tr>\n",
       "  </thead>\n",
       "  <tbody>\n",
       "    <tr>\n",
       "      <th>0</th>\n",
       "      <td>1.0</td>\n",
       "      <td>Xây dựng hệ thống quản lý sân cầu lông</td>\n",
       "      <td>NaN</td>\n",
       "      <td>NaN</td>\n",
       "      <td>1.0</td>\n",
       "      <td>232.0</td>\n",
       "      <td>NaN</td>\n",
       "      <td>NaN</td>\n",
       "      <td>UIT</td>\n",
       "      <td>NaN</td>\n",
       "    </tr>\n",
       "    <tr>\n",
       "      <th>1</th>\n",
       "      <td>2.0</td>\n",
       "      <td>Tìm hiểu công nghệ Web 3.0 và ứng dụng web 3.0...</td>\n",
       "      <td>NaN</td>\n",
       "      <td>NaN</td>\n",
       "      <td>1.0</td>\n",
       "      <td>232.0</td>\n",
       "      <td>NaN</td>\n",
       "      <td>NaN</td>\n",
       "      <td>UIT</td>\n",
       "      <td>NaN</td>\n",
       "    </tr>\n",
       "    <tr>\n",
       "      <th>2</th>\n",
       "      <td>3.0</td>\n",
       "      <td>Xây dựng hệ thống trợ giúp tư vấn hướng nghiệp...</td>\n",
       "      <td>NaN</td>\n",
       "      <td>NaN</td>\n",
       "      <td>1.0</td>\n",
       "      <td>232.0</td>\n",
       "      <td>NaN</td>\n",
       "      <td>NaN</td>\n",
       "      <td>UIT</td>\n",
       "      <td>NaN</td>\n",
       "    </tr>\n",
       "    <tr>\n",
       "      <th>3</th>\n",
       "      <td>4.0</td>\n",
       "      <td>Xây dựng mạng xã hội kết hợp chatbot cho người...</td>\n",
       "      <td>NaN</td>\n",
       "      <td>NaN</td>\n",
       "      <td>1.0</td>\n",
       "      <td>232.0</td>\n",
       "      <td>NaN</td>\n",
       "      <td>NaN</td>\n",
       "      <td>UIT</td>\n",
       "      <td>NaN</td>\n",
       "    </tr>\n",
       "    <tr>\n",
       "      <th>4</th>\n",
       "      <td>5.0</td>\n",
       "      <td>Tìm hiểu Chatbot và xây dựng ứng dụng hỗ trợ t...</td>\n",
       "      <td>NaN</td>\n",
       "      <td>NaN</td>\n",
       "      <td>1.0</td>\n",
       "      <td>232.0</td>\n",
       "      <td>NaN</td>\n",
       "      <td>NaN</td>\n",
       "      <td>UIT</td>\n",
       "      <td>NaN</td>\n",
       "    </tr>\n",
       "    <tr>\n",
       "      <th>...</th>\n",
       "      <td>...</td>\n",
       "      <td>...</td>\n",
       "      <td>...</td>\n",
       "      <td>...</td>\n",
       "      <td>...</td>\n",
       "      <td>...</td>\n",
       "      <td>...</td>\n",
       "      <td>...</td>\n",
       "      <td>...</td>\n",
       "      <td>...</td>\n",
       "    </tr>\n",
       "    <tr>\n",
       "      <th>854</th>\n",
       "      <td>NaN</td>\n",
       "      <td>Ứng dụng Blockchain trong quản lý hệ thống chă...</td>\n",
       "      <td>NaN</td>\n",
       "      <td>NaN</td>\n",
       "      <td>NaN</td>\n",
       "      <td>NaN</td>\n",
       "      <td>NaN</td>\n",
       "      <td>NaN</td>\n",
       "      <td>NaN</td>\n",
       "      <td>NaN</td>\n",
       "    </tr>\n",
       "    <tr>\n",
       "      <th>855</th>\n",
       "      <td>NaN</td>\n",
       "      <td>Phát triển hệ thống quản lý thông tin bảo hiểm...</td>\n",
       "      <td>NaN</td>\n",
       "      <td>NaN</td>\n",
       "      <td>NaN</td>\n",
       "      <td>NaN</td>\n",
       "      <td>NaN</td>\n",
       "      <td>NaN</td>\n",
       "      <td>NaN</td>\n",
       "      <td>NaN</td>\n",
       "    </tr>\n",
       "    <tr>\n",
       "      <th>856</th>\n",
       "      <td>NaN</td>\n",
       "      <td>Ứng dụng Blockchain trong quản lý dịch vụ hưu ...</td>\n",
       "      <td>NaN</td>\n",
       "      <td>NaN</td>\n",
       "      <td>NaN</td>\n",
       "      <td>NaN</td>\n",
       "      <td>NaN</td>\n",
       "      <td>NaN</td>\n",
       "      <td>NaN</td>\n",
       "      <td>NaN</td>\n",
       "    </tr>\n",
       "    <tr>\n",
       "      <th>857</th>\n",
       "      <td>NaN</td>\n",
       "      <td>Blockchain và bảo mật trong dịch vụ bảo mật th...</td>\n",
       "      <td>NaN</td>\n",
       "      <td>NaN</td>\n",
       "      <td>NaN</td>\n",
       "      <td>NaN</td>\n",
       "      <td>NaN</td>\n",
       "      <td>NaN</td>\n",
       "      <td>NaN</td>\n",
       "      <td>NaN</td>\n",
       "    </tr>\n",
       "    <tr>\n",
       "      <th>858</th>\n",
       "      <td>NaN</td>\n",
       "      <td>Ứng dụng Blockchain trong quản lý tài nguyên t...</td>\n",
       "      <td>NaN</td>\n",
       "      <td>NaN</td>\n",
       "      <td>NaN</td>\n",
       "      <td>NaN</td>\n",
       "      <td>NaN</td>\n",
       "      <td>NaN</td>\n",
       "      <td>NaN</td>\n",
       "      <td>NaN</td>\n",
       "    </tr>\n",
       "  </tbody>\n",
       "</table>\n",
       "<p>859 rows × 10 columns</p>\n",
       "</div>"
      ]
     },
     "execution_count": 8,
     "metadata": {},
     "output_type": "execute_result"
    }
   ],
   "execution_count": 8
  },
  {
   "cell_type": "code",
   "metadata": {
    "ExecuteTime": {
     "end_time": "2024-06-26T10:33:55.280437Z",
     "start_time": "2024-06-26T10:33:55.271925Z"
    }
   },
   "source": [
    "df_train = pd_data[['nameProject_VNI']].copy()\n",
    "\n",
    "# Đếm số lần xuất hiện của mỗi tên dự án\n",
    "project_counts = df_train['nameProject_VNI'].value_counts()\n",
    "# Hiển thị các tên dự án có số lần xuất hiện nhiều hơn 1\n",
    "duplicate_projects = project_counts[project_counts > 1]\n",
    "print(duplicate_projects)"
   ],
   "outputs": [
    {
     "name": "stdout",
     "output_type": "stream",
     "text": [
      "nameProject_VNI\n",
      "Nghiên cứu và thử nghiệm một số phương pháp định giá BĐS                                                                          4\n",
      "Tìm hiểu Thị giác máy tính vận dụng trong phát triển ứng dụng Game 3D tương tác, Thực thể ảo AR.                                  3\n",
      "Phát triển ứng dụng phân tích dữ liệu y khoa trong xét nghiệm máu                                                                 3\n",
      "Hệ thống nhà thông minh                                                                                                           3\n",
      "Nhà thông minh                                                                                                                    2\n",
      "Ứng dụng Trí Tuệ Nhận Diện Khuôn Mặt                                                                                              2\n",
      "Ứng dụng MQTT trong nhà thông minh                                                                                                2\n",
      "Ứng dụng trí tuệ nhân tạo phát hiện và phân loại khối u não                                                                       2\n",
      "Xây dựng ứng dụng chia sẻ kinh nghiệm học tập                                                                                     2\n",
      "Nông trại thông minh                                                                                                              2\n",
      "Xây dựng ứng dụng quản lý đề cương môn học                                                                                        2\n",
      "Nhà kho thông minh                                                                                                                2\n",
      "Phát triển hệ thống hỗ trợ quản trị doanh nghiệp dựa trên Odoo: Áp dụng cho phân hệ quản lý phương tiện, logistics và kho hàng    2\n",
      "Blockchain và bảo mật trong dịch vụ hậu cần.                                                                                      2\n",
      "Tìm hiểu công nghệ Web 3.0 và ứng dụng web 3.0 vào thực tiễn                                                                      2\n",
      "Tìm hiểu Solidity và xây dựng ứng dụng minh họa                                                                                   2\n",
      "Phát triển ứng dụng hỗ trợ trẻ em tự kỷ                                                                                           2\n",
      "Nghiên cứu và xây dựng ví Mutil-sig trên mạng Bitcoin                                                                             2\n",
      "Xây dựng website thương mại điện tử                                                                                               2\n",
      "Xây dựng hệ thống website builder hỗ trợ phát sinh mã nguồn frontend                                                              2\n",
      "Finetuning Large Language Models                                                                                                  2\n",
      "Xây dựng hệ thống quản lý đề tài Đồ án chuyên ngành Khoa CNPM                                                                     2\n",
      "Xây dựng Ứng dụng khôi phục hình ảnh                                                                                              2\n",
      "Xây dựng ứng dụng học nhóm ảo                                                                                                     2\n",
      "Tìm hiểu và xây dựng nhà sách NFT (Non fungible token)                                                                            2\n",
      "Xây dựng ứng dụng blockchain hỗ trợ tuyển dụng việc làm                                                                           2\n",
      "Mạng xã hội kết hợp chatbot cho người nuôi thú cưng                                                                               2\n",
      "Ứng dụng gọi xe chung cho sinh viên                                                                                               2\n",
      "Xây dựng ứng dụng tư vấn sức khỏe cho cộng đồng                                                                                   2\n",
      "Xây dựng ứng dụng tư vấn đăng ký học phần cho SV  CNPM                                                                            2\n",
      "Xây dựng hệ thống tư vấn chọn ngành Đại học cho học sinh Trung học Phổ Thông                                                      2\n",
      "Phân tích xu hướng bất động sản bằng Machine Learning kết hợp lịch sử giá và tin tức                                              2\n",
      "Xây dựng Shop quần áo online tích hợp gợi ý sản phẩm                                                                              2\n",
      "Xây dựng Ứng dụng nghe nhạc và gợi ý bài hát                                                                                      2\n",
      "Tìm hiểu và phát triển ứng dụng giúp việc và cho thuê với Flutter                                                                 2\n",
      "Nghiên cứu công nghệ livestream và xây dựng ứng dụng minh hoạ                                                                     2\n",
      "Nghiên cứu công nghệ blockchain và ứng dụng vào game                                                                              2\n",
      "Nghiên cứu hệ khuyến nghị trong hệ thống thương mại điện tử                                                                       2\n",
      "Dự báo qua hành vi mua sắm của người tiêu dùng trong hoạt động kinh doanh hàng tiêu dùng                                          2\n",
      "Nghiên cứu hệ thống phân tán và ứng dụng minh hoạ                                                                                 2\n",
      "Nghiên cứu các kĩ thuật đồng thuận trong blockchain                                                                               2\n",
      "Tìm hiểu Chatbot và xây dựng ứng dụng hỗ trợ tư vấn mua bán bất động sản                                                          2\n",
      "Xây dựng hệ thống quản lý phòng trọ và gợi ý cho thuê phòng trọ.                                                                  2\n",
      "Nghiên cứu blockchain bridge và ứng dụng                                                                                          2\n",
      "Cửa hàng thông minh                                                                                                               2\n",
      "Tìm hiểu Chatbot và xây dựng ứng dụng hỗ trợ tư vấn thuê bất động sản                                                             2\n",
      "Ứng dụng Blockchain trong quản lý tài nguyên thiên nhiên.                                                                         2\n",
      "Xây dựng mạng xã hội kết hợp chatbot cho người nuôi thú cưng                                                                      2\n",
      "Hệ thống vườn thông minh                                                                                                          2\n",
      "Xây dựng ứng dụng quản lý tổ chức các hoạt động sinh viên                                                                         2\n",
      "Xây dựng hệ thống trợ giúp tư vấn hướng nghiệp và chọn ngành cho học sinh THPT                                                    2\n",
      "Phát triển game3D tương tác và thực thể ảo AR với Unity trên môi trường Android                                                   2\n",
      "Xây dựng Ứng dụng đi chợ trực tuyến tích hợp gợi ý món ăn                                                                         2\n",
      "Name: count, dtype: int64\n"
     ]
    }
   ],
   "execution_count": 9
  },
  {
   "cell_type": "code",
   "metadata": {
    "ExecuteTime": {
     "end_time": "2024-06-26T10:33:55.287446Z",
     "start_time": "2024-06-26T10:33:55.281446Z"
    }
   },
   "source": [
    "# Lọc và hiển thị các bản ghi có tên dự án trùng lặp\n",
    "duplicates = df_train[df_train['nameProject_VNI'].isin(duplicate_projects.index)]\n",
    "# print(duplicates)\n",
    "\n",
    "# Loại bỏ các trùng lặp, chỉ giữ lại bản ghi đầu tiên\n",
    "df = df_train.drop_duplicates(subset=['nameProject_VNI'], keep='first')"
   ],
   "outputs": [],
   "execution_count": 10
  },
  {
   "cell_type": "code",
   "metadata": {
    "ExecuteTime": {
     "end_time": "2024-06-26T10:33:55.296312Z",
     "start_time": "2024-06-26T10:33:55.288457Z"
    }
   },
   "source": [
    "# Đếm số lần xuất hiện của mỗi tên dự án\n",
    "project_counts = df['nameProject_VNI'].value_counts()\n",
    "# Hiển thị các tên dự án có số lần xuất hiện nhiều hơn 1\n",
    "duplicate_projects = project_counts[project_counts > 1]\n",
    "print(duplicate_projects)"
   ],
   "outputs": [
    {
     "name": "stdout",
     "output_type": "stream",
     "text": [
      "Series([], Name: count, dtype: int64)\n"
     ]
    }
   ],
   "execution_count": 11
  },
  {
   "cell_type": "code",
   "metadata": {
    "ExecuteTime": {
     "end_time": "2024-06-26T10:33:55.305616Z",
     "start_time": "2024-06-26T10:33:55.301009Z"
    }
   },
   "source": [
    "# df['category'] = df['nameProject_VNI'].apply(categorize_project)\n",
    "# # pd_data\n",
    "print(df)"
   ],
   "outputs": [
    {
     "name": "stdout",
     "output_type": "stream",
     "text": [
      "                                       nameProject_VNI\n",
      "0               Xây dựng hệ thống quản lý sân cầu lông\n",
      "1    Tìm hiểu công nghệ Web 3.0 và ứng dụng web 3.0...\n",
      "2    Xây dựng hệ thống trợ giúp tư vấn hướng nghiệp...\n",
      "3    Xây dựng mạng xã hội kết hợp chatbot cho người...\n",
      "4    Tìm hiểu Chatbot và xây dựng ứng dụng hỗ trợ t...\n",
      "..                                                 ...\n",
      "853  Blockchain và bảo mật trong dịch vụ tư vấn tài...\n",
      "854  Ứng dụng Blockchain trong quản lý hệ thống chă...\n",
      "855  Phát triển hệ thống quản lý thông tin bảo hiểm...\n",
      "856  Ứng dụng Blockchain trong quản lý dịch vụ hưu ...\n",
      "857  Blockchain và bảo mật trong dịch vụ bảo mật th...\n",
      "\n",
      "[801 rows x 1 columns]\n"
     ]
    }
   ],
   "execution_count": 12
  },
  {
   "cell_type": "code",
   "metadata": {
    "ExecuteTime": {
     "end_time": "2024-06-26T10:33:55.392387Z",
     "start_time": "2024-06-26T10:33:55.306627Z"
    }
   },
   "source": [
    "# Hàm phân loại chủ đề\n",
    "def categorize_project(project_name):\n",
    "    matched_themes = []\n",
    "    for theme, keywords in technically.items():\n",
    "        if any(keyword.lower() in project_name.lower() for keyword in keywords):\n",
    "            matched_themes.append(theme)\n",
    "    return ', '.join(matched_themes) if matched_themes else None\n",
    "\n",
    "# Assuming df is your DataFrame and it's already defined\n",
    "# Make sure to directly modify the 'category' column in a safe manner\n",
    "df.loc[:, 'category'] = df['nameProject_VNI'].apply(lambda x: categorize_project(x) if categorize_project(x) else '')\n",
    "\n",
    "# Tìm các hàng không có category được phân loại và lưu vào một file CSV mới\n",
    "uncategorized_df = df[df['category'] == '']\n",
    "uncategorized_df.to_csv('uncategorized_projects.csv', index=False, encoding='utf-8')\n",
    "\n",
    "# Hiển thị các hàng không có category được phân loại\n",
    "print(\"Các hàng không có category được phân loại:\")\n",
    "print(df[df['category'] == ''])\n",
    "\n",
    "# Loại bỏ các hàng không có category được phân loại\n",
    "df = df[df['category'] != '']\n",
    "\n",
    "# Hiển thị DataFrame đã cập nhật\n",
    "print(\"\\nDataFrame sau khi loại bỏ các hàng không có category được phân loại:\")\n",
    "print(df)"
   ],
   "outputs": [
    {
     "name": "stdout",
     "output_type": "stream",
     "text": [
      "Các hàng không có category được phân loại:\n",
      "                                       nameProject_VNI category\n",
      "0               Xây dựng hệ thống quản lý sân cầu lông         \n",
      "2    Xây dựng hệ thống trợ giúp tư vấn hướng nghiệp...         \n",
      "6    Nghiên cứu và thử nghiệm một số phương pháp đị...         \n",
      "8    Xây dựng hệ thống quản lý phòng trọ và gợi ý c...         \n",
      "10   Xây dựng Shop quần áo online tích hợp gợi ý sả...         \n",
      "..                                                 ...      ...\n",
      "728    Phát hiện bệnh trên lá của cây cà chua bằng CNN         \n",
      "740               Ứng dụng Trí Tuệ Nhận Diện Khuôn Mặt         \n",
      "742               Ứng dụng phát hiện ung thư đại tràng         \n",
      "743  Nhận diện bàn tay đoán ra kí tự người khuyết t...         \n",
      "762   Hợp đồng thông minh cho hệ thống bầu cử điện tử.         \n",
      "\n",
      "[263 rows x 2 columns]\n",
      "\n",
      "DataFrame sau khi loại bỏ các hàng không có category được phân loại:\n",
      "                                       nameProject_VNI             category\n",
      "1    Tìm hiểu công nghệ Web 3.0 và ứng dụng web 3.0...              website\n",
      "3    Xây dựng mạng xã hội kết hợp chatbot cho người...              chatbot\n",
      "4    Tìm hiểu Chatbot và xây dựng ứng dụng hỗ trợ t...  mobile-app, chatbot\n",
      "5    Tìm hiểu Chatbot và xây dựng ứng dụng hỗ trợ t...  mobile-app, chatbot\n",
      "7    Phân tích xu hướng bất động sản bằng Machine L...     machine-learning\n",
      "..                                                 ...                  ...\n",
      "853  Blockchain và bảo mật trong dịch vụ tư vấn tài...           blockchain\n",
      "854  Ứng dụng Blockchain trong quản lý hệ thống chă...           blockchain\n",
      "855  Phát triển hệ thống quản lý thông tin bảo hiểm...           blockchain\n",
      "856  Ứng dụng Blockchain trong quản lý dịch vụ hưu ...           blockchain\n",
      "857  Blockchain và bảo mật trong dịch vụ bảo mật th...           blockchain\n",
      "\n",
      "[538 rows x 2 columns]\n"
     ]
    },
    {
     "name": "stderr",
     "output_type": "stream",
     "text": [
      "C:\\Users\\huuth\\AppData\\Local\\Temp\\ipykernel_9180\\2065964452.py:11: SettingWithCopyWarning: \n",
      "A value is trying to be set on a copy of a slice from a DataFrame.\n",
      "Try using .loc[row_indexer,col_indexer] = value instead\n",
      "\n",
      "See the caveats in the documentation: https://pandas.pydata.org/pandas-docs/stable/user_guide/indexing.html#returning-a-view-versus-a-copy\n",
      "  df.loc[:, 'category'] = df['nameProject_VNI'].apply(lambda x: categorize_project(x) if categorize_project(x) else '')\n"
     ]
    }
   ],
   "execution_count": 13
  },
  {
   "cell_type": "code",
   "metadata": {
    "ExecuteTime": {
     "end_time": "2024-06-26T10:33:55.698090Z",
     "start_time": "2024-06-26T10:33:55.393397Z"
    }
   },
   "source": [
    "# UIT: Đại học Công nghệ thông tin HCM\n",
    "# DUT: Đại học Đại học Bách Khoa - Đại học Đà Nẵng\n",
    "# HCMUS: Đại học Khoa học Tự nhiên - Đại học Quốc gia TP.HCM\n",
    "import seaborn as sns\n",
    "sns.countplot(pd_data['university'])"
   ],
   "outputs": [
    {
     "data": {
      "text/plain": [
       "<Axes: xlabel='count', ylabel='university'>"
      ]
     },
     "execution_count": 14,
     "metadata": {},
     "output_type": "execute_result"
    },
    {
     "data": {
      "text/plain": [
       "<Figure size 640x480 with 1 Axes>"
      ],
      "image/png": "[encoded data removed]"
     },
     "metadata": {},
     "output_type": "display_data"
    }
   ],
   "execution_count": 14
  },
  {
   "cell_type": "code",
   "metadata": {
    "ExecuteTime": {
     "end_time": "2024-06-26T10:33:55.705197Z",
     "start_time": "2024-06-26T10:33:55.699614Z"
    }
   },
   "source": [
    "# Số lượng đồ án của từng trường ĐH\n",
    "pd_data['university'].value_counts()"
   ],
   "outputs": [
    {
     "data": {
      "text/plain": [
       "university\n",
       "UIT       410\n",
       "VLUTE     141\n",
       "DUT       121\n",
       "HCMUS      49\n",
       "HUTECH     33\n",
       "Name: count, dtype: int64"
      ]
     },
     "execution_count": 15,
     "metadata": {},
     "output_type": "execute_result"
    }
   ],
   "execution_count": 15
  },
  {
   "cell_type": "code",
   "metadata": {
    "ExecuteTime": {
     "end_time": "2024-06-26T10:33:55.730955Z",
     "start_time": "2024-06-26T10:33:55.706207Z"
    }
   },
   "source": [
    "# Tạo các cột chỉ báo cho mỗi chủ đề\n",
    "category_dummies = pd.get_dummies(df['category'].apply(lambda x: x.split(', ')).explode()).groupby(level=0).sum()\n",
    "df = pd.concat([df, category_dummies], axis=1)\n",
    "df"
   ],
   "outputs": [
    {
     "data": {
      "text/plain": [
       "                                       nameProject_VNI             category  \\\n",
       "1    Tìm hiểu công nghệ Web 3.0 và ứng dụng web 3.0...              website   \n",
       "3    Xây dựng mạng xã hội kết hợp chatbot cho người...              chatbot   \n",
       "4    Tìm hiểu Chatbot và xây dựng ứng dụng hỗ trợ t...  mobile-app, chatbot   \n",
       "5    Tìm hiểu Chatbot và xây dựng ứng dụng hỗ trợ t...  mobile-app, chatbot   \n",
       "7    Phân tích xu hướng bất động sản bằng Machine L...     machine-learning   \n",
       "..                                                 ...                  ...   \n",
       "853  Blockchain và bảo mật trong dịch vụ tư vấn tài...           blockchain   \n",
       "854  Ứng dụng Blockchain trong quản lý hệ thống chă...           blockchain   \n",
       "855  Phát triển hệ thống quản lý thông tin bảo hiểm...           blockchain   \n",
       "856  Ứng dụng Blockchain trong quản lý dịch vụ hưu ...           blockchain   \n",
       "857  Blockchain và bảo mật trong dịch vụ bảo mật th...           blockchain   \n",
       "\n",
       "     artificial-intelligence  big-data  blockchain  chatbot  cloud-computing  \\\n",
       "1                          0         0           0        0                0   \n",
       "3                          0         0           0        1                0   \n",
       "4                          0         0           0        1                0   \n",
       "5                          0         0           0        1                0   \n",
       "7                          0         0           0        0                0   \n",
       "..                       ...       ...         ...      ...              ...   \n",
       "853                        0         0           1        0                0   \n",
       "854                        0         0           1        0                0   \n",
       "855                        0         0           1        0                0   \n",
       "856                        0         0           1        0                0   \n",
       "857                        0         0           1        0                0   \n",
       "\n",
       "     computer-vision  data-analysis  deep-learning  drone  game  iot  \\\n",
       "1                  0              0              0      0     0    0   \n",
       "3                  0              0              0      0     0    0   \n",
       "4                  0              0              0      0     0    0   \n",
       "5                  0              0              0      0     0    0   \n",
       "7                  0              0              0      0     0    0   \n",
       "..               ...            ...            ...    ...   ...  ...   \n",
       "853                0              0              0      0     0    0   \n",
       "854                0              0              0      0     0    0   \n",
       "855                0              0              0      0     0    0   \n",
       "856                0              0              0      0     0    0   \n",
       "857                0              0              0      0     0    0   \n",
       "\n",
       "     machine-learning  mobile-app  robot  website  \n",
       "1                   0           0      0        1  \n",
       "3                   0           0      0        0  \n",
       "4                   0           1      0        0  \n",
       "5                   0           1      0        0  \n",
       "7                   1           0      0        0  \n",
       "..                ...         ...    ...      ...  \n",
       "853                 0           0      0        0  \n",
       "854                 0           0      0        0  \n",
       "855                 0           0      0        0  \n",
       "856                 0           0      0        0  \n",
       "857                 0           0      0        0  \n",
       "\n",
       "[538 rows x 17 columns]"
      ],
      "text/html": [
       "<div>\n",
       "<style scoped>\n",
       "    .dataframe tbody tr th:only-of-type {\n",
       "        vertical-align: middle;\n",
       "    }\n",
       "\n",
       "    .dataframe tbody tr th {\n",
       "        vertical-align: top;\n",
       "    }\n",
       "\n",
       "    .dataframe thead th {\n",
       "        text-align: right;\n",
       "    }\n",
       "</style>\n",
       "<table border=\"1\" class=\"dataframe\">\n",
       "  <thead>\n",
       "    <tr style=\"text-align: right;\">\n",
       "      <th></th>\n",
       "      <th>nameProject_VNI</th>\n",
       "      <th>category</th>\n",
       "      <th>artificial-intelligence</th>\n",
       "      <th>big-data</th>\n",
       "      <th>blockchain</th>\n",
       "      <th>chatbot</th>\n",
       "      <th>cloud-computing</th>\n",
       "      <th>computer-vision</th>\n",
       "      <th>data-analysis</th>\n",
       "      <th>deep-learning</th>\n",
       "      <th>drone</th>\n",
       "      <th>game</th>\n",
       "      <th>iot</th>\n",
       "      <th>machine-learning</th>\n",
       "      <th>mobile-app</th>\n",
       "      <th>robot</th>\n",
       "      <th>website</th>\n",
       "    </tr>\n",
       "  </thead>\n",
       "  <tbody>\n",
       "    <tr>\n",
       "      <th>1</th>\n",
       "      <td>Tìm hiểu công nghệ Web 3.0 và ứng dụng web 3.0...</td>\n",
       "      <td>website</td>\n",
       "      <td>0</td>\n",
       "      <td>0</td>\n",
       "      <td>0</td>\n",
       "      <td>0</td>\n",
       "      <td>0</td>\n",
       "      <td>0</td>\n",
       "      <td>0</td>\n",
       "      <td>0</td>\n",
       "      <td>0</td>\n",
       "      <td>0</td>\n",
       "      <td>0</td>\n",
       "      <td>0</td>\n",
       "      <td>0</td>\n",
       "      <td>0</td>\n",
       "      <td>1</td>\n",
       "    </tr>\n",
       "    <tr>\n",
       "      <th>3</th>\n",
       "      <td>Xây dựng mạng xã hội kết hợp chatbot cho người...</td>\n",
       "      <td>chatbot</td>\n",
       "      <td>0</td>\n",
       "      <td>0</td>\n",
       "      <td>0</td>\n",
       "      <td>1</td>\n",
       "      <td>0</td>\n",
       "      <td>0</td>\n",
       "      <td>0</td>\n",
       "      <td>0</td>\n",
       "      <td>0</td>\n",
       "      <td>0</td>\n",
       "      <td>0</td>\n",
       "      <td>0</td>\n",
       "      <td>0</td>\n",
       "      <td>0</td>\n",
       "      <td>0</td>\n",
       "    </tr>\n",
       "    <tr>\n",
       "      <th>4</th>\n",
       "      <td>Tìm hiểu Chatbot và xây dựng ứng dụng hỗ trợ t...</td>\n",
       "      <td>mobile-app, chatbot</td>\n",
       "      <td>0</td>\n",
       "      <td>0</td>\n",
       "      <td>0</td>\n",
       "      <td>1</td>\n",
       "      <td>0</td>\n",
       "      <td>0</td>\n",
       "      <td>0</td>\n",
       "      <td>0</td>\n",
       "      <td>0</td>\n",
       "      <td>0</td>\n",
       "      <td>0</td>\n",
       "      <td>0</td>\n",
       "      <td>1</td>\n",
       "      <td>0</td>\n",
       "      <td>0</td>\n",
       "    </tr>\n",
       "    <tr>\n",
       "      <th>5</th>\n",
       "      <td>Tìm hiểu Chatbot và xây dựng ứng dụng hỗ trợ t...</td>\n",
       "      <td>mobile-app, chatbot</td>\n",
       "      <td>0</td>\n",
       "      <td>0</td>\n",
       "      <td>0</td>\n",
       "      <td>1</td>\n",
       "      <td>0</td>\n",
       "      <td>0</td>\n",
       "      <td>0</td>\n",
       "      <td>0</td>\n",
       "      <td>0</td>\n",
       "      <td>0</td>\n",
       "      <td>0</td>\n",
       "      <td>0</td>\n",
       "      <td>1</td>\n",
       "      <td>0</td>\n",
       "      <td>0</td>\n",
       "    </tr>\n",
       "    <tr>\n",
       "      <th>7</th>\n",
       "      <td>Phân tích xu hướng bất động sản bằng Machine L...</td>\n",
       "      <td>machine-learning</td>\n",
       "      <td>0</td>\n",
       "      <td>0</td>\n",
       "      <td>0</td>\n",
       "      <td>0</td>\n",
       "      <td>0</td>\n",
       "      <td>0</td>\n",
       "      <td>0</td>\n",
       "      <td>0</td>\n",
       "      <td>0</td>\n",
       "      <td>0</td>\n",
       "      <td>0</td>\n",
       "      <td>1</td>\n",
       "      <td>0</td>\n",
       "      <td>0</td>\n",
       "      <td>0</td>\n",
       "    </tr>\n",
       "    <tr>\n",
       "      <th>...</th>\n",
       "      <td>...</td>\n",
       "      <td>...</td>\n",
       "      <td>...</td>\n",
       "      <td>...</td>\n",
       "      <td>...</td>\n",
       "      <td>...</td>\n",
       "      <td>...</td>\n",
       "      <td>...</td>\n",
       "      <td>...</td>\n",
       "      <td>...</td>\n",
       "      <td>...</td>\n",
       "      <td>...</td>\n",
       "      <td>...</td>\n",
       "      <td>...</td>\n",
       "      <td>...</td>\n",
       "      <td>...</td>\n",
       "      <td>...</td>\n",
       "    </tr>\n",
       "    <tr>\n",
       "      <th>853</th>\n",
       "      <td>Blockchain và bảo mật trong dịch vụ tư vấn tài...</td>\n",
       "      <td>blockchain</td>\n",
       "      <td>0</td>\n",
       "      <td>0</td>\n",
       "      <td>1</td>\n",
       "      <td>0</td>\n",
       "      <td>0</td>\n",
       "      <td>0</td>\n",
       "      <td>0</td>\n",
       "      <td>0</td>\n",
       "      <td>0</td>\n",
       "      <td>0</td>\n",
       "      <td>0</td>\n",
       "      <td>0</td>\n",
       "      <td>0</td>\n",
       "      <td>0</td>\n",
       "      <td>0</td>\n",
       "    </tr>\n",
       "    <tr>\n",
       "      <th>854</th>\n",
       "      <td>Ứng dụng Blockchain trong quản lý hệ thống chă...</td>\n",
       "      <td>blockchain</td>\n",
       "      <td>0</td>\n",
       "      <td>0</td>\n",
       "      <td>1</td>\n",
       "      <td>0</td>\n",
       "      <td>0</td>\n",
       "      <td>0</td>\n",
       "      <td>0</td>\n",
       "      <td>0</td>\n",
       "      <td>0</td>\n",
       "      <td>0</td>\n",
       "      <td>0</td>\n",
       "      <td>0</td>\n",
       "      <td>0</td>\n",
       "      <td>0</td>\n",
       "      <td>0</td>\n",
       "    </tr>\n",
       "    <tr>\n",
       "      <th>855</th>\n",
       "      <td>Phát triển hệ thống quản lý thông tin bảo hiểm...</td>\n",
       "      <td>blockchain</td>\n",
       "      <td>0</td>\n",
       "      <td>0</td>\n",
       "      <td>1</td>\n",
       "      <td>0</td>\n",
       "      <td>0</td>\n",
       "      <td>0</td>\n",
       "      <td>0</td>\n",
       "      <td>0</td>\n",
       "      <td>0</td>\n",
       "      <td>0</td>\n",
       "      <td>0</td>\n",
       "      <td>0</td>\n",
       "      <td>0</td>\n",
       "      <td>0</td>\n",
       "      <td>0</td>\n",
       "    </tr>\n",
       "    <tr>\n",
       "      <th>856</th>\n",
       "      <td>Ứng dụng Blockchain trong quản lý dịch vụ hưu ...</td>\n",
       "      <td>blockchain</td>\n",
       "      <td>0</td>\n",
       "      <td>0</td>\n",
       "      <td>1</td>\n",
       "      <td>0</td>\n",
       "      <td>0</td>\n",
       "      <td>0</td>\n",
       "      <td>0</td>\n",
       "      <td>0</td>\n",
       "      <td>0</td>\n",
       "      <td>0</td>\n",
       "      <td>0</td>\n",
       "      <td>0</td>\n",
       "      <td>0</td>\n",
       "      <td>0</td>\n",
       "      <td>0</td>\n",
       "    </tr>\n",
       "    <tr>\n",
       "      <th>857</th>\n",
       "      <td>Blockchain và bảo mật trong dịch vụ bảo mật th...</td>\n",
       "      <td>blockchain</td>\n",
       "      <td>0</td>\n",
       "      <td>0</td>\n",
       "      <td>1</td>\n",
       "      <td>0</td>\n",
       "      <td>0</td>\n",
       "      <td>0</td>\n",
       "      <td>0</td>\n",
       "      <td>0</td>\n",
       "      <td>0</td>\n",
       "      <td>0</td>\n",
       "      <td>0</td>\n",
       "      <td>0</td>\n",
       "      <td>0</td>\n",
       "      <td>0</td>\n",
       "      <td>0</td>\n",
       "    </tr>\n",
       "  </tbody>\n",
       "</table>\n",
       "<p>538 rows × 17 columns</p>\n",
       "</div>"
      ]
     },
     "execution_count": 16,
     "metadata": {},
     "output_type": "execute_result"
    }
   ],
   "execution_count": 16
  },
  {
   "cell_type": "code",
   "metadata": {
    "ExecuteTime": {
     "end_time": "2024-06-26T10:33:55.738483Z",
     "start_time": "2024-06-26T10:33:55.731965Z"
    }
   },
   "source": [
    "# Lấy văn bản dự án và các nhãn\n",
    "texts = df['nameProject_VNI'].values\n",
    "categories = df.columns.difference(['nameProject_VNI', 'category'])\n",
    "labels = df[categories].values"
   ],
   "outputs": [],
   "execution_count": 17
  },
  {
   "cell_type": "code",
   "metadata": {
    "ExecuteTime": {
     "end_time": "2024-06-26T10:33:55.747908Z",
     "start_time": "2024-06-26T10:33:55.740402Z"
    }
   },
   "source": [
    "categories"
   ],
   "outputs": [
    {
     "data": {
      "text/plain": [
       "Index(['artificial-intelligence', 'big-data', 'blockchain', 'chatbot',\n",
       "       'cloud-computing', 'computer-vision', 'data-analysis', 'deep-learning',\n",
       "       'drone', 'game', 'iot', 'machine-learning', 'mobile-app', 'robot',\n",
       "       'website'],\n",
       "      dtype='object')"
      ]
     },
     "execution_count": 18,
     "metadata": {},
     "output_type": "execute_result"
    }
   ],
   "execution_count": 18
  },
  {
   "cell_type": "code",
   "metadata": {
    "ExecuteTime": {
     "end_time": "2024-06-26T10:33:55.753925Z",
     "start_time": "2024-06-26T10:33:55.749437Z"
    }
   },
   "source": [
    "print(labels)"
   ],
   "outputs": [
    {
     "name": "stdout",
     "output_type": "stream",
     "text": [
      "[[0 0 0 ... 0 0 1]\n",
      " [0 0 0 ... 0 0 0]\n",
      " [0 0 0 ... 1 0 0]\n",
      " ...\n",
      " [0 0 1 ... 0 0 0]\n",
      " [0 0 1 ... 0 0 0]\n",
      " [0 0 1 ... 0 0 0]]\n"
     ]
    }
   ],
   "execution_count": 19
  },
  {
   "cell_type": "code",
   "metadata": {
    "ExecuteTime": {
     "end_time": "2024-06-26T10:33:55.799356Z",
     "start_time": "2024-06-26T10:33:55.755439Z"
    }
   },
   "source": [
    "# Chuẩn bị tokenizer và padding\n",
    "num_words = 10000\n",
    "tokenizer = Tokenizer(num_words=num_words)\n",
    "tokenizer.fit_on_texts(texts)\n",
    "# Chuyển đổi văn bản thành chuỗi số\n",
    "sequences = tokenizer.texts_to_sequences(texts)\n",
    "max_length = max(len(seq) for seq in sequences)\n",
    "data = pad_sequences(sequences, maxlen=max_length)\n",
    "\n",
    "# Lưu các thông tin vào file txt\n",
    "with open('config.txt', 'w') as file:\n",
    "    file.write(f'MaxLength:{max_length}\\n')\n",
    "    file.write(f'NumWords:{num_words}\\n')"
   ],
   "outputs": [],
   "execution_count": 20
  },
  {
   "cell_type": "code",
   "metadata": {
    "ExecuteTime": {
     "end_time": "2024-06-26T10:33:55.808922Z",
     "start_time": "2024-06-26T10:33:55.802364Z"
    }
   },
   "source": [
    "# Chia dữ liệu thành huấn luyện và thử nghiệm\n",
    "X_train, X_test, y_train, y_test = train_test_split(data, labels, test_size=0.2, random_state=42)"
   ],
   "outputs": [],
   "execution_count": 21
  },
  {
   "cell_type": "code",
   "metadata": {
    "ExecuteTime": {
     "end_time": "2024-06-26T10:33:56.208786Z",
     "start_time": "2024-06-26T10:33:55.810321Z"
    }
   },
   "source": [
    "num_classes = y_train.shape[1]  # Đảm bảo num_classes bằng với kích thước thứ hai của y_train\n",
    "\n",
    "# Sử dụng mô hình\n",
    "vocab_size = 20000\n",
    "input_length = 30\n",
    "model, callbacks = build_model(vocab_size, num_classes, input_length)"
   ],
   "outputs": [
    {
     "name": "stderr",
     "output_type": "stream",
     "text": [
      "D:\\moitruongao\\dacs\\Lib\\site-packages\\keras\\src\\layers\\core\\embedding.py:90: UserWarning: Argument `input_length` is deprecated. Just remove it.\n",
      "  warnings.warn(\n"
     ]
    }
   ],
   "execution_count": 22
  },
  {
   "cell_type": "code",
   "metadata": {
    "ExecuteTime": {
     "end_time": "2024-06-26T10:33:56.215864Z",
     "start_time": "2024-06-26T10:33:56.209803Z"
    }
   },
   "source": [
    "print(\"Số lượng nhãn (num_classes):\", num_classes)\n",
    "print(\"Shape của y_train:\", y_train.shape)\n",
    "print(\"Shape của y_test:\", y_test.shape)"
   ],
   "outputs": [
    {
     "name": "stdout",
     "output_type": "stream",
     "text": [
      "Số lượng nhãn (num_classes): 15\n",
      "Shape của y_train: (430, 15)\n",
      "Shape của y_test: (108, 15)\n"
     ]
    }
   ],
   "execution_count": 23
  },
  {
   "cell_type": "code",
   "metadata": {
    "ExecuteTime": {
     "end_time": "2024-06-26T10:33:56.222269Z",
     "start_time": "2024-06-26T10:33:56.217382Z"
    }
   },
   "source": [
    "# Early stopping và checkpoint\n",
    "early_stopping = EarlyStopping(monitor='val_loss', patience=5, restore_best_weights=True)\n",
    "checkpoint = ModelCheckpoint('best_model.keras', monitor='val_loss', save_best_only=True)"
   ],
   "outputs": [],
   "execution_count": 24
  },
  {
   "cell_type": "code",
   "metadata": {
    "ExecuteTime": {
     "end_time": "2024-06-26T10:33:56.228976Z",
     "start_time": "2024-06-26T10:33:56.223277Z"
    }
   },
   "source": [
    "num_rows = X_train.shape[0]\n",
    "print(f\"Số lượng hàng trong dữ liệu train là {num_rows}\")\n",
    "batch_size_options = [16, 32, 64]  # Các lựa chọn thử nghiệm\n",
    "\n",
    "# Chọn batch size dựa trên hiệu suất của mô hình\n",
    "batch_size = min(batch_size_options, key=lambda x: abs(x - num_rows//x * x))\n",
    "\n",
    "print(f\"Batch size được chọn: {batch_size}\")"
   ],
   "outputs": [
    {
     "name": "stdout",
     "output_type": "stream",
     "text": [
      "Số lượng hàng trong dữ liệu train là 430\n",
      "Batch size được chọn: 64\n"
     ]
    }
   ],
   "execution_count": 25
  },
  {
   "cell_type": "code",
   "metadata": {
    "ExecuteTime": {
     "end_time": "2024-06-26T10:33:58.574797Z",
     "start_time": "2024-06-26T10:33:56.229983Z"
    }
   },
   "source": [
    "history = []\n",
    "# Huấn luyện mô hình\n",
    "history = model.fit(X_train, y_train, epochs=50, batch_size=batch_size, validation_data=(X_test, y_test), callbacks=callbacks)"
   ],
   "outputs": [
    {
     "name": "stdout",
     "output_type": "stream",
     "text": [
      "Epoch 1/50\n"
     ]
    },
    {
     "ename": "ValueError",
     "evalue": "Arguments `target` and `output` must have the same rank (ndim). Received: target.shape=(None, 15), output.shape=(None, 30, 15)",
     "output_type": "error",
     "traceback": [
      "\u001B[1;31m---------------------------------------------------------------------------\u001B[0m",
      "\u001B[1;31mValueError\u001B[0m                                Traceback (most recent call last)",
      "Cell \u001B[1;32mIn[26], line 3\u001B[0m\n\u001B[0;32m      1\u001B[0m history \u001B[38;5;241m=\u001B[39m []\n\u001B[0;32m      2\u001B[0m \u001B[38;5;66;03m# Huấn luyện mô hình\u001B[39;00m\n\u001B[1;32m----> 3\u001B[0m history \u001B[38;5;241m=\u001B[39m \u001B[43mmodel\u001B[49m\u001B[38;5;241;43m.\u001B[39;49m\u001B[43mfit\u001B[49m\u001B[43m(\u001B[49m\u001B[43mX_train\u001B[49m\u001B[43m,\u001B[49m\u001B[43m \u001B[49m\u001B[43my_train\u001B[49m\u001B[43m,\u001B[49m\u001B[43m \u001B[49m\u001B[43mepochs\u001B[49m\u001B[38;5;241;43m=\u001B[39;49m\u001B[38;5;241;43m50\u001B[39;49m\u001B[43m,\u001B[49m\u001B[43m \u001B[49m\u001B[43mbatch_size\u001B[49m\u001B[38;5;241;43m=\u001B[39;49m\u001B[43mbatch_size\u001B[49m\u001B[43m,\u001B[49m\u001B[43m \u001B[49m\u001B[43mvalidation_data\u001B[49m\u001B[38;5;241;43m=\u001B[39;49m\u001B[43m(\u001B[49m\u001B[43mX_test\u001B[49m\u001B[43m,\u001B[49m\u001B[43m \u001B[49m\u001B[43my_test\u001B[49m\u001B[43m)\u001B[49m\u001B[43m,\u001B[49m\u001B[43m \u001B[49m\u001B[43mcallbacks\u001B[49m\u001B[38;5;241;43m=\u001B[39;49m\u001B[43mcallbacks\u001B[49m\u001B[43m)\u001B[49m\n",
      "File \u001B[1;32mD:\\moitruongao\\dacs\\Lib\\site-packages\\keras\\src\\utils\\traceback_utils.py:122\u001B[0m, in \u001B[0;36mfilter_traceback.<locals>.error_handler\u001B[1;34m(*args, **kwargs)\u001B[0m\n\u001B[0;32m    119\u001B[0m     filtered_tb \u001B[38;5;241m=\u001B[39m _process_traceback_frames(e\u001B[38;5;241m.\u001B[39m__traceback__)\n\u001B[0;32m    120\u001B[0m     \u001B[38;5;66;03m# To get the full stack trace, call:\u001B[39;00m\n\u001B[0;32m    121\u001B[0m     \u001B[38;5;66;03m# `keras.config.disable_traceback_filtering()`\u001B[39;00m\n\u001B[1;32m--> 122\u001B[0m     \u001B[38;5;28;01mraise\u001B[39;00m e\u001B[38;5;241m.\u001B[39mwith_traceback(filtered_tb) \u001B[38;5;28;01mfrom\u001B[39;00m \u001B[38;5;28;01mNone\u001B[39;00m\n\u001B[0;32m    123\u001B[0m \u001B[38;5;28;01mfinally\u001B[39;00m:\n\u001B[0;32m    124\u001B[0m     \u001B[38;5;28;01mdel\u001B[39;00m filtered_tb\n",
      "File \u001B[1;32mD:\\moitruongao\\dacs\\Lib\\site-packages\\keras\\src\\backend\\tensorflow\\nn.py:661\u001B[0m, in \u001B[0;36mbinary_crossentropy\u001B[1;34m(target, output, from_logits)\u001B[0m\n\u001B[0;32m    658\u001B[0m output \u001B[38;5;241m=\u001B[39m tf\u001B[38;5;241m.\u001B[39mconvert_to_tensor(output)\n\u001B[0;32m    660\u001B[0m \u001B[38;5;28;01mif\u001B[39;00m \u001B[38;5;28mlen\u001B[39m(target\u001B[38;5;241m.\u001B[39mshape) \u001B[38;5;241m!=\u001B[39m \u001B[38;5;28mlen\u001B[39m(output\u001B[38;5;241m.\u001B[39mshape):\n\u001B[1;32m--> 661\u001B[0m     \u001B[38;5;28;01mraise\u001B[39;00m \u001B[38;5;167;01mValueError\u001B[39;00m(\n\u001B[0;32m    662\u001B[0m         \u001B[38;5;124m\"\u001B[39m\u001B[38;5;124mArguments `target` and `output` must have the same rank \u001B[39m\u001B[38;5;124m\"\u001B[39m\n\u001B[0;32m    663\u001B[0m         \u001B[38;5;124m\"\u001B[39m\u001B[38;5;124m(ndim). Received: \u001B[39m\u001B[38;5;124m\"\u001B[39m\n\u001B[0;32m    664\u001B[0m         \u001B[38;5;124mf\u001B[39m\u001B[38;5;124m\"\u001B[39m\u001B[38;5;124mtarget.shape=\u001B[39m\u001B[38;5;132;01m{\u001B[39;00mtarget\u001B[38;5;241m.\u001B[39mshape\u001B[38;5;132;01m}\u001B[39;00m\u001B[38;5;124m, output.shape=\u001B[39m\u001B[38;5;132;01m{\u001B[39;00moutput\u001B[38;5;241m.\u001B[39mshape\u001B[38;5;132;01m}\u001B[39;00m\u001B[38;5;124m\"\u001B[39m\n\u001B[0;32m    665\u001B[0m     )\n\u001B[0;32m    666\u001B[0m \u001B[38;5;28;01mfor\u001B[39;00m e1, e2 \u001B[38;5;129;01min\u001B[39;00m \u001B[38;5;28mzip\u001B[39m(target\u001B[38;5;241m.\u001B[39mshape, output\u001B[38;5;241m.\u001B[39mshape):\n\u001B[0;32m    667\u001B[0m     \u001B[38;5;28;01mif\u001B[39;00m e1 \u001B[38;5;129;01mis\u001B[39;00m \u001B[38;5;129;01mnot\u001B[39;00m \u001B[38;5;28;01mNone\u001B[39;00m \u001B[38;5;129;01mand\u001B[39;00m e2 \u001B[38;5;129;01mis\u001B[39;00m \u001B[38;5;129;01mnot\u001B[39;00m \u001B[38;5;28;01mNone\u001B[39;00m \u001B[38;5;129;01mand\u001B[39;00m e1 \u001B[38;5;241m!=\u001B[39m e2:\n",
      "\u001B[1;31mValueError\u001B[0m: Arguments `target` and `output` must have the same rank (ndim). Received: target.shape=(None, 15), output.shape=(None, 30, 15)"
     ]
    }
   ],
   "execution_count": 26
  },
  {
   "cell_type": "code",
   "metadata": {
    "ExecuteTime": {
     "end_time": "2024-06-26T10:33:58.575806Z",
     "start_time": "2024-06-26T10:33:58.575806Z"
    }
   },
   "source": [
    "# Vẽ biểu đồ loss và accuracy\n",
    "plot_history(history)"
   ],
   "outputs": [],
   "execution_count": null
  },
  {
   "cell_type": "code",
   "metadata": {},
   "source": [
    "print(f\"Số lượng categories: {len(categories)}\")\n",
    "print(f\"Số lượng outputs của mô hình: {num_classes}\")"
   ],
   "outputs": [],
   "execution_count": null
  },
  {
   "cell_type": "code",
   "metadata": {},
   "source": [
    "# Lưu tokenizer và categories\n",
    "joblib.dump(categories, 'categories.joblib')\n",
    "joblib.dump(tokenizer, 'tokenizer.joblib')\n",
    "\n",
    "# Định nghĩa và sử dụng hàm dự đoán\n",
    "def predict_project_category(project_name):\n",
    "    # Chuyển đổi tên dự án thành chuỗi số\n",
    "    sequence = tokenizer.texts_to_sequences([project_name])\n",
    "    padded_sequence = pad_sequences(sequence, maxlen=max_length)  # Sử dụng max_length đã xác định khi huấn luyện\n",
    "\n",
    "    # Thực hiện dự đoán\n",
    "    prediction = model.predict(padded_sequence)\n",
    "    predicted_categories = (prediction > 0.2).astype(int)\n",
    "\n",
    "    # Ánh xạ dự đoán thành tên chủ đề\n",
    "    predicted_labels = [categories[idx] for idx, is_present in enumerate(predicted_categories[0]) if is_present]\n",
    "    return ', '.join(predicted_labels) if predicted_labels else 'Không xác định'"
   ],
   "outputs": [],
   "execution_count": null
  },
  {
   "cell_type": "code",
   "metadata": {},
   "source": [
    "# Computer Science - AI\n",
    "# Xây dựng hệ thống chatbot tự động tư vấn tuyển sinh\n",
    "# Dự đoán doanh thu bán hàng dựa trên phân tích dữ liệu\n",
    "# Phân loại cảm xúc trong văn bản tiếng Việt\n",
    "# Nhận dạng giọng nói và chuyển đổi thành văn bản tiếng Việt\n",
    "# Hệ thống phát hiện gian lận giao dịch ngân hàng\n",
    "# Ứng dụng AI trong phân tích y học\n",
    "# Xây dựng hệ thống đề xuất sản phẩm dựa trên sở thích khách hàng\n",
    "# Phân loại ảnh và nhận diện đối tượng trong môi trường thực tế\n",
    "# Hệ thống quản lý học tập thông minh\n",
    "# Tối ưu hóa lộ trình vận chuyển hàng hóa\n",
    "\n",
    "# Dùng website để mua đồ chơi cho trẻ\n",
    "# Dùng website để quản trị nhà máy điện\n",
    "# Xây dựng ứng dụng để quản lý thiết bị thông minh - X"
   ],
   "outputs": [],
   "execution_count": null
  },
  {
   "cell_type": "code",
   "metadata": {},
   "source": [
    "# project_name = \"Xây dựng ứng dụng để quản lý thiết bị thông minh\"\n",
    "project_name = \"Lập trình trí tuệ nhân tạo để dự đoán giá nhà\"\n",
    "# project_name = \"Sử dụng blockchain vào hệ thống ngân hàng\"\n",
    "# project_name = \"Dùng website để quản trị nhà máy điện\" # Ngoài lề - đã add\n",
    "# project_name = \"Ứng dụng AI trong phân tích y học\" # Ngoài lề - đã add\n",
    "# project_name = \"Xây dựng hệ thống chatbot tự động tư vấn tuyển sinh\" # X\n",
    "# project_name = \"Dùng website để mua đồ chơi cho trẻ\" # Ok\n",
    "# project_name = \"Xây dựng ứng dụng để cải thiện hiệu xất văn phòng\"\n",
    "project_name = 'Nghiên cứu công nghệ blockchain và ứng dụng vào game'\n",
    "predicted_category = predict_project_category(project_name)\n",
    "print(f\"Đề tài: {project_name}\\nThuộc các chủ đề: {predicted_category}\")"
   ],
   "outputs": [],
   "execution_count": null
  },
  {
   "cell_type": "code",
   "metadata": {},
   "source": [],
   "outputs": [],
   "execution_count": null
  }
 ],
 "metadata": {
  "kernelspec": {
   "display_name": "dacs",
   "language": "python",
   "name": "python3"
  },
  "language_info": {
   "codemirror_mode": {
    "name": "ipython",
    "version": 3
   },
   "file_extension": ".py",
   "mimetype": "text/x-python",
   "name": "python",
   "nbconvert_exporter": "python",
   "pygments_lexer": "ipython3",
   "version": "3.12.3"
  }
 },
 "nbformat": 4,
 "nbformat_minor": 2
}
