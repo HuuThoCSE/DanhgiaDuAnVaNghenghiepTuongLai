{
 "cells": [
  {
   "cell_type": "code",
   "execution_count": 1,
   "metadata": {},
   "outputs": [],
   "source": [
    "# !pip install tensorflow"
   ]
  },
  {
   "cell_type": "code",
   "execution_count": 2,
   "metadata": {},
   "outputs": [
    {
     "name": "stdout",
     "output_type": "stream",
     "text": [
      " Volume in drive D is New Volume\n",
      " Volume Serial Number is DC85-82A4\n",
      "\n",
      " Directory of d:\\Github\\DanhgiaDuAnVaNghenghiepTuongLai\\code_ai\\TestCode_ver1\n",
      "\n",
      "06/13/2024  10:31 AM    <DIR>          .\n",
      "06/13/2024  09:37 AM    <DIR>          ..\n",
      "06/13/2024  10:30 AM        17,579,007 best_model.keras\n",
      "06/13/2024  10:31 AM               772 categories.joblib\n",
      "06/13/2024  10:30 AM                30 config.txt\n",
      "06/13/2024  10:16 AM            14,503 predict.ipynb\n",
      "06/13/2024  10:30 AM           164,450 TestCode6.ipynb\n",
      "06/13/2024  10:31 AM            37,523 tokenizer.joblib\n",
      "               6 File(s)     17,796,285 bytes\n",
      "               2 Dir(s)  29,375,234,048 bytes free\n"
     ]
    }
   ],
   "source": [
    "!dir"
   ]
  },
  {
   "cell_type": "code",
   "execution_count": 3,
   "metadata": {},
   "outputs": [
    {
     "name": "stdout",
     "output_type": "stream",
     "text": [
      "Deleted file - d:\\Github\\DanhgiaDuAnVaNghenghiepTuongLai\\code_ai\\TestCode_ver1\\categories.joblib\n",
      "Deleted file - d:\\Github\\DanhgiaDuAnVaNghenghiepTuongLai\\code_ai\\TestCode_ver1\\tokenizer.joblib\n"
     ]
    }
   ],
   "source": [
    "!del /s /q categories.joblib\n",
    "!del /s /q tokenizer.joblib"
   ]
  },
  {
   "cell_type": "code",
   "execution_count": 4,
   "metadata": {},
   "outputs": [],
   "source": [
    "from tensorflow.keras.models import Sequential\n",
    "from tensorflow.keras.layers import Embedding, LSTM, Dense, Dropout, GRU\n",
    "from tensorflow.keras.callbacks import EarlyStopping, ModelCheckpoint\n",
    "from tensorflow.keras.preprocessing.text import Tokenizer\n",
    "from tensorflow.keras.preprocessing.sequence import pad_sequences\n",
    "from sklearn.model_selection import train_test_split\n",
    "import matplotlib.pyplot as plt\n",
    "import numpy as np\n",
    "import pandas as pd"
   ]
  },
  {
   "cell_type": "code",
   "execution_count": 5,
   "metadata": {},
   "outputs": [],
   "source": [
    "# Hàm xây dựng mô hình tối ưu\n",
    "def build_model(vocab_size, num_classes, input_length):\n",
    "    model = Sequential([\n",
    "        Embedding(input_dim=vocab_size, output_dim=128, input_length=input_length),\n",
    "        LSTM(128, return_sequences=True),\n",
    "        Dropout(0.2),\n",
    "        LSTM(64),\n",
    "        Dropout(0.2),\n",
    "        Dense(num_classes, activation='sigmoid')\n",
    "    ])\n",
    "    model.compile(loss='binary_crossentropy', optimizer='adam', metrics=['accuracy'])\n",
    "    return model"
   ]
  },
  {
   "cell_type": "code",
   "execution_count": 6,
   "metadata": {},
   "outputs": [],
   "source": [
    "# Hàm vẽ biểu đồ\n",
    "def plot_history(history):\n",
    "    plt.figure(figsize=(12, 6))\n",
    "\n",
    "    plt.subplot(1, 2, 1)\n",
    "    plt.plot(history.history['loss'], label='Training Loss')\n",
    "    plt.plot(history.history['val_loss'], label='Validation Loss')\n",
    "    plt.title('Biểu đồ Loss')\n",
    "    plt.xlabel('Epoch')\n",
    "    plt.ylabel('Loss')\n",
    "    plt.legend()\n",
    "\n",
    "    plt.subplot(1, 2, 2)\n",
    "    plt.plot(history.history['accuracy'], label='Training Accuracy')\n",
    "    plt.plot(history.history['val_accuracy'], label='Validation Accuracy')\n",
    "    plt.title('Biểu đồ Accuracy')\n",
    "    plt.xlabel('Epoch')\n",
    "    plt.ylabel('Accuracy')\n",
    "    plt.legend()\n",
    "\n",
    "    plt.tight_layout()\n",
    "    plt.show()"
   ]
  },
  {
   "cell_type": "code",
   "execution_count": 7,
   "metadata": {},
   "outputs": [],
   "source": [
    "# Tạo từ điển ánh xạ với nhóm từ khóa cho mỗi chủ đề\n",
    "technically = {\n",
    "    'website': ['website', 'web'],\n",
    "    'mobile-app': ['mobile app', 'app di động', 'Xây dựng ứng dụng', 'Xây dựng Ứng dụng', 'Ứng dụng di động', 'Phát triển ứng dụng', 'Xây dựng ứng dụng'],\n",
    "    'game': ['game'],\n",
    "    'chatbot': ['chatbot', 'chat bot'],\n",
    "    'artificial-intelligence': ['trí tuệ nhân tạo'],\n",
    "    'machine-learning': ['machine learning', 'máy học'],\n",
    "    'deep-learning': ['deep learning', 'học sâu'],\n",
    "    'computer-vision': ['computer vision', 'thị giác máy tính'],\n",
    "    'big-data': ['big data', 'dữ liệu lớn', 'bigdata'],\n",
    "    'data-analysis': ['data analysis', 'phân tích dữ liệu'],\n",
    "    'cloud-computing': ['cloud computing', 'điện toán đám mây', 'K8s', 'kubernetes'],\n",
    "    'blockchain': ['blockchain', 'chuỗi khối', 'NFT'],\n",
    "    'robot': ['robot', 'robotics', 'robotic'],\n",
    "    'drone': ['drone', 'flycam'],\n",
    "    'vr': ['vr', 'thực tế ảo', 'virtual reality'],\n",
    "    'iot': ['nhà thông minh', 'thiết bị thông minh'],\n",
    "}"
   ]
  },
  {
   "cell_type": "code",
   "execution_count": 8,
   "metadata": {},
   "outputs": [],
   "source": [
    "# Hàm phân loại chủ đề\n",
    "def categorize_project(project_name):\n",
    "    matched_themes = []\n",
    "    for theme, keywords in technically.items():\n",
    "        if any(keyword.lower() in project_name.lower() for keyword in keywords):\n",
    "            matched_themes.append(theme)\n",
    "    return ', '.join(matched_themes) if matched_themes else 'other'"
   ]
  },
  {
   "cell_type": "code",
   "execution_count": 9,
   "metadata": {},
   "outputs": [],
   "source": [
    "# Tải dữ liệu\n",
    "pd_data = pd.read_csv('D:/Github/DanhgiaDuAnVaNghenghiepTuongLai/dataset/dataset_train_ver1.csv')\n",
    "\n",
    "df = pd_data[['nameProject_VNI']].copy()\n",
    "\n",
    "# Đếm số lần xuất hiện của mỗi tên dự án\n",
    "project_counts = df['nameProject_VNI'].value_counts()\n",
    "# Hiển thị các tên dự án có số lần xuất hiện nhiều hơn 1\n",
    "duplicate_projects = project_counts[project_counts > 1]\n",
    "# print(duplicate_projects)\n",
    "\n",
    "# Lọc và hiển thị các bản ghi có tên dự án trùng lặp\n",
    "duplicates = df[df['nameProject_VNI'].isin(duplicate_projects.index)]\n",
    "# print(duplicates)\n",
    "\n",
    "# Loại bỏ các trùng lặp, chỉ giữ lại bản ghi đầu tiên\n",
    "df = df.drop_duplicates(subset=['nameProject_VNI'], keep='first')\n",
    "\n",
    "# Loại bỏ các trùng lặp, chỉ giữ lại bản ghi cuối cùng\n",
    "# df_deduplicated = df.drop_duplicates(subset=['nameProject_VNI'], keep='last')\n",
    "\n",
    "# Chọn `keep='first'` để giữ lại bản ghi đầu tiên của mỗi tên dự án trùng lặp và loại bỏ phần còn lại; hoặc chọn `keep='last'` để làm ngược lại."
   ]
  },
  {
   "cell_type": "code",
   "execution_count": 10,
   "metadata": {},
   "outputs": [
    {
     "name": "stdout",
     "output_type": "stream",
     "text": [
      "Series([], Name: count, dtype: int64)\n"
     ]
    }
   ],
   "source": [
    "# Đếm số lần xuất hiện của mỗi tên dự án\n",
    "project_counts = df['nameProject_VNI'].value_counts()\n",
    "# Hiển thị các tên dự án có số lần xuất hiện nhiều hơn 1\n",
    "duplicate_projects = project_counts[project_counts > 1]\n",
    "print(duplicate_projects)"
   ]
  },
  {
   "cell_type": "code",
   "execution_count": 11,
   "metadata": {},
   "outputs": [],
   "source": [
    "df['category'] = df['nameProject_VNI'].apply(categorize_project)\n",
    "# pd_data\n",
    "# print(df)"
   ]
  },
  {
   "cell_type": "code",
   "execution_count": 12,
   "metadata": {},
   "outputs": [
    {
     "data": {
      "text/plain": [
       "<Axes: xlabel='count', ylabel='note'>"
      ]
     },
     "execution_count": 12,
     "metadata": {},
     "output_type": "execute_result"
    },
    {
     "data": {
      "image/png": "[encoded data removed]",
      "text/plain": [
       "<Figure size 640x480 with 1 Axes>"
      ]
     },
     "metadata": {},
     "output_type": "display_data"
    }
   ],
   "source": [
    "# UIT: Đại học Công nghệ thông tin HCM\n",
    "# DUT: Đại học Đại học Bách Khoa - Đại học Đà Nẵng\n",
    "# HCMUS: Đại học Khoa học Tự nhiên - Đại học Quốc gia TP.HCM\n",
    "import seaborn as sns\n",
    "sns.countplot(pd_data['note'])"
   ]
  },
  {
   "cell_type": "code",
   "execution_count": 13,
   "metadata": {},
   "outputs": [
    {
     "data": {
      "text/plain": [
       "note\n",
       "Hướng nghiên cứu                 23\n",
       "Bộ dữ liệu cho sẵn                5\n",
       "Gợi ý bán hàng, nhạc, phim        2\n",
       "Đáp ứng được một số yêu cầu       1\n",
       "Gợi ý kết bạn, treo quảng cáo     1\n",
       "Name: count, dtype: int64"
      ]
     },
     "execution_count": 13,
     "metadata": {},
     "output_type": "execute_result"
    }
   ],
   "source": [
    "# Số lượng đồ án của từng trường ĐH\n",
    "pd_data['note'].value_counts()"
   ]
  },
  {
   "cell_type": "code",
   "execution_count": 14,
   "metadata": {},
   "outputs": [],
   "source": [
    "# Tạo các cột chỉ báo cho mỗi chủ đề\n",
    "category_dummies = pd.get_dummies(df['category'].apply(lambda x: x.split(', ')).explode()).groupby(level=0).sum()\n",
    "df = pd.concat([df, category_dummies], axis=1)"
   ]
  },
  {
   "cell_type": "code",
   "execution_count": 15,
   "metadata": {},
   "outputs": [
    {
     "data": {
      "text/html": [
       "<div>\n",
       "<style scoped>\n",
       "    .dataframe tbody tr th:only-of-type {\n",
       "        vertical-align: middle;\n",
       "    }\n",
       "\n",
       "    .dataframe tbody tr th {\n",
       "        vertical-align: top;\n",
       "    }\n",
       "\n",
       "    .dataframe thead th {\n",
       "        text-align: right;\n",
       "    }\n",
       "</style>\n",
       "<table border=\"1\" class=\"dataframe\">\n",
       "  <thead>\n",
       "    <tr style=\"text-align: right;\">\n",
       "      <th></th>\n",
       "      <th>nameProject_VNI</th>\n",
       "      <th>category</th>\n",
       "      <th>artificial-intelligence</th>\n",
       "      <th>big-data</th>\n",
       "      <th>blockchain</th>\n",
       "      <th>chatbot</th>\n",
       "      <th>cloud-computing</th>\n",
       "      <th>computer-vision</th>\n",
       "      <th>data-analysis</th>\n",
       "      <th>deep-learning</th>\n",
       "      <th>drone</th>\n",
       "      <th>game</th>\n",
       "      <th>iot</th>\n",
       "      <th>machine-learning</th>\n",
       "      <th>mobile-app</th>\n",
       "      <th>other</th>\n",
       "      <th>robot</th>\n",
       "      <th>website</th>\n",
       "    </tr>\n",
       "  </thead>\n",
       "  <tbody>\n",
       "    <tr>\n",
       "      <th>0</th>\n",
       "      <td>Xây dựng hệ thống quản lý sân cầu lông</td>\n",
       "      <td>other</td>\n",
       "      <td>0</td>\n",
       "      <td>0</td>\n",
       "      <td>0</td>\n",
       "      <td>0</td>\n",
       "      <td>0</td>\n",
       "      <td>0</td>\n",
       "      <td>0</td>\n",
       "      <td>0</td>\n",
       "      <td>0</td>\n",
       "      <td>0</td>\n",
       "      <td>0</td>\n",
       "      <td>0</td>\n",
       "      <td>0</td>\n",
       "      <td>1</td>\n",
       "      <td>0</td>\n",
       "      <td>0</td>\n",
       "    </tr>\n",
       "    <tr>\n",
       "      <th>1</th>\n",
       "      <td>Tìm hiểu công nghệ Web 3.0 và ứng dụng web 3.0...</td>\n",
       "      <td>website</td>\n",
       "      <td>0</td>\n",
       "      <td>0</td>\n",
       "      <td>0</td>\n",
       "      <td>0</td>\n",
       "      <td>0</td>\n",
       "      <td>0</td>\n",
       "      <td>0</td>\n",
       "      <td>0</td>\n",
       "      <td>0</td>\n",
       "      <td>0</td>\n",
       "      <td>0</td>\n",
       "      <td>0</td>\n",
       "      <td>0</td>\n",
       "      <td>0</td>\n",
       "      <td>0</td>\n",
       "      <td>1</td>\n",
       "    </tr>\n",
       "    <tr>\n",
       "      <th>2</th>\n",
       "      <td>Xây dựng hệ thống trợ giúp tư vấn hướng nghiệp...</td>\n",
       "      <td>other</td>\n",
       "      <td>0</td>\n",
       "      <td>0</td>\n",
       "      <td>0</td>\n",
       "      <td>0</td>\n",
       "      <td>0</td>\n",
       "      <td>0</td>\n",
       "      <td>0</td>\n",
       "      <td>0</td>\n",
       "      <td>0</td>\n",
       "      <td>0</td>\n",
       "      <td>0</td>\n",
       "      <td>0</td>\n",
       "      <td>0</td>\n",
       "      <td>1</td>\n",
       "      <td>0</td>\n",
       "      <td>0</td>\n",
       "    </tr>\n",
       "    <tr>\n",
       "      <th>3</th>\n",
       "      <td>Xây dựng mạng xã hội kết hợp chatbot cho người...</td>\n",
       "      <td>chatbot</td>\n",
       "      <td>0</td>\n",
       "      <td>0</td>\n",
       "      <td>0</td>\n",
       "      <td>1</td>\n",
       "      <td>0</td>\n",
       "      <td>0</td>\n",
       "      <td>0</td>\n",
       "      <td>0</td>\n",
       "      <td>0</td>\n",
       "      <td>0</td>\n",
       "      <td>0</td>\n",
       "      <td>0</td>\n",
       "      <td>0</td>\n",
       "      <td>0</td>\n",
       "      <td>0</td>\n",
       "      <td>0</td>\n",
       "    </tr>\n",
       "    <tr>\n",
       "      <th>4</th>\n",
       "      <td>Tìm hiểu Chatbot và xây dựng ứng dụng hỗ trợ t...</td>\n",
       "      <td>mobile-app, chatbot</td>\n",
       "      <td>0</td>\n",
       "      <td>0</td>\n",
       "      <td>0</td>\n",
       "      <td>1</td>\n",
       "      <td>0</td>\n",
       "      <td>0</td>\n",
       "      <td>0</td>\n",
       "      <td>0</td>\n",
       "      <td>0</td>\n",
       "      <td>0</td>\n",
       "      <td>0</td>\n",
       "      <td>0</td>\n",
       "      <td>1</td>\n",
       "      <td>0</td>\n",
       "      <td>0</td>\n",
       "      <td>0</td>\n",
       "    </tr>\n",
       "    <tr>\n",
       "      <th>...</th>\n",
       "      <td>...</td>\n",
       "      <td>...</td>\n",
       "      <td>...</td>\n",
       "      <td>...</td>\n",
       "      <td>...</td>\n",
       "      <td>...</td>\n",
       "      <td>...</td>\n",
       "      <td>...</td>\n",
       "      <td>...</td>\n",
       "      <td>...</td>\n",
       "      <td>...</td>\n",
       "      <td>...</td>\n",
       "      <td>...</td>\n",
       "      <td>...</td>\n",
       "      <td>...</td>\n",
       "      <td>...</td>\n",
       "      <td>...</td>\n",
       "      <td>...</td>\n",
       "    </tr>\n",
       "    <tr>\n",
       "      <th>610</th>\n",
       "      <td>Tìm hiểu về Data Warehouse</td>\n",
       "      <td>other</td>\n",
       "      <td>0</td>\n",
       "      <td>0</td>\n",
       "      <td>0</td>\n",
       "      <td>0</td>\n",
       "      <td>0</td>\n",
       "      <td>0</td>\n",
       "      <td>0</td>\n",
       "      <td>0</td>\n",
       "      <td>0</td>\n",
       "      <td>0</td>\n",
       "      <td>0</td>\n",
       "      <td>0</td>\n",
       "      <td>0</td>\n",
       "      <td>1</td>\n",
       "      <td>0</td>\n",
       "      <td>0</td>\n",
       "    </tr>\n",
       "    <tr>\n",
       "      <th>611</th>\n",
       "      <td>Tìm hiểu phương pháp phân tích tương tác sản p...</td>\n",
       "      <td>other</td>\n",
       "      <td>0</td>\n",
       "      <td>0</td>\n",
       "      <td>0</td>\n",
       "      <td>0</td>\n",
       "      <td>0</td>\n",
       "      <td>0</td>\n",
       "      <td>0</td>\n",
       "      <td>0</td>\n",
       "      <td>0</td>\n",
       "      <td>0</td>\n",
       "      <td>0</td>\n",
       "      <td>0</td>\n",
       "      <td>0</td>\n",
       "      <td>1</td>\n",
       "      <td>0</td>\n",
       "      <td>0</td>\n",
       "    </tr>\n",
       "    <tr>\n",
       "      <th>612</th>\n",
       "      <td>Tìm hiểu một số phương pháp phân tích dữ liệu ...</td>\n",
       "      <td>machine-learning, data-analysis</td>\n",
       "      <td>0</td>\n",
       "      <td>0</td>\n",
       "      <td>0</td>\n",
       "      <td>0</td>\n",
       "      <td>0</td>\n",
       "      <td>0</td>\n",
       "      <td>1</td>\n",
       "      <td>0</td>\n",
       "      <td>0</td>\n",
       "      <td>0</td>\n",
       "      <td>0</td>\n",
       "      <td>1</td>\n",
       "      <td>0</td>\n",
       "      <td>0</td>\n",
       "      <td>0</td>\n",
       "      <td>0</td>\n",
       "    </tr>\n",
       "    <tr>\n",
       "      <th>613</th>\n",
       "      <td>Tìm hiểu về phân tích dữ liệu trong kinh doanh</td>\n",
       "      <td>data-analysis</td>\n",
       "      <td>0</td>\n",
       "      <td>0</td>\n",
       "      <td>0</td>\n",
       "      <td>0</td>\n",
       "      <td>0</td>\n",
       "      <td>0</td>\n",
       "      <td>1</td>\n",
       "      <td>0</td>\n",
       "      <td>0</td>\n",
       "      <td>0</td>\n",
       "      <td>0</td>\n",
       "      <td>0</td>\n",
       "      <td>0</td>\n",
       "      <td>0</td>\n",
       "      <td>0</td>\n",
       "      <td>0</td>\n",
       "    </tr>\n",
       "    <tr>\n",
       "      <th>614</th>\n",
       "      <td>Xây dựng ứng dụng để quản lý thiết bị thông minh</td>\n",
       "      <td>mobile-app, iot</td>\n",
       "      <td>0</td>\n",
       "      <td>0</td>\n",
       "      <td>0</td>\n",
       "      <td>0</td>\n",
       "      <td>0</td>\n",
       "      <td>0</td>\n",
       "      <td>0</td>\n",
       "      <td>0</td>\n",
       "      <td>0</td>\n",
       "      <td>0</td>\n",
       "      <td>1</td>\n",
       "      <td>0</td>\n",
       "      <td>1</td>\n",
       "      <td>0</td>\n",
       "      <td>0</td>\n",
       "      <td>0</td>\n",
       "    </tr>\n",
       "  </tbody>\n",
       "</table>\n",
       "<p>569 rows × 18 columns</p>\n",
       "</div>"
      ],
      "text/plain": [
       "                                       nameProject_VNI  \\\n",
       "0               Xây dựng hệ thống quản lý sân cầu lông   \n",
       "1    Tìm hiểu công nghệ Web 3.0 và ứng dụng web 3.0...   \n",
       "2    Xây dựng hệ thống trợ giúp tư vấn hướng nghiệp...   \n",
       "3    Xây dựng mạng xã hội kết hợp chatbot cho người...   \n",
       "4    Tìm hiểu Chatbot và xây dựng ứng dụng hỗ trợ t...   \n",
       "..                                                 ...   \n",
       "610                         Tìm hiểu về Data Warehouse   \n",
       "611  Tìm hiểu phương pháp phân tích tương tác sản p...   \n",
       "612  Tìm hiểu một số phương pháp phân tích dữ liệu ...   \n",
       "613     Tìm hiểu về phân tích dữ liệu trong kinh doanh   \n",
       "614   Xây dựng ứng dụng để quản lý thiết bị thông minh   \n",
       "\n",
       "                            category  artificial-intelligence  big-data  \\\n",
       "0                              other                        0         0   \n",
       "1                            website                        0         0   \n",
       "2                              other                        0         0   \n",
       "3                            chatbot                        0         0   \n",
       "4                mobile-app, chatbot                        0         0   \n",
       "..                               ...                      ...       ...   \n",
       "610                            other                        0         0   \n",
       "611                            other                        0         0   \n",
       "612  machine-learning, data-analysis                        0         0   \n",
       "613                    data-analysis                        0         0   \n",
       "614                  mobile-app, iot                        0         0   \n",
       "\n",
       "     blockchain  chatbot  cloud-computing  computer-vision  data-analysis  \\\n",
       "0             0        0                0                0              0   \n",
       "1             0        0                0                0              0   \n",
       "2             0        0                0                0              0   \n",
       "3             0        1                0                0              0   \n",
       "4             0        1                0                0              0   \n",
       "..          ...      ...              ...              ...            ...   \n",
       "610           0        0                0                0              0   \n",
       "611           0        0                0                0              0   \n",
       "612           0        0                0                0              1   \n",
       "613           0        0                0                0              1   \n",
       "614           0        0                0                0              0   \n",
       "\n",
       "     deep-learning  drone  game  iot  machine-learning  mobile-app  other  \\\n",
       "0                0      0     0    0                 0           0      1   \n",
       "1                0      0     0    0                 0           0      0   \n",
       "2                0      0     0    0                 0           0      1   \n",
       "3                0      0     0    0                 0           0      0   \n",
       "4                0      0     0    0                 0           1      0   \n",
       "..             ...    ...   ...  ...               ...         ...    ...   \n",
       "610              0      0     0    0                 0           0      1   \n",
       "611              0      0     0    0                 0           0      1   \n",
       "612              0      0     0    0                 1           0      0   \n",
       "613              0      0     0    0                 0           0      0   \n",
       "614              0      0     0    1                 0           1      0   \n",
       "\n",
       "     robot  website  \n",
       "0        0        0  \n",
       "1        0        1  \n",
       "2        0        0  \n",
       "3        0        0  \n",
       "4        0        0  \n",
       "..     ...      ...  \n",
       "610      0        0  \n",
       "611      0        0  \n",
       "612      0        0  \n",
       "613      0        0  \n",
       "614      0        0  \n",
       "\n",
       "[569 rows x 18 columns]"
      ]
     },
     "execution_count": 15,
     "metadata": {},
     "output_type": "execute_result"
    }
   ],
   "source": [
    "df"
   ]
  },
  {
   "cell_type": "code",
   "execution_count": 16,
   "metadata": {},
   "outputs": [],
   "source": [
    "# Lấy văn bản dự án và các nhãn\n",
    "texts = df['nameProject_VNI'].values\n",
    "categories = df.columns.difference(['nameProject_VNI', 'category'])\n",
    "labels = df[categories].values"
   ]
  },
  {
   "cell_type": "code",
   "execution_count": 17,
   "metadata": {},
   "outputs": [],
   "source": [
    "# Chuẩn bị tokenizer và padding\n",
    "num_words = 10000\n",
    "tokenizer = Tokenizer(num_words=num_words)\n",
    "tokenizer.fit_on_texts(texts)\n",
    "# Chuyển đổi văn bản thành chuỗi số\n",
    "sequences = tokenizer.texts_to_sequences(texts)\n",
    "max_length = max(len(seq) for seq in sequences)\n",
    "data = pad_sequences(sequences, maxlen=max_length)\n",
    "\n",
    "# Lưu các thông tin vào file txt\n",
    "with open('config.txt', 'w') as file:\n",
    "    file.write(f'MaxLength:{max_length}\\n')\n",
    "    file.write(f'NumWords:{num_words}\\n')"
   ]
  },
  {
   "cell_type": "code",
   "execution_count": 18,
   "metadata": {},
   "outputs": [],
   "source": [
    "# Chia dữ liệu thành huấn luyện và thử nghiệm\n",
    "X_train, X_test, y_train, y_test = train_test_split(data, labels, test_size=0.2)"
   ]
  },
  {
   "cell_type": "code",
   "execution_count": 19,
   "metadata": {},
   "outputs": [
    {
     "name": "stderr",
     "output_type": "stream",
     "text": [
      "c:\\Users\\huuth\\miniconda3\\envs\\dacs\\Lib\\site-packages\\keras\\src\\layers\\core\\embedding.py:90: UserWarning: Argument `input_length` is deprecated. Just remove it.\n",
      "  warnings.warn(\n"
     ]
    }
   ],
   "source": [
    "# Khởi tạo mô hình\n",
    "model = build_model(10000, len(categories), max_length)"
   ]
  },
  {
   "cell_type": "code",
   "execution_count": 20,
   "metadata": {},
   "outputs": [],
   "source": [
    "# Early stopping và checkpoint\n",
    "early_stopping = EarlyStopping(monitor='val_loss', patience=5, restore_best_weights=True)\n",
    "checkpoint = ModelCheckpoint('best_model.keras', monitor='val_loss', save_best_only=True)"
   ]
  },
  {
   "cell_type": "code",
   "execution_count": 21,
   "metadata": {},
   "outputs": [
    {
     "name": "stdout",
     "output_type": "stream",
     "text": [
      "Deleted file - d:\\Github\\DanhgiaDuAnVaNghenghiepTuongLai\\code_ai\\TestCode_ver1\\best_model.keras\n",
      "Epoch 1/100\n",
      "\u001b[1m15/15\u001b[0m \u001b[32m━━━━━━━━━━━━━━━━━━━━\u001b[0m\u001b[37m\u001b[0m \u001b[1m5s\u001b[0m 73ms/step - accuracy: 0.1210 - loss: 0.5871 - val_accuracy: 0.4123 - val_loss: 0.2786\n",
      "Epoch 2/100\n",
      "\u001b[1m15/15\u001b[0m \u001b[32m━━━━━━━━━━━━━━━━━━━━\u001b[0m\u001b[37m\u001b[0m \u001b[1m1s\u001b[0m 44ms/step - accuracy: 0.3638 - loss: 0.2526 - val_accuracy: 0.4123 - val_loss: 0.1990\n",
      "Epoch 3/100\n",
      "\u001b[1m15/15\u001b[0m \u001b[32m━━━━━━━━━━━━━━━━━━━━\u001b[0m\u001b[37m\u001b[0m \u001b[1m1s\u001b[0m 45ms/step - accuracy: 0.3515 - loss: 0.1973 - val_accuracy: 0.4123 - val_loss: 0.1834\n",
      "Epoch 4/100\n",
      "\u001b[1m15/15\u001b[0m \u001b[32m━━━━━━━━━━━━━━━━━━━━\u001b[0m\u001b[37m\u001b[0m \u001b[1m1s\u001b[0m 44ms/step - accuracy: 0.3842 - loss: 0.1870 - val_accuracy: 0.4123 - val_loss: 0.1770\n",
      "Epoch 5/100\n",
      "\u001b[1m15/15\u001b[0m \u001b[32m━━━━━━━━━━━━━━━━━━━━\u001b[0m\u001b[37m\u001b[0m \u001b[1m1s\u001b[0m 44ms/step - accuracy: 0.4076 - loss: 0.1742 - val_accuracy: 0.4123 - val_loss: 0.1748\n",
      "Epoch 6/100\n",
      "\u001b[1m15/15\u001b[0m \u001b[32m━━━━━━━━━━━━━━━━━━━━\u001b[0m\u001b[37m\u001b[0m \u001b[1m1s\u001b[0m 45ms/step - accuracy: 0.3306 - loss: 0.1834 - val_accuracy: 0.4123 - val_loss: 0.1745\n",
      "Epoch 7/100\n",
      "\u001b[1m15/15\u001b[0m \u001b[32m━━━━━━━━━━━━━━━━━━━━\u001b[0m\u001b[37m\u001b[0m \u001b[1m1s\u001b[0m 44ms/step - accuracy: 0.3425 - loss: 0.1801 - val_accuracy: 0.4123 - val_loss: 0.1730\n",
      "Epoch 8/100\n",
      "\u001b[1m15/15\u001b[0m \u001b[32m━━━━━━━━━━━━━━━━━━━━\u001b[0m\u001b[37m\u001b[0m \u001b[1m1s\u001b[0m 45ms/step - accuracy: 0.4024 - loss: 0.1730 - val_accuracy: 0.4123 - val_loss: 0.1725\n",
      "Epoch 9/100\n",
      "\u001b[1m15/15\u001b[0m \u001b[32m━━━━━━━━━━━━━━━━━━━━\u001b[0m\u001b[37m\u001b[0m \u001b[1m1s\u001b[0m 45ms/step - accuracy: 0.4040 - loss: 0.1755 - val_accuracy: 0.4123 - val_loss: 0.1717\n",
      "Epoch 10/100\n",
      "\u001b[1m15/15\u001b[0m \u001b[32m━━━━━━━━━━━━━━━━━━━━\u001b[0m\u001b[37m\u001b[0m \u001b[1m1s\u001b[0m 44ms/step - accuracy: 0.3778 - loss: 0.1757 - val_accuracy: 0.4123 - val_loss: 0.1711\n",
      "Epoch 11/100\n",
      "\u001b[1m15/15\u001b[0m \u001b[32m━━━━━━━━━━━━━━━━━━━━\u001b[0m\u001b[37m\u001b[0m \u001b[1m1s\u001b[0m 44ms/step - accuracy: 0.3767 - loss: 0.1727 - val_accuracy: 0.4123 - val_loss: 0.1709\n",
      "Epoch 12/100\n",
      "\u001b[1m15/15\u001b[0m \u001b[32m━━━━━━━━━━━━━━━━━━━━\u001b[0m\u001b[37m\u001b[0m \u001b[1m1s\u001b[0m 47ms/step - accuracy: 0.3928 - loss: 0.1772 - val_accuracy: 0.4123 - val_loss: 0.1692\n",
      "Epoch 13/100\n",
      "\u001b[1m15/15\u001b[0m \u001b[32m━━━━━━━━━━━━━━━━━━━━\u001b[0m\u001b[37m\u001b[0m \u001b[1m1s\u001b[0m 43ms/step - accuracy: 0.4093 - loss: 0.1660 - val_accuracy: 0.4123 - val_loss: 0.1666\n",
      "Epoch 14/100\n",
      "\u001b[1m15/15\u001b[0m \u001b[32m━━━━━━━━━━━━━━━━━━━━\u001b[0m\u001b[37m\u001b[0m \u001b[1m1s\u001b[0m 44ms/step - accuracy: 0.4282 - loss: 0.1609 - val_accuracy: 0.5000 - val_loss: 0.1570\n",
      "Epoch 15/100\n",
      "\u001b[1m15/15\u001b[0m \u001b[32m━━━━━━━━━━━━━━━━━━━━\u001b[0m\u001b[37m\u001b[0m \u001b[1m1s\u001b[0m 45ms/step - accuracy: 0.5605 - loss: 0.1538 - val_accuracy: 0.5614 - val_loss: 0.1428\n",
      "Epoch 16/100\n",
      "\u001b[1m15/15\u001b[0m \u001b[32m━━━━━━━━━━━━━━━━━━━━\u001b[0m\u001b[37m\u001b[0m \u001b[1m1s\u001b[0m 44ms/step - accuracy: 0.6115 - loss: 0.1397 - val_accuracy: 0.6140 - val_loss: 0.1313\n",
      "Epoch 17/100\n",
      "\u001b[1m15/15\u001b[0m \u001b[32m━━━━━━━━━━━━━━━━━━━━\u001b[0m\u001b[37m\u001b[0m \u001b[1m1s\u001b[0m 43ms/step - accuracy: 0.5940 - loss: 0.1437 - val_accuracy: 0.6053 - val_loss: 0.1312\n",
      "Epoch 18/100\n",
      "\u001b[1m15/15\u001b[0m \u001b[32m━━━━━━━━━━━━━━━━━━━━\u001b[0m\u001b[37m\u001b[0m \u001b[1m1s\u001b[0m 46ms/step - accuracy: 0.5733 - loss: 0.1364 - val_accuracy: 0.6140 - val_loss: 0.1299\n",
      "Epoch 19/100\n",
      "\u001b[1m15/15\u001b[0m \u001b[32m━━━━━━━━━━━━━━━━━━━━\u001b[0m\u001b[37m\u001b[0m \u001b[1m1s\u001b[0m 49ms/step - accuracy: 0.6592 - loss: 0.1264 - val_accuracy: 0.6228 - val_loss: 0.1268\n",
      "Epoch 20/100\n",
      "\u001b[1m15/15\u001b[0m \u001b[32m━━━━━━━━━━━━━━━━━━━━\u001b[0m\u001b[37m\u001b[0m \u001b[1m1s\u001b[0m 41ms/step - accuracy: 0.6274 - loss: 0.1271 - val_accuracy: 0.5965 - val_loss: 0.1291\n",
      "Epoch 21/100\n",
      "\u001b[1m15/15\u001b[0m \u001b[32m━━━━━━━━━━━━━━━━━━━━\u001b[0m\u001b[37m\u001b[0m \u001b[1m1s\u001b[0m 47ms/step - accuracy: 0.6383 - loss: 0.1224 - val_accuracy: 0.6140 - val_loss: 0.1267\n",
      "Epoch 22/100\n",
      "\u001b[1m15/15\u001b[0m \u001b[32m━━━━━━━━━━━━━━━━━━━━\u001b[0m\u001b[37m\u001b[0m \u001b[1m1s\u001b[0m 45ms/step - accuracy: 0.6642 - loss: 0.1179 - val_accuracy: 0.6140 - val_loss: 0.1262\n",
      "Epoch 23/100\n",
      "\u001b[1m15/15\u001b[0m \u001b[32m━━━━━━━━━━━━━━━━━━━━\u001b[0m\u001b[37m\u001b[0m \u001b[1m1s\u001b[0m 41ms/step - accuracy: 0.6363 - loss: 0.1183 - val_accuracy: 0.6053 - val_loss: 0.1303\n",
      "Epoch 24/100\n",
      "\u001b[1m15/15\u001b[0m \u001b[32m━━━━━━━━━━━━━━━━━━━━\u001b[0m\u001b[37m\u001b[0m \u001b[1m1s\u001b[0m 41ms/step - accuracy: 0.6472 - loss: 0.1189 - val_accuracy: 0.6053 - val_loss: 0.1284\n",
      "Epoch 25/100\n",
      "\u001b[1m15/15\u001b[0m \u001b[32m━━━━━━━━━━━━━━━━━━━━\u001b[0m\u001b[37m\u001b[0m \u001b[1m1s\u001b[0m 42ms/step - accuracy: 0.6167 - loss: 0.1269 - val_accuracy: 0.5965 - val_loss: 0.1286\n",
      "Epoch 26/100\n",
      "\u001b[1m15/15\u001b[0m \u001b[32m━━━━━━━━━━━━━━━━━━━━\u001b[0m\u001b[37m\u001b[0m \u001b[1m1s\u001b[0m 41ms/step - accuracy: 0.6451 - loss: 0.1211 - val_accuracy: 0.5702 - val_loss: 0.1324\n",
      "Epoch 27/100\n",
      "\u001b[1m15/15\u001b[0m \u001b[32m━━━━━━━━━━━━━━━━━━━━\u001b[0m\u001b[37m\u001b[0m \u001b[1m1s\u001b[0m 42ms/step - accuracy: 0.6785 - loss: 0.1091 - val_accuracy: 0.6053 - val_loss: 0.1304\n"
     ]
    }
   ],
   "source": [
    "!del /s /q best_model.keras\n",
    "history = []\n",
    "# Huấn luyện mô hình\n",
    "history = model.fit(X_train, y_train, epochs=100, batch_size=32, validation_data=(X_test, y_test), callbacks=[early_stopping, checkpoint])"
   ]
  },
  {
   "cell_type": "code",
   "execution_count": 22,
   "metadata": {},
   "outputs": [
    {
     "data": {
      "image/png": "[encoded data removed]",
      "text/plain": [
       "<Figure size 1200x600 with 2 Axes>"
      ]
     },
     "metadata": {},
     "output_type": "display_data"
    }
   ],
   "source": [
    "# Vẽ biểu đồ loss và accuracy\n",
    "plot_history(history)"
   ]
  },
  {
   "cell_type": "code",
   "execution_count": 23,
   "metadata": {},
   "outputs": [
    {
     "data": {
      "text/plain": [
       "['tokenizer.joblib']"
      ]
     },
     "execution_count": 23,
     "metadata": {},
     "output_type": "execute_result"
    }
   ],
   "source": [
    "# Lưu tokenizer\n",
    "import joblib\n",
    "\n",
    "joblib.dump(categories, 'categories.joblib')\n",
    "joblib.dump(tokenizer, 'tokenizer.joblib')"
   ]
  },
  {
   "cell_type": "code",
   "execution_count": 24,
   "metadata": {},
   "outputs": [],
   "source": [
    "def predict_project_category(project_name):\n",
    "    # Xử lý đầu vào để phù hợp với định dạng đã huấn luyện\n",
    "    sequence = tokenizer.texts_to_sequences([project_name])\n",
    "    padded_sequence = pad_sequences(sequence, maxlen=max_length)\n",
    "    \n",
    "    # Dự đoán sử dụng mô hình đã huấn luyện\n",
    "    prediction = model.predict(padded_sequence)\n",
    "    predicted_categories = (prediction > 0.5).astype(int)\n",
    "    \n",
    "    # Ánh xạ dự đoán thành nhãn chủ đề\n",
    "    predicted_labels = []\n",
    "    for idx, category in enumerate(categories):\n",
    "        if predicted_categories[0][idx] == 1:\n",
    "            predicted_labels.append(category)\n",
    "\n",
    "    return ', '.join(predicted_labels) if predicted_labels else 'Không xác định'"
   ]
  },
  {
   "cell_type": "code",
   "execution_count": 1,
   "metadata": {},
   "outputs": [
    {
     "ename": "NameError",
     "evalue": "name 'predict_project_category' is not defined",
     "output_type": "error",
     "traceback": [
      "\u001b[1;31m---------------------------------------------------------------------------\u001b[0m",
      "\u001b[1;31mNameError\u001b[0m                                 Traceback (most recent call last)",
      "Cell \u001b[1;32mIn[1], line 4\u001b[0m\n\u001b[0;32m      1\u001b[0m \u001b[38;5;66;03m# Sử dụng hàm dự đoán\u001b[39;00m\n\u001b[0;32m      2\u001b[0m \u001b[38;5;66;03m# project_name = \"Dùng website để quản trị nhà máy điện\"\u001b[39;00m\n\u001b[0;32m      3\u001b[0m project_name \u001b[38;5;241m=\u001b[39m \u001b[38;5;124m\"\u001b[39m\u001b[38;5;124mXây dựng ứng dụng để quản lý thiết bị thông minh\u001b[39m\u001b[38;5;124m\"\u001b[39m\n\u001b[1;32m----> 4\u001b[0m predicted_category \u001b[38;5;241m=\u001b[39m \u001b[43mpredict_project_category\u001b[49m(project_name)\n\u001b[0;32m      5\u001b[0m \u001b[38;5;28mprint\u001b[39m(\u001b[38;5;124mf\u001b[39m\u001b[38;5;124m\"\u001b[39m\u001b[38;5;124mĐề tài \u001b[39m\u001b[38;5;124m'\u001b[39m\u001b[38;5;132;01m{\u001b[39;00mproject_name\u001b[38;5;132;01m}\u001b[39;00m\u001b[38;5;124m'\u001b[39m\u001b[38;5;124m thuộc các chủ đề: \u001b[39m\u001b[38;5;132;01m{\u001b[39;00mpredicted_category\u001b[38;5;132;01m}\u001b[39;00m\u001b[38;5;124m\"\u001b[39m)\n",
      "\u001b[1;31mNameError\u001b[0m: name 'predict_project_category' is not defined"
     ]
    }
   ],
   "source": [
    "# Sử dụng hàm dự đoán\n",
    "# project_name = \"Dùng website để quản trị nhà máy điện\"\n",
    "project_name = \"Xây dựng ứng dụng để quản lý thiết bị thông minh\"\n",
    "predicted_category = predict_project_category(project_name)\n",
    "print(f\"Đề tài '{project_name}' thuộc các chủ đề: {predicted_category}\")"
   ]
  }
 ],
 "metadata": {
  "kernelspec": {
   "display_name": "base",
   "language": "python",
   "name": "python3"
  },
  "language_info": {
   "codemirror_mode": {
    "name": "ipython",
    "version": 3
   },
   "file_extension": ".py",
   "mimetype": "text/x-python",
   "name": "python",
   "nbconvert_exporter": "python",
   "pygments_lexer": "ipython3",
   "version": "3.12.3"
  }
 },
 "nbformat": 4,
 "nbformat_minor": 2
}
