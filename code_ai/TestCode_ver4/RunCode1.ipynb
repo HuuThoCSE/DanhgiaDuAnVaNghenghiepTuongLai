{
 "cells": [
  {
   "cell_type": "code",
   "metadata": {
    "ExecuteTime": {
     "end_time": "2024-06-26T07:46:53.513702Z",
     "start_time": "2024-06-26T07:46:49.294586Z"
    }
   },
   "source": [
    "import os\n",
    "import joblib\n",
    "from tensorflow.keras.preprocessing.sequence import pad_sequences"
   ],
   "outputs": [],
   "execution_count": 1
  },
  {
   "cell_type": "code",
   "metadata": {
    "ExecuteTime": {
     "end_time": "2024-06-26T07:46:53.576669Z",
     "start_time": "2024-06-26T07:46:53.515219Z"
    }
   },
   "source": [
    "!dir"
   ],
   "outputs": [
    {
     "name": "stdout",
     "output_type": "stream",
     "text": [
      " Volume in drive D is New Volume\n",
      " Volume Serial Number is DC85-82A4\n",
      "\n",
      " Directory of D:\\Github\\DanhgiaDuAnVaNghenghiepTuongLai\\code_ai\\TestCode_ver4\n",
      "\n",
      "06/26/2024  02:46 PM    <DIR>          .\n",
      "06/26/2024  02:00 PM    <DIR>          ..\n",
      "06/26/2024  02:20 PM    <DIR>          .idea\n",
      "06/26/2024  02:45 PM        20,591,039 best_model.keras\n",
      "06/26/2024  02:45 PM               760 categories.joblib\n",
      "06/26/2024  02:43 PM                30 config.txt\n",
      "06/13/2024  05:43 PM             4,773 predict.ipynb\n",
      "06/26/2024  02:46 PM           194,488 RunCode1.ipynb\n",
      "06/26/2024  02:45 PM            30,475 tokenizer.joblib\n",
      "06/26/2024  02:43 PM            18,720 uncategorized_projects.csv\n",
      "               7 File(s)     20,840,285 bytes\n",
      "               3 Dir(s)  111,263,531,008 bytes free\n"
     ]
    }
   ],
   "execution_count": 2
  },
  {
   "cell_type": "code",
   "metadata": {
    "ExecuteTime": {
     "end_time": "2024-06-26T07:46:53.588560Z",
     "start_time": "2024-06-26T07:46:53.580679Z"
    }
   },
   "source": [
    "# Xóa file mô hình cũ nếu tồn tại\n",
    "if os.path.exists('best_model.keras'):\n",
    "    os.remove('best_model.keras')\n",
    "    os.remove('categories.joblib')\n",
    "    os.remove('tokenizer.joblib')\n",
    "    os.remove('uncategorized_projects.csv')"
   ],
   "outputs": [],
   "execution_count": 3
  },
  {
   "cell_type": "code",
   "metadata": {
    "ExecuteTime": {
     "end_time": "2024-06-26T07:46:53.833428Z",
     "start_time": "2024-06-26T07:46:53.589565Z"
    }
   },
   "source": [
    "from tensorflow.keras.models import Sequential\n",
    "from tensorflow.keras.layers import Embedding, LSTM, Dense, Dropout, GRU\n",
    "from tensorflow.keras.callbacks import EarlyStopping, ModelCheckpoint\n",
    "from tensorflow.keras.preprocessing.text import Tokenizer\n",
    "from tensorflow.keras.preprocessing.sequence import pad_sequences\n",
    "from sklearn.model_selection import train_test_split\n",
    "import matplotlib.pyplot as plt\n",
    "import numpy as np\n",
    "import pandas as pd"
   ],
   "outputs": [],
   "execution_count": 4
  },
  {
   "cell_type": "code",
   "metadata": {
    "ExecuteTime": {
     "end_time": "2024-06-26T07:46:53.844047Z",
     "start_time": "2024-06-26T07:46:53.834437Z"
    }
   },
   "source": [
    "from tensorflow.keras.models import Sequential\n",
    "from tensorflow.keras.layers import Embedding, LSTM, Dense, Dropout, Bidirectional, BatchNormalization\n",
    "from tensorflow.keras.optimizers import Adam\n",
    "\n",
    "# Hàm xây dựng mô hình tối ưu\n",
    "def build_model(vocab_size, num_classes, input_length):\n",
    "    model = Sequential([\n",
    "        Embedding(input_dim=vocab_size, output_dim=128, input_length=input_length),\n",
    "        Bidirectional(LSTM(128, return_sequences=True)),\n",
    "        BatchNormalization(),\n",
    "        Dropout(0.5),\n",
    "        Bidirectional(LSTM(64)),\n",
    "        BatchNormalization(),\n",
    "        Dropout(0.5),\n",
    "        Dense(num_classes, activation='sigmoid')  # Sử dụng activation 'sigmoid' cho phân loại đa nhãn\n",
    "    ])\n",
    "    model.compile(loss='binary_crossentropy', optimizer='adam', metrics=['accuracy'])\n",
    "    return model"
   ],
   "outputs": [],
   "execution_count": 5
  },
  {
   "cell_type": "code",
   "metadata": {
    "ExecuteTime": {
     "end_time": "2024-06-26T07:46:53.855668Z",
     "start_time": "2024-06-26T07:46:53.846644Z"
    }
   },
   "source": [
    "# Hàm vẽ biểu đồ\n",
    "def plot_history(history):\n",
    "    plt.figure(figsize=(12, 6))\n",
    "\n",
    "    plt.subplot(1, 2, 1)\n",
    "    plt.plot(history.history['loss'], label='Training Loss')\n",
    "    plt.plot(history.history['val_loss'], label='Validation Loss')\n",
    "    plt.title('Biểu đồ Loss')\n",
    "    plt.xlabel('Epoch')\n",
    "    plt.ylabel('Loss')\n",
    "    plt.legend()\n",
    "\n",
    "    plt.subplot(1, 2, 2)\n",
    "    plt.plot(history.history['accuracy'], label='Training Accuracy')\n",
    "    plt.plot(history.history['val_accuracy'], label='Validation Accuracy')\n",
    "    plt.title('Biểu đồ Accuracy')\n",
    "    plt.xlabel('Epoch')\n",
    "    plt.ylabel('Accuracy')\n",
    "    plt.legend()\n",
    "\n",
    "    plt.tight_layout()\n",
    "    plt.show()"
   ],
   "outputs": [],
   "execution_count": 6
  },
  {
   "cell_type": "code",
   "metadata": {
    "ExecuteTime": {
     "end_time": "2024-06-26T07:46:53.865868Z",
     "start_time": "2024-06-26T07:46:53.857675Z"
    }
   },
   "source": [
    "# Tạo từ điển ánh xạ với nhóm từ khóa cho mỗi chủ đề\n",
    "technically = {\n",
    "    'website': ['website', 'web'],\n",
    "    'mobile-app': ['mobile app', 'app di động', 'Xây dựng ứng dụng', 'Xây dựng Ứng dụng', 'Ứng dụng di động', 'Phát triển ứng dụng', 'Xây dựng ứng dụng', 'hệ thống nhận diện'],\n",
    "    'game': ['game', 'trò chơi'],\n",
    "    'chatbot': ['chatbot', 'chat bot'],\n",
    "    'artificial-intelligence': ['trí tuệ nhân tạo', 'Yolo', 'AIOT'],\n",
    "    'machine-learning': ['machine learning', 'máy học'],\n",
    "    'deep-learning': ['deep learning', 'học sâu'],\n",
    "    'computer-vision': ['computer vision', 'thị giác máy tính'],\n",
    "    'big-data': ['big data', 'dữ liệu lớn', 'bigdata'],\n",
    "    'data-analysis': ['data analysis', 'phân tích dữ liệu'],\n",
    "    'cloud-computing': ['cloud computing', 'điện toán đám mây', 'K8s', 'kubernetes'],\n",
    "    'blockchain': ['blockchain', 'chuỗi khối', 'NFT'],\n",
    "    'robot': ['robot', 'robotics', 'robotic'],\n",
    "    'drone': ['drone', 'flycam'],\n",
    "    'vr': ['vr', 'thực tế ảo', 'virtual reality'],\n",
    "    'iot': ['nhà thông minh', 'thiết bị thông minh', 'AIOT', 'iot', 'ESP32', 'MQTT', 'vườn thông minh'],\n",
    "}"
   ],
   "outputs": [],
   "execution_count": 7
  },
  {
   "cell_type": "code",
   "metadata": {
    "ExecuteTime": {
     "end_time": "2024-06-26T07:46:53.902090Z",
     "start_time": "2024-06-26T07:46:53.866876Z"
    }
   },
   "source": [
    "# Tải dữ liệu\n",
    "pd_data = pd.read_csv('D:/Github/DanhgiaDuAnVaNghenghiepTuongLai/dataset/dataset_train_ver1.csv')\n",
    "pd_data"
   ],
   "outputs": [
    {
     "data": {
      "text/plain": [
       "     STT                                    nameProject_VNI  nameProject_ENG  \\\n",
       "0    1.0             Xây dựng hệ thống quản lý sân cầu lông              NaN   \n",
       "1    2.0  Tìm hiểu công nghệ Web 3.0 và ứng dụng web 3.0...              NaN   \n",
       "2    3.0  Xây dựng hệ thống trợ giúp tư vấn hướng nghiệp...              NaN   \n",
       "3    4.0  Xây dựng mạng xã hội kết hợp chatbot cho người...              NaN   \n",
       "4    5.0  Tìm hiểu Chatbot và xây dựng ứng dụng hỗ trợ t...              NaN   \n",
       "..   ...                                                ...              ...   \n",
       "854  NaN  Ứng dụng Blockchain trong quản lý hệ thống chă...              NaN   \n",
       "855  NaN  Phát triển hệ thống quản lý thông tin bảo hiểm...              NaN   \n",
       "856  NaN  Ứng dụng Blockchain trong quản lý dịch vụ hưu ...              NaN   \n",
       "857  NaN  Blockchain và bảo mật trong dịch vụ bảo mật th...              NaN   \n",
       "858  NaN  Ứng dụng Blockchain trong quản lý tài nguyên t...              NaN   \n",
       "\n",
       "    course  difficulty_level  codeSememter major specialization university  \\\n",
       "0      NaN               1.0         232.0   NaN            NaN        UIT   \n",
       "1      NaN               1.0         232.0   NaN            NaN        UIT   \n",
       "2      NaN               1.0         232.0   NaN            NaN        UIT   \n",
       "3      NaN               1.0         232.0   NaN            NaN        UIT   \n",
       "4      NaN               1.0         232.0   NaN            NaN        UIT   \n",
       "..     ...               ...           ...   ...            ...        ...   \n",
       "854    NaN               NaN           NaN   NaN            NaN        NaN   \n",
       "855    NaN               NaN           NaN   NaN            NaN        NaN   \n",
       "856    NaN               NaN           NaN   NaN            NaN        NaN   \n",
       "857    NaN               NaN           NaN   NaN            NaN        NaN   \n",
       "858    NaN               NaN           NaN   NaN            NaN        NaN   \n",
       "\n",
       "    note  \n",
       "0    NaN  \n",
       "1    NaN  \n",
       "2    NaN  \n",
       "3    NaN  \n",
       "4    NaN  \n",
       "..   ...  \n",
       "854  NaN  \n",
       "855  NaN  \n",
       "856  NaN  \n",
       "857  NaN  \n",
       "858  NaN  \n",
       "\n",
       "[859 rows x 10 columns]"
      ],
      "text/html": [
       "<div>\n",
       "<style scoped>\n",
       "    .dataframe tbody tr th:only-of-type {\n",
       "        vertical-align: middle;\n",
       "    }\n",
       "\n",
       "    .dataframe tbody tr th {\n",
       "        vertical-align: top;\n",
       "    }\n",
       "\n",
       "    .dataframe thead th {\n",
       "        text-align: right;\n",
       "    }\n",
       "</style>\n",
       "<table border=\"1\" class=\"dataframe\">\n",
       "  <thead>\n",
       "    <tr style=\"text-align: right;\">\n",
       "      <th></th>\n",
       "      <th>STT</th>\n",
       "      <th>nameProject_VNI</th>\n",
       "      <th>nameProject_ENG</th>\n",
       "      <th>course</th>\n",
       "      <th>difficulty_level</th>\n",
       "      <th>codeSememter</th>\n",
       "      <th>major</th>\n",
       "      <th>specialization</th>\n",
       "      <th>university</th>\n",
       "      <th>note</th>\n",
       "    </tr>\n",
       "  </thead>\n",
       "  <tbody>\n",
       "    <tr>\n",
       "      <th>0</th>\n",
       "      <td>1.0</td>\n",
       "      <td>Xây dựng hệ thống quản lý sân cầu lông</td>\n",
       "      <td>NaN</td>\n",
       "      <td>NaN</td>\n",
       "      <td>1.0</td>\n",
       "      <td>232.0</td>\n",
       "      <td>NaN</td>\n",
       "      <td>NaN</td>\n",
       "      <td>UIT</td>\n",
       "      <td>NaN</td>\n",
       "    </tr>\n",
       "    <tr>\n",
       "      <th>1</th>\n",
       "      <td>2.0</td>\n",
       "      <td>Tìm hiểu công nghệ Web 3.0 và ứng dụng web 3.0...</td>\n",
       "      <td>NaN</td>\n",
       "      <td>NaN</td>\n",
       "      <td>1.0</td>\n",
       "      <td>232.0</td>\n",
       "      <td>NaN</td>\n",
       "      <td>NaN</td>\n",
       "      <td>UIT</td>\n",
       "      <td>NaN</td>\n",
       "    </tr>\n",
       "    <tr>\n",
       "      <th>2</th>\n",
       "      <td>3.0</td>\n",
       "      <td>Xây dựng hệ thống trợ giúp tư vấn hướng nghiệp...</td>\n",
       "      <td>NaN</td>\n",
       "      <td>NaN</td>\n",
       "      <td>1.0</td>\n",
       "      <td>232.0</td>\n",
       "      <td>NaN</td>\n",
       "      <td>NaN</td>\n",
       "      <td>UIT</td>\n",
       "      <td>NaN</td>\n",
       "    </tr>\n",
       "    <tr>\n",
       "      <th>3</th>\n",
       "      <td>4.0</td>\n",
       "      <td>Xây dựng mạng xã hội kết hợp chatbot cho người...</td>\n",
       "      <td>NaN</td>\n",
       "      <td>NaN</td>\n",
       "      <td>1.0</td>\n",
       "      <td>232.0</td>\n",
       "      <td>NaN</td>\n",
       "      <td>NaN</td>\n",
       "      <td>UIT</td>\n",
       "      <td>NaN</td>\n",
       "    </tr>\n",
       "    <tr>\n",
       "      <th>4</th>\n",
       "      <td>5.0</td>\n",
       "      <td>Tìm hiểu Chatbot và xây dựng ứng dụng hỗ trợ t...</td>\n",
       "      <td>NaN</td>\n",
       "      <td>NaN</td>\n",
       "      <td>1.0</td>\n",
       "      <td>232.0</td>\n",
       "      <td>NaN</td>\n",
       "      <td>NaN</td>\n",
       "      <td>UIT</td>\n",
       "      <td>NaN</td>\n",
       "    </tr>\n",
       "    <tr>\n",
       "      <th>...</th>\n",
       "      <td>...</td>\n",
       "      <td>...</td>\n",
       "      <td>...</td>\n",
       "      <td>...</td>\n",
       "      <td>...</td>\n",
       "      <td>...</td>\n",
       "      <td>...</td>\n",
       "      <td>...</td>\n",
       "      <td>...</td>\n",
       "      <td>...</td>\n",
       "    </tr>\n",
       "    <tr>\n",
       "      <th>854</th>\n",
       "      <td>NaN</td>\n",
       "      <td>Ứng dụng Blockchain trong quản lý hệ thống chă...</td>\n",
       "      <td>NaN</td>\n",
       "      <td>NaN</td>\n",
       "      <td>NaN</td>\n",
       "      <td>NaN</td>\n",
       "      <td>NaN</td>\n",
       "      <td>NaN</td>\n",
       "      <td>NaN</td>\n",
       "      <td>NaN</td>\n",
       "    </tr>\n",
       "    <tr>\n",
       "      <th>855</th>\n",
       "      <td>NaN</td>\n",
       "      <td>Phát triển hệ thống quản lý thông tin bảo hiểm...</td>\n",
       "      <td>NaN</td>\n",
       "      <td>NaN</td>\n",
       "      <td>NaN</td>\n",
       "      <td>NaN</td>\n",
       "      <td>NaN</td>\n",
       "      <td>NaN</td>\n",
       "      <td>NaN</td>\n",
       "      <td>NaN</td>\n",
       "    </tr>\n",
       "    <tr>\n",
       "      <th>856</th>\n",
       "      <td>NaN</td>\n",
       "      <td>Ứng dụng Blockchain trong quản lý dịch vụ hưu ...</td>\n",
       "      <td>NaN</td>\n",
       "      <td>NaN</td>\n",
       "      <td>NaN</td>\n",
       "      <td>NaN</td>\n",
       "      <td>NaN</td>\n",
       "      <td>NaN</td>\n",
       "      <td>NaN</td>\n",
       "      <td>NaN</td>\n",
       "    </tr>\n",
       "    <tr>\n",
       "      <th>857</th>\n",
       "      <td>NaN</td>\n",
       "      <td>Blockchain và bảo mật trong dịch vụ bảo mật th...</td>\n",
       "      <td>NaN</td>\n",
       "      <td>NaN</td>\n",
       "      <td>NaN</td>\n",
       "      <td>NaN</td>\n",
       "      <td>NaN</td>\n",
       "      <td>NaN</td>\n",
       "      <td>NaN</td>\n",
       "      <td>NaN</td>\n",
       "    </tr>\n",
       "    <tr>\n",
       "      <th>858</th>\n",
       "      <td>NaN</td>\n",
       "      <td>Ứng dụng Blockchain trong quản lý tài nguyên t...</td>\n",
       "      <td>NaN</td>\n",
       "      <td>NaN</td>\n",
       "      <td>NaN</td>\n",
       "      <td>NaN</td>\n",
       "      <td>NaN</td>\n",
       "      <td>NaN</td>\n",
       "      <td>NaN</td>\n",
       "      <td>NaN</td>\n",
       "    </tr>\n",
       "  </tbody>\n",
       "</table>\n",
       "<p>859 rows × 10 columns</p>\n",
       "</div>"
      ]
     },
     "execution_count": 8,
     "metadata": {},
     "output_type": "execute_result"
    }
   ],
   "execution_count": 8
  },
  {
   "cell_type": "code",
   "metadata": {
    "ExecuteTime": {
     "end_time": "2024-06-26T07:46:53.913005Z",
     "start_time": "2024-06-26T07:46:53.903095Z"
    }
   },
   "source": [
    "df_train = pd_data[['nameProject_VNI']].copy()\n",
    "\n",
    "# Đếm số lần xuất hiện của mỗi tên dự án\n",
    "project_counts = df_train['nameProject_VNI'].value_counts()\n",
    "# Hiển thị các tên dự án có số lần xuất hiện nhiều hơn 1\n",
    "duplicate_projects = project_counts[project_counts > 1]\n",
    "print(duplicate_projects)"
   ],
   "outputs": [
    {
     "name": "stdout",
     "output_type": "stream",
     "text": [
      "nameProject_VNI\n",
      "Nghiên cứu và thử nghiệm một số phương pháp định giá BĐS                                                                          4\n",
      "Tìm hiểu Thị giác máy tính vận dụng trong phát triển ứng dụng Game 3D tương tác, Thực thể ảo AR.                                  3\n",
      "Phát triển ứng dụng phân tích dữ liệu y khoa trong xét nghiệm máu                                                                 3\n",
      "Hệ thống nhà thông minh                                                                                                           3\n",
      "Nhà thông minh                                                                                                                    2\n",
      "Ứng dụng Trí Tuệ Nhận Diện Khuôn Mặt                                                                                              2\n",
      "Ứng dụng MQTT trong nhà thông minh                                                                                                2\n",
      "Ứng dụng trí tuệ nhân tạo phát hiện và phân loại khối u não                                                                       2\n",
      "Xây dựng ứng dụng chia sẻ kinh nghiệm học tập                                                                                     2\n",
      "Nông trại thông minh                                                                                                              2\n",
      "Xây dựng ứng dụng quản lý đề cương môn học                                                                                        2\n",
      "Nhà kho thông minh                                                                                                                2\n",
      "Phát triển hệ thống hỗ trợ quản trị doanh nghiệp dựa trên Odoo: Áp dụng cho phân hệ quản lý phương tiện, logistics và kho hàng    2\n",
      "Blockchain và bảo mật trong dịch vụ hậu cần.                                                                                      2\n",
      "Tìm hiểu công nghệ Web 3.0 và ứng dụng web 3.0 vào thực tiễn                                                                      2\n",
      "Tìm hiểu Solidity và xây dựng ứng dụng minh họa                                                                                   2\n",
      "Phát triển ứng dụng hỗ trợ trẻ em tự kỷ                                                                                           2\n",
      "Nghiên cứu và xây dựng ví Mutil-sig trên mạng Bitcoin                                                                             2\n",
      "Xây dựng website thương mại điện tử                                                                                               2\n",
      "Xây dựng hệ thống website builder hỗ trợ phát sinh mã nguồn frontend                                                              2\n",
      "Finetuning Large Language Models                                                                                                  2\n",
      "Xây dựng hệ thống quản lý đề tài Đồ án chuyên ngành Khoa CNPM                                                                     2\n",
      "Xây dựng Ứng dụng khôi phục hình ảnh                                                                                              2\n",
      "Xây dựng ứng dụng học nhóm ảo                                                                                                     2\n",
      "Tìm hiểu và xây dựng nhà sách NFT (Non fungible token)                                                                            2\n",
      "Xây dựng ứng dụng blockchain hỗ trợ tuyển dụng việc làm                                                                           2\n",
      "Mạng xã hội kết hợp chatbot cho người nuôi thú cưng                                                                               2\n",
      "Ứng dụng gọi xe chung cho sinh viên                                                                                               2\n",
      "Xây dựng ứng dụng tư vấn sức khỏe cho cộng đồng                                                                                   2\n",
      "Xây dựng ứng dụng tư vấn đăng ký học phần cho SV  CNPM                                                                            2\n",
      "Xây dựng hệ thống tư vấn chọn ngành Đại học cho học sinh Trung học Phổ Thông                                                      2\n",
      "Phân tích xu hướng bất động sản bằng Machine Learning kết hợp lịch sử giá và tin tức                                              2\n",
      "Xây dựng Shop quần áo online tích hợp gợi ý sản phẩm                                                                              2\n",
      "Xây dựng Ứng dụng nghe nhạc và gợi ý bài hát                                                                                      2\n",
      "Tìm hiểu và phát triển ứng dụng giúp việc và cho thuê với Flutter                                                                 2\n",
      "Nghiên cứu công nghệ livestream và xây dựng ứng dụng minh hoạ                                                                     2\n",
      "Nghiên cứu công nghệ blockchain và ứng dụng vào game                                                                              2\n",
      "Nghiên cứu hệ khuyến nghị trong hệ thống thương mại điện tử                                                                       2\n",
      "Dự báo qua hành vi mua sắm của người tiêu dùng trong hoạt động kinh doanh hàng tiêu dùng                                          2\n",
      "Nghiên cứu hệ thống phân tán và ứng dụng minh hoạ                                                                                 2\n",
      "Nghiên cứu các kĩ thuật đồng thuận trong blockchain                                                                               2\n",
      "Tìm hiểu Chatbot và xây dựng ứng dụng hỗ trợ tư vấn mua bán bất động sản                                                          2\n",
      "Xây dựng hệ thống quản lý phòng trọ và gợi ý cho thuê phòng trọ.                                                                  2\n",
      "Nghiên cứu blockchain bridge và ứng dụng                                                                                          2\n",
      "Cửa hàng thông minh                                                                                                               2\n",
      "Tìm hiểu Chatbot và xây dựng ứng dụng hỗ trợ tư vấn thuê bất động sản                                                             2\n",
      "Ứng dụng Blockchain trong quản lý tài nguyên thiên nhiên.                                                                         2\n",
      "Xây dựng mạng xã hội kết hợp chatbot cho người nuôi thú cưng                                                                      2\n",
      "Hệ thống vườn thông minh                                                                                                          2\n",
      "Xây dựng ứng dụng quản lý tổ chức các hoạt động sinh viên                                                                         2\n",
      "Xây dựng hệ thống trợ giúp tư vấn hướng nghiệp và chọn ngành cho học sinh THPT                                                    2\n",
      "Phát triển game3D tương tác và thực thể ảo AR với Unity trên môi trường Android                                                   2\n",
      "Xây dựng Ứng dụng đi chợ trực tuyến tích hợp gợi ý món ăn                                                                         2\n",
      "Name: count, dtype: int64\n"
     ]
    }
   ],
   "execution_count": 9
  },
  {
   "cell_type": "code",
   "metadata": {
    "ExecuteTime": {
     "end_time": "2024-06-26T07:46:53.920187Z",
     "start_time": "2024-06-26T07:46:53.914525Z"
    }
   },
   "source": [
    "# Lọc và hiển thị các bản ghi có tên dự án trùng lặp\n",
    "duplicates = df_train[df_train['nameProject_VNI'].isin(duplicate_projects.index)]\n",
    "# print(duplicates)\n",
    "\n",
    "# Loại bỏ các trùng lặp, chỉ giữ lại bản ghi đầu tiên\n",
    "df = df_train.drop_duplicates(subset=['nameProject_VNI'], keep='first')"
   ],
   "outputs": [],
   "execution_count": 10
  },
  {
   "cell_type": "code",
   "metadata": {
    "ExecuteTime": {
     "end_time": "2024-06-26T07:46:53.927635Z",
     "start_time": "2024-06-26T07:46:53.921196Z"
    }
   },
   "source": [
    "# Đếm số lần xuất hiện của mỗi tên dự án\n",
    "project_counts = df['nameProject_VNI'].value_counts()\n",
    "# Hiển thị các tên dự án có số lần xuất hiện nhiều hơn 1\n",
    "duplicate_projects = project_counts[project_counts > 1]\n",
    "print(duplicate_projects)"
   ],
   "outputs": [
    {
     "name": "stdout",
     "output_type": "stream",
     "text": [
      "Series([], Name: count, dtype: int64)\n"
     ]
    }
   ],
   "execution_count": 11
  },
  {
   "cell_type": "code",
   "metadata": {
    "ExecuteTime": {
     "end_time": "2024-06-26T07:46:53.937586Z",
     "start_time": "2024-06-26T07:46:53.930644Z"
    }
   },
   "source": [
    "# df['category'] = df['nameProject_VNI'].apply(categorize_project)\n",
    "# # pd_data\n",
    "print(df)"
   ],
   "outputs": [
    {
     "name": "stdout",
     "output_type": "stream",
     "text": [
      "                                       nameProject_VNI\n",
      "0               Xây dựng hệ thống quản lý sân cầu lông\n",
      "1    Tìm hiểu công nghệ Web 3.0 và ứng dụng web 3.0...\n",
      "2    Xây dựng hệ thống trợ giúp tư vấn hướng nghiệp...\n",
      "3    Xây dựng mạng xã hội kết hợp chatbot cho người...\n",
      "4    Tìm hiểu Chatbot và xây dựng ứng dụng hỗ trợ t...\n",
      "..                                                 ...\n",
      "853  Blockchain và bảo mật trong dịch vụ tư vấn tài...\n",
      "854  Ứng dụng Blockchain trong quản lý hệ thống chă...\n",
      "855  Phát triển hệ thống quản lý thông tin bảo hiểm...\n",
      "856  Ứng dụng Blockchain trong quản lý dịch vụ hưu ...\n",
      "857  Blockchain và bảo mật trong dịch vụ bảo mật th...\n",
      "\n",
      "[801 rows x 1 columns]\n"
     ]
    }
   ],
   "execution_count": 12
  },
  {
   "cell_type": "code",
   "metadata": {
    "ExecuteTime": {
     "end_time": "2024-06-26T07:46:54.053678Z",
     "start_time": "2024-06-26T07:46:53.938595Z"
    }
   },
   "source": [
    "# Hàm phân loại chủ đề\n",
    "def categorize_project(project_name):\n",
    "    matched_themes = []\n",
    "    for theme, keywords in technically.items():\n",
    "        if any(keyword.lower() in project_name.lower() for keyword in keywords):\n",
    "            matched_themes.append(theme)\n",
    "    return ', '.join(matched_themes) if matched_themes else None\n",
    "\n",
    "# Assuming df is your DataFrame and it's already defined\n",
    "# Make sure to directly modify the 'category' column in a safe manner\n",
    "df.loc[:, 'category'] = df['nameProject_VNI'].apply(lambda x: categorize_project(x) if categorize_project(x) else '')\n",
    "\n",
    "# Tìm các hàng không có category được phân loại và lưu vào một file CSV mới\n",
    "uncategorized_df = df[df['category'] == '']\n",
    "uncategorized_df.to_csv('uncategorized_projects.csv', index=False, encoding='utf-8')\n",
    "\n",
    "# Hiển thị các hàng không có category được phân loại\n",
    "print(\"Các hàng không có category được phân loại:\")\n",
    "print(df[df['category'] == ''])\n",
    "\n",
    "# Loại bỏ các hàng không có category được phân loại\n",
    "df = df[df['category'] != '']\n",
    "\n",
    "# Hiển thị DataFrame đã cập nhật\n",
    "print(\"\\nDataFrame sau khi loại bỏ các hàng không có category được phân loại:\")\n",
    "print(df)"
   ],
   "outputs": [
    {
     "name": "stdout",
     "output_type": "stream",
     "text": [
      "Các hàng không có category được phân loại:\n",
      "                                       nameProject_VNI category\n",
      "0               Xây dựng hệ thống quản lý sân cầu lông         \n",
      "2    Xây dựng hệ thống trợ giúp tư vấn hướng nghiệp...         \n",
      "6    Nghiên cứu và thử nghiệm một số phương pháp đị...         \n",
      "8    Xây dựng hệ thống quản lý phòng trọ và gợi ý c...         \n",
      "10   Xây dựng Shop quần áo online tích hợp gợi ý sả...         \n",
      "..                                                 ...      ...\n",
      "728    Phát hiện bệnh trên lá của cây cà chua bằng CNN         \n",
      "740               Ứng dụng Trí Tuệ Nhận Diện Khuôn Mặt         \n",
      "742               Ứng dụng phát hiện ung thư đại tràng         \n",
      "743  Nhận diện bàn tay đoán ra kí tự người khuyết t...         \n",
      "762   Hợp đồng thông minh cho hệ thống bầu cử điện tử.         \n",
      "\n",
      "[263 rows x 2 columns]\n",
      "\n",
      "DataFrame sau khi loại bỏ các hàng không có category được phân loại:\n",
      "                                       nameProject_VNI             category\n",
      "1    Tìm hiểu công nghệ Web 3.0 và ứng dụng web 3.0...              website\n",
      "3    Xây dựng mạng xã hội kết hợp chatbot cho người...              chatbot\n",
      "4    Tìm hiểu Chatbot và xây dựng ứng dụng hỗ trợ t...  mobile-app, chatbot\n",
      "5    Tìm hiểu Chatbot và xây dựng ứng dụng hỗ trợ t...  mobile-app, chatbot\n",
      "7    Phân tích xu hướng bất động sản bằng Machine L...     machine-learning\n",
      "..                                                 ...                  ...\n",
      "853  Blockchain và bảo mật trong dịch vụ tư vấn tài...           blockchain\n",
      "854  Ứng dụng Blockchain trong quản lý hệ thống chă...           blockchain\n",
      "855  Phát triển hệ thống quản lý thông tin bảo hiểm...           blockchain\n",
      "856  Ứng dụng Blockchain trong quản lý dịch vụ hưu ...           blockchain\n",
      "857  Blockchain và bảo mật trong dịch vụ bảo mật th...           blockchain\n",
      "\n",
      "[538 rows x 2 columns]\n"
     ]
    },
    {
     "name": "stderr",
     "output_type": "stream",
     "text": [
      "C:\\Users\\huuth\\AppData\\Local\\Temp\\ipykernel_30004\\2065964452.py:11: SettingWithCopyWarning: \n",
      "A value is trying to be set on a copy of a slice from a DataFrame.\n",
      "Try using .loc[row_indexer,col_indexer] = value instead\n",
      "\n",
      "See the caveats in the documentation: https://pandas.pydata.org/pandas-docs/stable/user_guide/indexing.html#returning-a-view-versus-a-copy\n",
      "  df.loc[:, 'category'] = df['nameProject_VNI'].apply(lambda x: categorize_project(x) if categorize_project(x) else '')\n"
     ]
    }
   ],
   "execution_count": 13
  },
  {
   "cell_type": "code",
   "metadata": {
    "ExecuteTime": {
     "end_time": "2024-06-26T07:46:54.288350Z",
     "start_time": "2024-06-26T07:46:54.054683Z"
    }
   },
   "source": [
    "# UIT: Đại học Công nghệ thông tin HCM\n",
    "# DUT: Đại học Đại học Bách Khoa - Đại học Đà Nẵng\n",
    "# HCMUS: Đại học Khoa học Tự nhiên - Đại học Quốc gia TP.HCM\n",
    "import seaborn as sns\n",
    "sns.countplot(pd_data['university'])"
   ],
   "outputs": [
    {
     "data": {
      "text/plain": [
       "<Axes: xlabel='count', ylabel='university'>"
      ]
     },
     "execution_count": 14,
     "metadata": {},
     "output_type": "execute_result"
    },
    {
     "data": {
      "text/plain": [
       "<Figure size 640x480 with 1 Axes>"
      ],
      "image/png": "[encoded data removed]"
     },
     "metadata": {},
     "output_type": "display_data"
    }
   ],
   "execution_count": 14
  },
  {
   "cell_type": "code",
   "metadata": {
    "ExecuteTime": {
     "end_time": "2024-06-26T07:46:54.297057Z",
     "start_time": "2024-06-26T07:46:54.289358Z"
    }
   },
   "source": [
    "# Số lượng đồ án của từng trường ĐH\n",
    "pd_data['university'].value_counts()"
   ],
   "outputs": [
    {
     "data": {
      "text/plain": [
       "university\n",
       "UIT       410\n",
       "VLUTE     141\n",
       "DUT       121\n",
       "HCMUS      49\n",
       "HUTECH     33\n",
       "Name: count, dtype: int64"
      ]
     },
     "execution_count": 15,
     "metadata": {},
     "output_type": "execute_result"
    }
   ],
   "execution_count": 15
  },
  {
   "cell_type": "code",
   "metadata": {
    "ExecuteTime": {
     "end_time": "2024-06-26T07:46:54.320253Z",
     "start_time": "2024-06-26T07:46:54.299198Z"
    }
   },
   "source": [
    "# Tạo các cột chỉ báo cho mỗi chủ đề\n",
    "category_dummies = pd.get_dummies(df['category'].apply(lambda x: x.split(', ')).explode()).groupby(level=0).sum()\n",
    "df = pd.concat([df, category_dummies], axis=1)\n",
    "df"
   ],
   "outputs": [
    {
     "data": {
      "text/plain": [
       "                                       nameProject_VNI             category  \\\n",
       "1    Tìm hiểu công nghệ Web 3.0 và ứng dụng web 3.0...              website   \n",
       "3    Xây dựng mạng xã hội kết hợp chatbot cho người...              chatbot   \n",
       "4    Tìm hiểu Chatbot và xây dựng ứng dụng hỗ trợ t...  mobile-app, chatbot   \n",
       "5    Tìm hiểu Chatbot và xây dựng ứng dụng hỗ trợ t...  mobile-app, chatbot   \n",
       "7    Phân tích xu hướng bất động sản bằng Machine L...     machine-learning   \n",
       "..                                                 ...                  ...   \n",
       "853  Blockchain và bảo mật trong dịch vụ tư vấn tài...           blockchain   \n",
       "854  Ứng dụng Blockchain trong quản lý hệ thống chă...           blockchain   \n",
       "855  Phát triển hệ thống quản lý thông tin bảo hiểm...           blockchain   \n",
       "856  Ứng dụng Blockchain trong quản lý dịch vụ hưu ...           blockchain   \n",
       "857  Blockchain và bảo mật trong dịch vụ bảo mật th...           blockchain   \n",
       "\n",
       "     artificial-intelligence  big-data  blockchain  chatbot  cloud-computing  \\\n",
       "1                          0         0           0        0                0   \n",
       "3                          0         0           0        1                0   \n",
       "4                          0         0           0        1                0   \n",
       "5                          0         0           0        1                0   \n",
       "7                          0         0           0        0                0   \n",
       "..                       ...       ...         ...      ...              ...   \n",
       "853                        0         0           1        0                0   \n",
       "854                        0         0           1        0                0   \n",
       "855                        0         0           1        0                0   \n",
       "856                        0         0           1        0                0   \n",
       "857                        0         0           1        0                0   \n",
       "\n",
       "     computer-vision  data-analysis  deep-learning  drone  game  iot  \\\n",
       "1                  0              0              0      0     0    0   \n",
       "3                  0              0              0      0     0    0   \n",
       "4                  0              0              0      0     0    0   \n",
       "5                  0              0              0      0     0    0   \n",
       "7                  0              0              0      0     0    0   \n",
       "..               ...            ...            ...    ...   ...  ...   \n",
       "853                0              0              0      0     0    0   \n",
       "854                0              0              0      0     0    0   \n",
       "855                0              0              0      0     0    0   \n",
       "856                0              0              0      0     0    0   \n",
       "857                0              0              0      0     0    0   \n",
       "\n",
       "     machine-learning  mobile-app  robot  website  \n",
       "1                   0           0      0        1  \n",
       "3                   0           0      0        0  \n",
       "4                   0           1      0        0  \n",
       "5                   0           1      0        0  \n",
       "7                   1           0      0        0  \n",
       "..                ...         ...    ...      ...  \n",
       "853                 0           0      0        0  \n",
       "854                 0           0      0        0  \n",
       "855                 0           0      0        0  \n",
       "856                 0           0      0        0  \n",
       "857                 0           0      0        0  \n",
       "\n",
       "[538 rows x 17 columns]"
      ],
      "text/html": [
       "<div>\n",
       "<style scoped>\n",
       "    .dataframe tbody tr th:only-of-type {\n",
       "        vertical-align: middle;\n",
       "    }\n",
       "\n",
       "    .dataframe tbody tr th {\n",
       "        vertical-align: top;\n",
       "    }\n",
       "\n",
       "    .dataframe thead th {\n",
       "        text-align: right;\n",
       "    }\n",
       "</style>\n",
       "<table border=\"1\" class=\"dataframe\">\n",
       "  <thead>\n",
       "    <tr style=\"text-align: right;\">\n",
       "      <th></th>\n",
       "      <th>nameProject_VNI</th>\n",
       "      <th>category</th>\n",
       "      <th>artificial-intelligence</th>\n",
       "      <th>big-data</th>\n",
       "      <th>blockchain</th>\n",
       "      <th>chatbot</th>\n",
       "      <th>cloud-computing</th>\n",
       "      <th>computer-vision</th>\n",
       "      <th>data-analysis</th>\n",
       "      <th>deep-learning</th>\n",
       "      <th>drone</th>\n",
       "      <th>game</th>\n",
       "      <th>iot</th>\n",
       "      <th>machine-learning</th>\n",
       "      <th>mobile-app</th>\n",
       "      <th>robot</th>\n",
       "      <th>website</th>\n",
       "    </tr>\n",
       "  </thead>\n",
       "  <tbody>\n",
       "    <tr>\n",
       "      <th>1</th>\n",
       "      <td>Tìm hiểu công nghệ Web 3.0 và ứng dụng web 3.0...</td>\n",
       "      <td>website</td>\n",
       "      <td>0</td>\n",
       "      <td>0</td>\n",
       "      <td>0</td>\n",
       "      <td>0</td>\n",
       "      <td>0</td>\n",
       "      <td>0</td>\n",
       "      <td>0</td>\n",
       "      <td>0</td>\n",
       "      <td>0</td>\n",
       "      <td>0</td>\n",
       "      <td>0</td>\n",
       "      <td>0</td>\n",
       "      <td>0</td>\n",
       "      <td>0</td>\n",
       "      <td>1</td>\n",
       "    </tr>\n",
       "    <tr>\n",
       "      <th>3</th>\n",
       "      <td>Xây dựng mạng xã hội kết hợp chatbot cho người...</td>\n",
       "      <td>chatbot</td>\n",
       "      <td>0</td>\n",
       "      <td>0</td>\n",
       "      <td>0</td>\n",
       "      <td>1</td>\n",
       "      <td>0</td>\n",
       "      <td>0</td>\n",
       "      <td>0</td>\n",
       "      <td>0</td>\n",
       "      <td>0</td>\n",
       "      <td>0</td>\n",
       "      <td>0</td>\n",
       "      <td>0</td>\n",
       "      <td>0</td>\n",
       "      <td>0</td>\n",
       "      <td>0</td>\n",
       "    </tr>\n",
       "    <tr>\n",
       "      <th>4</th>\n",
       "      <td>Tìm hiểu Chatbot và xây dựng ứng dụng hỗ trợ t...</td>\n",
       "      <td>mobile-app, chatbot</td>\n",
       "      <td>0</td>\n",
       "      <td>0</td>\n",
       "      <td>0</td>\n",
       "      <td>1</td>\n",
       "      <td>0</td>\n",
       "      <td>0</td>\n",
       "      <td>0</td>\n",
       "      <td>0</td>\n",
       "      <td>0</td>\n",
       "      <td>0</td>\n",
       "      <td>0</td>\n",
       "      <td>0</td>\n",
       "      <td>1</td>\n",
       "      <td>0</td>\n",
       "      <td>0</td>\n",
       "    </tr>\n",
       "    <tr>\n",
       "      <th>5</th>\n",
       "      <td>Tìm hiểu Chatbot và xây dựng ứng dụng hỗ trợ t...</td>\n",
       "      <td>mobile-app, chatbot</td>\n",
       "      <td>0</td>\n",
       "      <td>0</td>\n",
       "      <td>0</td>\n",
       "      <td>1</td>\n",
       "      <td>0</td>\n",
       "      <td>0</td>\n",
       "      <td>0</td>\n",
       "      <td>0</td>\n",
       "      <td>0</td>\n",
       "      <td>0</td>\n",
       "      <td>0</td>\n",
       "      <td>0</td>\n",
       "      <td>1</td>\n",
       "      <td>0</td>\n",
       "      <td>0</td>\n",
       "    </tr>\n",
       "    <tr>\n",
       "      <th>7</th>\n",
       "      <td>Phân tích xu hướng bất động sản bằng Machine L...</td>\n",
       "      <td>machine-learning</td>\n",
       "      <td>0</td>\n",
       "      <td>0</td>\n",
       "      <td>0</td>\n",
       "      <td>0</td>\n",
       "      <td>0</td>\n",
       "      <td>0</td>\n",
       "      <td>0</td>\n",
       "      <td>0</td>\n",
       "      <td>0</td>\n",
       "      <td>0</td>\n",
       "      <td>0</td>\n",
       "      <td>1</td>\n",
       "      <td>0</td>\n",
       "      <td>0</td>\n",
       "      <td>0</td>\n",
       "    </tr>\n",
       "    <tr>\n",
       "      <th>...</th>\n",
       "      <td>...</td>\n",
       "      <td>...</td>\n",
       "      <td>...</td>\n",
       "      <td>...</td>\n",
       "      <td>...</td>\n",
       "      <td>...</td>\n",
       "      <td>...</td>\n",
       "      <td>...</td>\n",
       "      <td>...</td>\n",
       "      <td>...</td>\n",
       "      <td>...</td>\n",
       "      <td>...</td>\n",
       "      <td>...</td>\n",
       "      <td>...</td>\n",
       "      <td>...</td>\n",
       "      <td>...</td>\n",
       "      <td>...</td>\n",
       "    </tr>\n",
       "    <tr>\n",
       "      <th>853</th>\n",
       "      <td>Blockchain và bảo mật trong dịch vụ tư vấn tài...</td>\n",
       "      <td>blockchain</td>\n",
       "      <td>0</td>\n",
       "      <td>0</td>\n",
       "      <td>1</td>\n",
       "      <td>0</td>\n",
       "      <td>0</td>\n",
       "      <td>0</td>\n",
       "      <td>0</td>\n",
       "      <td>0</td>\n",
       "      <td>0</td>\n",
       "      <td>0</td>\n",
       "      <td>0</td>\n",
       "      <td>0</td>\n",
       "      <td>0</td>\n",
       "      <td>0</td>\n",
       "      <td>0</td>\n",
       "    </tr>\n",
       "    <tr>\n",
       "      <th>854</th>\n",
       "      <td>Ứng dụng Blockchain trong quản lý hệ thống chă...</td>\n",
       "      <td>blockchain</td>\n",
       "      <td>0</td>\n",
       "      <td>0</td>\n",
       "      <td>1</td>\n",
       "      <td>0</td>\n",
       "      <td>0</td>\n",
       "      <td>0</td>\n",
       "      <td>0</td>\n",
       "      <td>0</td>\n",
       "      <td>0</td>\n",
       "      <td>0</td>\n",
       "      <td>0</td>\n",
       "      <td>0</td>\n",
       "      <td>0</td>\n",
       "      <td>0</td>\n",
       "      <td>0</td>\n",
       "    </tr>\n",
       "    <tr>\n",
       "      <th>855</th>\n",
       "      <td>Phát triển hệ thống quản lý thông tin bảo hiểm...</td>\n",
       "      <td>blockchain</td>\n",
       "      <td>0</td>\n",
       "      <td>0</td>\n",
       "      <td>1</td>\n",
       "      <td>0</td>\n",
       "      <td>0</td>\n",
       "      <td>0</td>\n",
       "      <td>0</td>\n",
       "      <td>0</td>\n",
       "      <td>0</td>\n",
       "      <td>0</td>\n",
       "      <td>0</td>\n",
       "      <td>0</td>\n",
       "      <td>0</td>\n",
       "      <td>0</td>\n",
       "      <td>0</td>\n",
       "    </tr>\n",
       "    <tr>\n",
       "      <th>856</th>\n",
       "      <td>Ứng dụng Blockchain trong quản lý dịch vụ hưu ...</td>\n",
       "      <td>blockchain</td>\n",
       "      <td>0</td>\n",
       "      <td>0</td>\n",
       "      <td>1</td>\n",
       "      <td>0</td>\n",
       "      <td>0</td>\n",
       "      <td>0</td>\n",
       "      <td>0</td>\n",
       "      <td>0</td>\n",
       "      <td>0</td>\n",
       "      <td>0</td>\n",
       "      <td>0</td>\n",
       "      <td>0</td>\n",
       "      <td>0</td>\n",
       "      <td>0</td>\n",
       "      <td>0</td>\n",
       "    </tr>\n",
       "    <tr>\n",
       "      <th>857</th>\n",
       "      <td>Blockchain và bảo mật trong dịch vụ bảo mật th...</td>\n",
       "      <td>blockchain</td>\n",
       "      <td>0</td>\n",
       "      <td>0</td>\n",
       "      <td>1</td>\n",
       "      <td>0</td>\n",
       "      <td>0</td>\n",
       "      <td>0</td>\n",
       "      <td>0</td>\n",
       "      <td>0</td>\n",
       "      <td>0</td>\n",
       "      <td>0</td>\n",
       "      <td>0</td>\n",
       "      <td>0</td>\n",
       "      <td>0</td>\n",
       "      <td>0</td>\n",
       "      <td>0</td>\n",
       "    </tr>\n",
       "  </tbody>\n",
       "</table>\n",
       "<p>538 rows × 17 columns</p>\n",
       "</div>"
      ]
     },
     "execution_count": 16,
     "metadata": {},
     "output_type": "execute_result"
    }
   ],
   "execution_count": 16
  },
  {
   "cell_type": "code",
   "metadata": {
    "ExecuteTime": {
     "end_time": "2024-06-26T07:46:54.326616Z",
     "start_time": "2024-06-26T07:46:54.321260Z"
    }
   },
   "source": [
    "# Lấy văn bản dự án và các nhãn\n",
    "texts = df['nameProject_VNI'].values\n",
    "categories = df.columns.difference(['nameProject_VNI', 'category'])\n",
    "labels = df[categories].values"
   ],
   "outputs": [],
   "execution_count": 17
  },
  {
   "cell_type": "code",
   "metadata": {
    "ExecuteTime": {
     "end_time": "2024-06-26T07:46:54.335136Z",
     "start_time": "2024-06-26T07:46:54.328629Z"
    }
   },
   "source": [
    "categories"
   ],
   "outputs": [
    {
     "data": {
      "text/plain": [
       "Index(['artificial-intelligence', 'big-data', 'blockchain', 'chatbot',\n",
       "       'cloud-computing', 'computer-vision', 'data-analysis', 'deep-learning',\n",
       "       'drone', 'game', 'iot', 'machine-learning', 'mobile-app', 'robot',\n",
       "       'website'],\n",
       "      dtype='object')"
      ]
     },
     "execution_count": 18,
     "metadata": {},
     "output_type": "execute_result"
    }
   ],
   "execution_count": 18
  },
  {
   "cell_type": "code",
   "metadata": {
    "ExecuteTime": {
     "end_time": "2024-06-26T07:46:54.340868Z",
     "start_time": "2024-06-26T07:46:54.336187Z"
    }
   },
   "source": [
    "print(labels)"
   ],
   "outputs": [
    {
     "name": "stdout",
     "output_type": "stream",
     "text": [
      "[[0 0 0 ... 0 0 1]\n",
      " [0 0 0 ... 0 0 0]\n",
      " [0 0 0 ... 1 0 0]\n",
      " ...\n",
      " [0 0 1 ... 0 0 0]\n",
      " [0 0 1 ... 0 0 0]\n",
      " [0 0 1 ... 0 0 0]]\n"
     ]
    }
   ],
   "execution_count": 19
  },
  {
   "cell_type": "code",
   "metadata": {
    "ExecuteTime": {
     "end_time": "2024-06-26T07:46:54.403038Z",
     "start_time": "2024-06-26T07:46:54.341874Z"
    }
   },
   "source": [
    "# Chuẩn bị tokenizer và padding\n",
    "num_words = 10000\n",
    "tokenizer = Tokenizer(num_words=num_words)\n",
    "tokenizer.fit_on_texts(texts)\n",
    "# Chuyển đổi văn bản thành chuỗi số\n",
    "sequences = tokenizer.texts_to_sequences(texts)\n",
    "max_length = max(len(seq) for seq in sequences)\n",
    "data = pad_sequences(sequences, maxlen=max_length)\n",
    "\n",
    "# Lưu các thông tin vào file txt\n",
    "with open('config.txt', 'w') as file:\n",
    "    file.write(f'MaxLength:{max_length}\\n')\n",
    "    file.write(f'NumWords:{num_words}\\n')"
   ],
   "outputs": [],
   "execution_count": 20
  },
  {
   "cell_type": "code",
   "metadata": {
    "ExecuteTime": {
     "end_time": "2024-06-26T07:46:54.413444Z",
     "start_time": "2024-06-26T07:46:54.407072Z"
    }
   },
   "source": [
    "# Chia dữ liệu thành huấn luyện và thử nghiệm\n",
    "X_train, X_test, y_train, y_test = train_test_split(data, labels, test_size=0.2, random_state=42)"
   ],
   "outputs": [],
   "execution_count": 21
  },
  {
   "cell_type": "code",
   "metadata": {
    "ExecuteTime": {
     "end_time": "2024-06-26T07:46:54.657360Z",
     "start_time": "2024-06-26T07:46:54.417490Z"
    }
   },
   "source": [
    "num_classes = y_train.shape[1]  # Đảm bảo num_classes bằng với kích thước thứ hai của y_train\n",
    "\n",
    "# Khởi tạo mô hình\n",
    "model = build_model(vocab_size=10000, num_classes=num_classes, input_length=max_length)"
   ],
   "outputs": [
    {
     "name": "stderr",
     "output_type": "stream",
     "text": [
      "D:\\moitruongao\\dacs\\Lib\\site-packages\\keras\\src\\layers\\core\\embedding.py:90: UserWarning: Argument `input_length` is deprecated. Just remove it.\n",
      "  warnings.warn(\n"
     ]
    }
   ],
   "execution_count": 22
  },
  {
   "cell_type": "code",
   "metadata": {
    "ExecuteTime": {
     "end_time": "2024-06-26T07:46:54.669419Z",
     "start_time": "2024-06-26T07:46:54.659369Z"
    }
   },
   "source": [
    "print(\"Số lượng nhãn (num_classes):\", num_classes)\n",
    "print(\"Shape của y_train:\", y_train.shape)\n",
    "print(\"Shape của y_test:\", y_test.shape)"
   ],
   "outputs": [
    {
     "name": "stdout",
     "output_type": "stream",
     "text": [
      "Số lượng nhãn (num_classes): 15\n",
      "Shape của y_train: (430, 15)\n",
      "Shape của y_test: (108, 15)\n"
     ]
    }
   ],
   "execution_count": 23
  },
  {
   "cell_type": "code",
   "metadata": {
    "ExecuteTime": {
     "end_time": "2024-06-26T07:46:54.692499Z",
     "start_time": "2024-06-26T07:46:54.671427Z"
    }
   },
   "source": [
    "# Early stopping và checkpoint\n",
    "early_stopping = EarlyStopping(monitor='val_loss', patience=5, restore_best_weights=True)\n",
    "checkpoint = ModelCheckpoint('best_model.keras', monitor='val_loss', save_best_only=True)"
   ],
   "outputs": [],
   "execution_count": 24
  },
  {
   "cell_type": "code",
   "metadata": {
    "ExecuteTime": {
     "end_time": "2024-06-26T07:46:54.703018Z",
     "start_time": "2024-06-26T07:46:54.695522Z"
    }
   },
   "source": [
    "num_rows = X_train.shape[0]\n",
    "print(f\"Số lượng hàng trong dữ liệu train là {num_rows}\")\n",
    "batch_size_options = [16, 32, 64]  # Các lựa chọn thử nghiệm\n",
    "\n",
    "# Chọn batch size dựa trên hiệu suất của mô hình\n",
    "batch_size = min(batch_size_options, key=lambda x: abs(x - num_rows//x * x))\n",
    "\n",
    "print(f\"Batch size được chọn: {batch_size}\")"
   ],
   "outputs": [
    {
     "name": "stdout",
     "output_type": "stream",
     "text": [
      "Số lượng hàng trong dữ liệu train là 430\n",
      "Batch size được chọn: 64\n"
     ]
    }
   ],
   "execution_count": 25
  },
  {
   "cell_type": "code",
   "metadata": {
    "ExecuteTime": {
     "end_time": "2024-06-26T07:48:24.229178Z",
     "start_time": "2024-06-26T07:46:54.704541Z"
    }
   },
   "source": [
    "history = []\n",
    "# Huấn luyện mô hình\n",
    "history = model.fit(X_train, y_train, epochs=500, batch_size=batch_size, validation_data=(X_test, y_test), callbacks=[early_stopping, checkpoint])"
   ],
   "outputs": [
    {
     "name": "stdout",
     "output_type": "stream",
     "text": [
      "Epoch 1/500\n",
      "\u001B[1m7/7\u001B[0m \u001B[32m━━━━━━━━━━━━━━━━━━━━\u001B[0m\u001B[37m\u001B[0m \u001B[1m11s\u001B[0m 238ms/step - accuracy: 0.0699 - loss: 0.9836 - val_accuracy: 0.0463 - val_loss: 0.6817\n",
      "Epoch 2/500\n",
      "\u001B[1m7/7\u001B[0m \u001B[32m━━━━━━━━━━━━━━━━━━━━\u001B[0m\u001B[37m\u001B[0m \u001B[1m1s\u001B[0m 119ms/step - accuracy: 0.2425 - loss: 0.8775 - val_accuracy: 0.1759 - val_loss: 0.6680\n",
      "Epoch 3/500\n",
      "\u001B[1m7/7\u001B[0m \u001B[32m━━━━━━━━━━━━━━━━━━━━\u001B[0m\u001B[37m\u001B[0m \u001B[1m1s\u001B[0m 117ms/step - accuracy: 0.4425 - loss: 0.8143 - val_accuracy: 0.2130 - val_loss: 0.6560\n",
      "Epoch 4/500\n",
      "\u001B[1m7/7\u001B[0m \u001B[32m━━━━━━━━━━━━━━━━━━━━\u001B[0m\u001B[37m\u001B[0m \u001B[1m1s\u001B[0m 110ms/step - accuracy: 0.5829 - loss: 0.7625 - val_accuracy: 0.4630 - val_loss: 0.6490\n",
      "Epoch 5/500\n",
      "\u001B[1m7/7\u001B[0m \u001B[32m━━━━━━━━━━━━━━━━━━━━\u001B[0m\u001B[37m\u001B[0m \u001B[1m1s\u001B[0m 158ms/step - accuracy: 0.7087 - loss: 0.7066 - val_accuracy: 0.4537 - val_loss: 0.6395\n",
      "Epoch 6/500\n",
      "\u001B[1m7/7\u001B[0m \u001B[32m━━━━━━━━━━━━━━━━━━━━\u001B[0m\u001B[37m\u001B[0m \u001B[1m1s\u001B[0m 113ms/step - accuracy: 0.7752 - loss: 0.6680 - val_accuracy: 0.5463 - val_loss: 0.6276\n",
      "Epoch 7/500\n",
      "\u001B[1m7/7\u001B[0m \u001B[32m━━━━━━━━━━━━━━━━━━━━\u001B[0m\u001B[37m\u001B[0m \u001B[1m1s\u001B[0m 121ms/step - accuracy: 0.8221 - loss: 0.6481 - val_accuracy: 0.6111 - val_loss: 0.6122\n",
      "Epoch 8/500\n",
      "\u001B[1m7/7\u001B[0m \u001B[32m━━━━━━━━━━━━━━━━━━━━\u001B[0m\u001B[37m\u001B[0m \u001B[1m1s\u001B[0m 116ms/step - accuracy: 0.8355 - loss: 0.6166 - val_accuracy: 0.6204 - val_loss: 0.5939\n",
      "Epoch 9/500\n",
      "\u001B[1m7/7\u001B[0m \u001B[32m━━━━━━━━━━━━━━━━━━━━\u001B[0m\u001B[37m\u001B[0m \u001B[1m1s\u001B[0m 120ms/step - accuracy: 0.8353 - loss: 0.5831 - val_accuracy: 0.4167 - val_loss: 0.5769\n",
      "Epoch 10/500\n",
      "\u001B[1m7/7\u001B[0m \u001B[32m━━━━━━━━━━━━━━━━━━━━\u001B[0m\u001B[37m\u001B[0m \u001B[1m1s\u001B[0m 145ms/step - accuracy: 0.8728 - loss: 0.5493 - val_accuracy: 0.4074 - val_loss: 0.5605\n",
      "Epoch 11/500\n",
      "\u001B[1m7/7\u001B[0m \u001B[32m━━━━━━━━━━━━━━━━━━━━\u001B[0m\u001B[37m\u001B[0m \u001B[1m1s\u001B[0m 129ms/step - accuracy: 0.8798 - loss: 0.5298 - val_accuracy: 0.6759 - val_loss: 0.5447\n",
      "Epoch 12/500\n",
      "\u001B[1m7/7\u001B[0m \u001B[32m━━━━━━━━━━━━━━━━━━━━\u001B[0m\u001B[37m\u001B[0m \u001B[1m1s\u001B[0m 125ms/step - accuracy: 0.8889 - loss: 0.5175 - val_accuracy: 0.6852 - val_loss: 0.5264\n",
      "Epoch 13/500\n",
      "\u001B[1m7/7\u001B[0m \u001B[32m━━━━━━━━━━━━━━━━━━━━\u001B[0m\u001B[37m\u001B[0m \u001B[1m1s\u001B[0m 123ms/step - accuracy: 0.9227 - loss: 0.4813 - val_accuracy: 0.6759 - val_loss: 0.5077\n",
      "Epoch 14/500\n",
      "\u001B[1m7/7\u001B[0m \u001B[32m━━━━━━━━━━━━━━━━━━━━\u001B[0m\u001B[37m\u001B[0m \u001B[1m1s\u001B[0m 121ms/step - accuracy: 0.9039 - loss: 0.4909 - val_accuracy: 0.6852 - val_loss: 0.4900\n",
      "Epoch 15/500\n",
      "\u001B[1m7/7\u001B[0m \u001B[32m━━━━━━━━━━━━━━━━━━━━\u001B[0m\u001B[37m\u001B[0m \u001B[1m1s\u001B[0m 128ms/step - accuracy: 0.9026 - loss: 0.4577 - val_accuracy: 0.6944 - val_loss: 0.4710\n",
      "Epoch 16/500\n",
      "\u001B[1m7/7\u001B[0m \u001B[32m━━━━━━━━━━━━━━━━━━━━\u001B[0m\u001B[37m\u001B[0m \u001B[1m1s\u001B[0m 126ms/step - accuracy: 0.9247 - loss: 0.4256 - val_accuracy: 0.6019 - val_loss: 0.4487\n",
      "Epoch 17/500\n",
      "\u001B[1m7/7\u001B[0m \u001B[32m━━━━━━━━━━━━━━━━━━━━\u001B[0m\u001B[37m\u001B[0m \u001B[1m1s\u001B[0m 135ms/step - accuracy: 0.9152 - loss: 0.3890 - val_accuracy: 0.7407 - val_loss: 0.4274\n",
      "Epoch 18/500\n",
      "\u001B[1m7/7\u001B[0m \u001B[32m━━━━━━━━━━━━━━━━━━━━\u001B[0m\u001B[37m\u001B[0m \u001B[1m1s\u001B[0m 114ms/step - accuracy: 0.9116 - loss: 0.3781 - val_accuracy: 0.7407 - val_loss: 0.4026\n",
      "Epoch 19/500\n",
      "\u001B[1m7/7\u001B[0m \u001B[32m━━━━━━━━━━━━━━━━━━━━\u001B[0m\u001B[37m\u001B[0m \u001B[1m1s\u001B[0m 128ms/step - accuracy: 0.9348 - loss: 0.3386 - val_accuracy: 0.7407 - val_loss: 0.3818\n",
      "Epoch 20/500\n",
      "\u001B[1m7/7\u001B[0m \u001B[32m━━━━━━━━━━━━━━━━━━━━\u001B[0m\u001B[37m\u001B[0m \u001B[1m1s\u001B[0m 113ms/step - accuracy: 0.9195 - loss: 0.3249 - val_accuracy: 0.7407 - val_loss: 0.3622\n",
      "Epoch 21/500\n",
      "\u001B[1m7/7\u001B[0m \u001B[32m━━━━━━━━━━━━━━━━━━━━\u001B[0m\u001B[37m\u001B[0m \u001B[1m1s\u001B[0m 115ms/step - accuracy: 0.9323 - loss: 0.3031 - val_accuracy: 0.7315 - val_loss: 0.3411\n",
      "Epoch 22/500\n",
      "\u001B[1m7/7\u001B[0m \u001B[32m━━━━━━━━━━━━━━━━━━━━\u001B[0m\u001B[37m\u001B[0m \u001B[1m1s\u001B[0m 118ms/step - accuracy: 0.9337 - loss: 0.2747 - val_accuracy: 0.7315 - val_loss: 0.3191\n",
      "Epoch 23/500\n",
      "\u001B[1m7/7\u001B[0m \u001B[32m━━━━━━━━━━━━━━━━━━━━\u001B[0m\u001B[37m\u001B[0m \u001B[1m1s\u001B[0m 116ms/step - accuracy: 0.9393 - loss: 0.2549 - val_accuracy: 0.6852 - val_loss: 0.3006\n",
      "Epoch 24/500\n",
      "\u001B[1m7/7\u001B[0m \u001B[32m━━━━━━━━━━━━━━━━━━━━\u001B[0m\u001B[37m\u001B[0m \u001B[1m1s\u001B[0m 125ms/step - accuracy: 0.9415 - loss: 0.2369 - val_accuracy: 0.5463 - val_loss: 0.2815\n",
      "Epoch 25/500\n",
      "\u001B[1m7/7\u001B[0m \u001B[32m━━━━━━━━━━━━━━━━━━━━\u001B[0m\u001B[37m\u001B[0m \u001B[1m1s\u001B[0m 127ms/step - accuracy: 0.9527 - loss: 0.2193 - val_accuracy: 0.5926 - val_loss: 0.2636\n",
      "Epoch 26/500\n",
      "\u001B[1m7/7\u001B[0m \u001B[32m━━━━━━━━━━━━━━━━━━━━\u001B[0m\u001B[37m\u001B[0m \u001B[1m1s\u001B[0m 124ms/step - accuracy: 0.9284 - loss: 0.1998 - val_accuracy: 0.7222 - val_loss: 0.2486\n",
      "Epoch 27/500\n",
      "\u001B[1m7/7\u001B[0m \u001B[32m━━━━━━━━━━━━━━━━━━━━\u001B[0m\u001B[37m\u001B[0m \u001B[1m1s\u001B[0m 126ms/step - accuracy: 0.9453 - loss: 0.1811 - val_accuracy: 0.7037 - val_loss: 0.2337\n",
      "Epoch 28/500\n",
      "\u001B[1m7/7\u001B[0m \u001B[32m━━━━━━━━━━━━━━━━━━━━\u001B[0m\u001B[37m\u001B[0m \u001B[1m1s\u001B[0m 125ms/step - accuracy: 0.9237 - loss: 0.1627 - val_accuracy: 0.7037 - val_loss: 0.2218\n",
      "Epoch 29/500\n",
      "\u001B[1m7/7\u001B[0m \u001B[32m━━━━━━━━━━━━━━━━━━━━\u001B[0m\u001B[37m\u001B[0m \u001B[1m1s\u001B[0m 123ms/step - accuracy: 0.9430 - loss: 0.1683 - val_accuracy: 0.6944 - val_loss: 0.2122\n",
      "Epoch 30/500\n",
      "\u001B[1m7/7\u001B[0m \u001B[32m━━━━━━━━━━━━━━━━━━━━\u001B[0m\u001B[37m\u001B[0m \u001B[1m1s\u001B[0m 123ms/step - accuracy: 0.9451 - loss: 0.1504 - val_accuracy: 0.7407 - val_loss: 0.2055\n",
      "Epoch 31/500\n",
      "\u001B[1m7/7\u001B[0m \u001B[32m━━━━━━━━━━━━━━━━━━━━\u001B[0m\u001B[37m\u001B[0m \u001B[1m1s\u001B[0m 114ms/step - accuracy: 0.9592 - loss: 0.1395 - val_accuracy: 0.7315 - val_loss: 0.1979\n",
      "Epoch 32/500\n",
      "\u001B[1m7/7\u001B[0m \u001B[32m━━━━━━━━━━━━━━━━━━━━\u001B[0m\u001B[37m\u001B[0m \u001B[1m1s\u001B[0m 121ms/step - accuracy: 0.9409 - loss: 0.1201 - val_accuracy: 0.7407 - val_loss: 0.1900\n",
      "Epoch 33/500\n",
      "\u001B[1m7/7\u001B[0m \u001B[32m━━━━━━━━━━━━━━━━━━━━\u001B[0m\u001B[37m\u001B[0m \u001B[1m1s\u001B[0m 158ms/step - accuracy: 0.9492 - loss: 0.1089 - val_accuracy: 0.7315 - val_loss: 0.1821\n",
      "Epoch 34/500\n",
      "\u001B[1m7/7\u001B[0m \u001B[32m━━━━━━━━━━━━━━━━━━━━\u001B[0m\u001B[37m\u001B[0m \u001B[1m1s\u001B[0m 120ms/step - accuracy: 0.9534 - loss: 0.1048 - val_accuracy: 0.7222 - val_loss: 0.1760\n",
      "Epoch 35/500\n",
      "\u001B[1m7/7\u001B[0m \u001B[32m━━━━━━━━━━━━━━━━━━━━\u001B[0m\u001B[37m\u001B[0m \u001B[1m1s\u001B[0m 119ms/step - accuracy: 0.9510 - loss: 0.0920 - val_accuracy: 0.7407 - val_loss: 0.1704\n",
      "Epoch 36/500\n",
      "\u001B[1m7/7\u001B[0m \u001B[32m━━━━━━━━━━━━━━━━━━━━\u001B[0m\u001B[37m\u001B[0m \u001B[1m1s\u001B[0m 113ms/step - accuracy: 0.9483 - loss: 0.0939 - val_accuracy: 0.7407 - val_loss: 0.1683\n",
      "Epoch 37/500\n",
      "\u001B[1m7/7\u001B[0m \u001B[32m━━━━━━━━━━━━━━━━━━━━\u001B[0m\u001B[37m\u001B[0m \u001B[1m1s\u001B[0m 119ms/step - accuracy: 0.9602 - loss: 0.0900 - val_accuracy: 0.7315 - val_loss: 0.1664\n",
      "Epoch 38/500\n",
      "\u001B[1m7/7\u001B[0m \u001B[32m━━━━━━━━━━━━━━━━━━━━\u001B[0m\u001B[37m\u001B[0m \u001B[1m1s\u001B[0m 125ms/step - accuracy: 0.9482 - loss: 0.0747 - val_accuracy: 0.7315 - val_loss: 0.1626\n",
      "Epoch 39/500\n",
      "\u001B[1m7/7\u001B[0m \u001B[32m━━━━━━━━━━━━━━━━━━━━\u001B[0m\u001B[37m\u001B[0m \u001B[1m1s\u001B[0m 126ms/step - accuracy: 0.9720 - loss: 0.0770 - val_accuracy: 0.7315 - val_loss: 0.1585\n",
      "Epoch 40/500\n",
      "\u001B[1m7/7\u001B[0m \u001B[32m━━━━━━━━━━━━━━━━━━━━\u001B[0m\u001B[37m\u001B[0m \u001B[1m1s\u001B[0m 126ms/step - accuracy: 0.9427 - loss: 0.0743 - val_accuracy: 0.7315 - val_loss: 0.1570\n",
      "Epoch 41/500\n",
      "\u001B[1m7/7\u001B[0m \u001B[32m━━━━━━━━━━━━━━━━━━━━\u001B[0m\u001B[37m\u001B[0m \u001B[1m1s\u001B[0m 99ms/step - accuracy: 0.9611 - loss: 0.0666 - val_accuracy: 0.7037 - val_loss: 0.1577\n",
      "Epoch 42/500\n",
      "\u001B[1m7/7\u001B[0m \u001B[32m━━━━━━━━━━━━━━━━━━━━\u001B[0m\u001B[37m\u001B[0m \u001B[1m1s\u001B[0m 114ms/step - accuracy: 0.9610 - loss: 0.0688 - val_accuracy: 0.7593 - val_loss: 0.1500\n",
      "Epoch 43/500\n",
      "\u001B[1m7/7\u001B[0m \u001B[32m━━━━━━━━━━━━━━━━━━━━\u001B[0m\u001B[37m\u001B[0m \u001B[1m1s\u001B[0m 121ms/step - accuracy: 0.9460 - loss: 0.0606 - val_accuracy: 0.7593 - val_loss: 0.1463\n",
      "Epoch 44/500\n",
      "\u001B[1m7/7\u001B[0m \u001B[32m━━━━━━━━━━━━━━━━━━━━\u001B[0m\u001B[37m\u001B[0m \u001B[1m1s\u001B[0m 121ms/step - accuracy: 0.9676 - loss: 0.0550 - val_accuracy: 0.7593 - val_loss: 0.1437\n",
      "Epoch 45/500\n",
      "\u001B[1m7/7\u001B[0m \u001B[32m━━━━━━━━━━━━━━━━━━━━\u001B[0m\u001B[37m\u001B[0m \u001B[1m1s\u001B[0m 147ms/step - accuracy: 0.9657 - loss: 0.0536 - val_accuracy: 0.7593 - val_loss: 0.1371\n",
      "Epoch 46/500\n",
      "\u001B[1m7/7\u001B[0m \u001B[32m━━━━━━━━━━━━━━━━━━━━\u001B[0m\u001B[37m\u001B[0m \u001B[1m1s\u001B[0m 150ms/step - accuracy: 0.9521 - loss: 0.0492 - val_accuracy: 0.7593 - val_loss: 0.1331\n",
      "Epoch 47/500\n",
      "\u001B[1m7/7\u001B[0m \u001B[32m━━━━━━━━━━━━━━━━━━━━\u001B[0m\u001B[37m\u001B[0m \u001B[1m1s\u001B[0m 100ms/step - accuracy: 0.9480 - loss: 0.0476 - val_accuracy: 0.7593 - val_loss: 0.1332\n",
      "Epoch 48/500\n",
      "\u001B[1m7/7\u001B[0m \u001B[32m━━━━━━━━━━━━━━━━━━━━\u001B[0m\u001B[37m\u001B[0m \u001B[1m1s\u001B[0m 121ms/step - accuracy: 0.9562 - loss: 0.0464 - val_accuracy: 0.7685 - val_loss: 0.1353\n",
      "Epoch 49/500\n",
      "\u001B[1m7/7\u001B[0m \u001B[32m━━━━━━━━━━━━━━━━━━━━\u001B[0m\u001B[37m\u001B[0m \u001B[1m1s\u001B[0m 103ms/step - accuracy: 0.9480 - loss: 0.0449 - val_accuracy: 0.7593 - val_loss: 0.1335\n",
      "Epoch 50/500\n",
      "\u001B[1m7/7\u001B[0m \u001B[32m━━━━━━━━━━━━━━━━━━━━\u001B[0m\u001B[37m\u001B[0m \u001B[1m1s\u001B[0m 125ms/step - accuracy: 0.9616 - loss: 0.0386 - val_accuracy: 0.7778 - val_loss: 0.1308\n",
      "Epoch 51/500\n",
      "\u001B[1m7/7\u001B[0m \u001B[32m━━━━━━━━━━━━━━━━━━━━\u001B[0m\u001B[37m\u001B[0m \u001B[1m1s\u001B[0m 121ms/step - accuracy: 0.9456 - loss: 0.0412 - val_accuracy: 0.7778 - val_loss: 0.1298\n",
      "Epoch 52/500\n",
      "\u001B[1m7/7\u001B[0m \u001B[32m━━━━━━━━━━━━━━━━━━━━\u001B[0m\u001B[37m\u001B[0m \u001B[1m1s\u001B[0m 115ms/step - accuracy: 0.9519 - loss: 0.0366 - val_accuracy: 0.8241 - val_loss: 0.1285\n",
      "Epoch 53/500\n",
      "\u001B[1m7/7\u001B[0m \u001B[32m━━━━━━━━━━━━━━━━━━━━\u001B[0m\u001B[37m\u001B[0m \u001B[1m1s\u001B[0m 118ms/step - accuracy: 0.9557 - loss: 0.0346 - val_accuracy: 0.8148 - val_loss: 0.1275\n",
      "Epoch 54/500\n",
      "\u001B[1m7/7\u001B[0m \u001B[32m━━━━━━━━━━━━━━━━━━━━\u001B[0m\u001B[37m\u001B[0m \u001B[1m1s\u001B[0m 116ms/step - accuracy: 0.9422 - loss: 0.0354 - val_accuracy: 0.8333 - val_loss: 0.1232\n",
      "Epoch 55/500\n",
      "\u001B[1m7/7\u001B[0m \u001B[32m━━━━━━━━━━━━━━━━━━━━\u001B[0m\u001B[37m\u001B[0m \u001B[1m1s\u001B[0m 96ms/step - accuracy: 0.9554 - loss: 0.0352 - val_accuracy: 0.8333 - val_loss: 0.1234\n",
      "Epoch 56/500\n",
      "\u001B[1m7/7\u001B[0m \u001B[32m━━━━━━━━━━━━━━━━━━━━\u001B[0m\u001B[37m\u001B[0m \u001B[1m1s\u001B[0m 97ms/step - accuracy: 0.9351 - loss: 0.0363 - val_accuracy: 0.8056 - val_loss: 0.1344\n",
      "Epoch 57/500\n",
      "\u001B[1m7/7\u001B[0m \u001B[32m━━━━━━━━━━━━━━━━━━━━\u001B[0m\u001B[37m\u001B[0m \u001B[1m1s\u001B[0m 115ms/step - accuracy: 0.9459 - loss: 0.0299 - val_accuracy: 0.8241 - val_loss: 0.1273\n",
      "Epoch 58/500\n",
      "\u001B[1m7/7\u001B[0m \u001B[32m━━━━━━━━━━━━━━━━━━━━\u001B[0m\u001B[37m\u001B[0m \u001B[1m1s\u001B[0m 119ms/step - accuracy: 0.9609 - loss: 0.0301 - val_accuracy: 0.8241 - val_loss: 0.1186\n",
      "Epoch 59/500\n",
      "\u001B[1m7/7\u001B[0m \u001B[32m━━━━━━━━━━━━━━━━━━━━\u001B[0m\u001B[37m\u001B[0m \u001B[1m1s\u001B[0m 119ms/step - accuracy: 0.9613 - loss: 0.0266 - val_accuracy: 0.8241 - val_loss: 0.1131\n",
      "Epoch 60/500\n",
      "\u001B[1m7/7\u001B[0m \u001B[32m━━━━━━━━━━━━━━━━━━━━\u001B[0m\u001B[37m\u001B[0m \u001B[1m1s\u001B[0m 125ms/step - accuracy: 0.9635 - loss: 0.0308 - val_accuracy: 0.8333 - val_loss: 0.1096\n",
      "Epoch 61/500\n",
      "\u001B[1m7/7\u001B[0m \u001B[32m━━━━━━━━━━━━━━━━━━━━\u001B[0m\u001B[37m\u001B[0m \u001B[1m1s\u001B[0m 150ms/step - accuracy: 0.9480 - loss: 0.0258 - val_accuracy: 0.8333 - val_loss: 0.1049\n",
      "Epoch 62/500\n",
      "\u001B[1m7/7\u001B[0m \u001B[32m━━━━━━━━━━━━━━━━━━━━\u001B[0m\u001B[37m\u001B[0m \u001B[1m1s\u001B[0m 106ms/step - accuracy: 0.9711 - loss: 0.0290 - val_accuracy: 0.8426 - val_loss: 0.1093\n",
      "Epoch 63/500\n",
      "\u001B[1m7/7\u001B[0m \u001B[32m━━━━━━━━━━━━━━━━━━━━\u001B[0m\u001B[37m\u001B[0m \u001B[1m1s\u001B[0m 105ms/step - accuracy: 0.9691 - loss: 0.0251 - val_accuracy: 0.8333 - val_loss: 0.1121\n",
      "Epoch 64/500\n",
      "\u001B[1m7/7\u001B[0m \u001B[32m━━━━━━━━━━━━━━━━━━━━\u001B[0m\u001B[37m\u001B[0m \u001B[1m1s\u001B[0m 109ms/step - accuracy: 0.9609 - loss: 0.0244 - val_accuracy: 0.8426 - val_loss: 0.1092\n",
      "Epoch 65/500\n",
      "\u001B[1m7/7\u001B[0m \u001B[32m━━━━━━━━━━━━━━━━━━━━\u001B[0m\u001B[37m\u001B[0m \u001B[1m1s\u001B[0m 126ms/step - accuracy: 0.9509 - loss: 0.0213 - val_accuracy: 0.8426 - val_loss: 0.0993\n",
      "Epoch 66/500\n",
      "\u001B[1m7/7\u001B[0m \u001B[32m━━━━━━━━━━━━━━━━━━━━\u001B[0m\u001B[37m\u001B[0m \u001B[1m1s\u001B[0m 118ms/step - accuracy: 0.9489 - loss: 0.0213 - val_accuracy: 0.8519 - val_loss: 0.0937\n",
      "Epoch 67/500\n",
      "\u001B[1m7/7\u001B[0m \u001B[32m━━━━━━━━━━━━━━━━━━━━\u001B[0m\u001B[37m\u001B[0m \u001B[1m1s\u001B[0m 124ms/step - accuracy: 0.9612 - loss: 0.0205 - val_accuracy: 0.8519 - val_loss: 0.0905\n",
      "Epoch 68/500\n",
      "\u001B[1m7/7\u001B[0m \u001B[32m━━━━━━━━━━━━━━━━━━━━\u001B[0m\u001B[37m\u001B[0m \u001B[1m1s\u001B[0m 118ms/step - accuracy: 0.9583 - loss: 0.0210 - val_accuracy: 0.8611 - val_loss: 0.0840\n",
      "Epoch 69/500\n",
      "\u001B[1m7/7\u001B[0m \u001B[32m━━━━━━━━━━━━━━━━━━━━\u001B[0m\u001B[37m\u001B[0m \u001B[1m1s\u001B[0m 115ms/step - accuracy: 0.9459 - loss: 0.0218 - val_accuracy: 0.8704 - val_loss: 0.0821\n",
      "Epoch 70/500\n",
      "\u001B[1m7/7\u001B[0m \u001B[32m━━━━━━━━━━━━━━━━━━━━\u001B[0m\u001B[37m\u001B[0m \u001B[1m1s\u001B[0m 113ms/step - accuracy: 0.9730 - loss: 0.0207 - val_accuracy: 0.8704 - val_loss: 0.0833\n",
      "Epoch 71/500\n",
      "\u001B[1m7/7\u001B[0m \u001B[32m━━━━━━━━━━━━━━━━━━━━\u001B[0m\u001B[37m\u001B[0m \u001B[1m1s\u001B[0m 123ms/step - accuracy: 0.9546 - loss: 0.0191 - val_accuracy: 0.8611 - val_loss: 0.0770\n",
      "Epoch 72/500\n",
      "\u001B[1m7/7\u001B[0m \u001B[32m━━━━━━━━━━━━━━━━━━━━\u001B[0m\u001B[37m\u001B[0m \u001B[1m1s\u001B[0m 119ms/step - accuracy: 0.9719 - loss: 0.0208 - val_accuracy: 0.8611 - val_loss: 0.0725\n",
      "Epoch 73/500\n",
      "\u001B[1m7/7\u001B[0m \u001B[32m━━━━━━━━━━━━━━━━━━━━\u001B[0m\u001B[37m\u001B[0m \u001B[1m1s\u001B[0m 122ms/step - accuracy: 0.9576 - loss: 0.0176 - val_accuracy: 0.8704 - val_loss: 0.0712\n",
      "Epoch 74/500\n",
      "\u001B[1m7/7\u001B[0m \u001B[32m━━━━━━━━━━━━━━━━━━━━\u001B[0m\u001B[37m\u001B[0m \u001B[1m1s\u001B[0m 144ms/step - accuracy: 0.9715 - loss: 0.0158 - val_accuracy: 0.8796 - val_loss: 0.0698\n",
      "Epoch 75/500\n",
      "\u001B[1m7/7\u001B[0m \u001B[32m━━━━━━━━━━━━━━━━━━━━\u001B[0m\u001B[37m\u001B[0m \u001B[1m1s\u001B[0m 166ms/step - accuracy: 0.9668 - loss: 0.0199 - val_accuracy: 0.8796 - val_loss: 0.0648\n",
      "Epoch 76/500\n",
      "\u001B[1m7/7\u001B[0m \u001B[32m━━━━━━━━━━━━━━━━━━━━\u001B[0m\u001B[37m\u001B[0m \u001B[1m2s\u001B[0m 186ms/step - accuracy: 0.9481 - loss: 0.0168 - val_accuracy: 0.8704 - val_loss: 0.0584\n",
      "Epoch 77/500\n",
      "\u001B[1m7/7\u001B[0m \u001B[32m━━━━━━━━━━━━━━━━━━━━\u001B[0m\u001B[37m\u001B[0m \u001B[1m1s\u001B[0m 150ms/step - accuracy: 0.9560 - loss: 0.0156 - val_accuracy: 0.8611 - val_loss: 0.0557\n",
      "Epoch 78/500\n",
      "\u001B[1m7/7\u001B[0m \u001B[32m━━━━━━━━━━━━━━━━━━━━\u001B[0m\u001B[37m\u001B[0m \u001B[1m1s\u001B[0m 117ms/step - accuracy: 0.9622 - loss: 0.0227 - val_accuracy: 0.8704 - val_loss: 0.0558\n",
      "Epoch 79/500\n",
      "\u001B[1m7/7\u001B[0m \u001B[32m━━━━━━━━━━━━━━━━━━━━\u001B[0m\u001B[37m\u001B[0m \u001B[1m2s\u001B[0m 248ms/step - accuracy: 0.9578 - loss: 0.0155 - val_accuracy: 0.8611 - val_loss: 0.0546\n",
      "Epoch 80/500\n",
      "\u001B[1m7/7\u001B[0m \u001B[32m━━━━━━━━━━━━━━━━━━━━\u001B[0m\u001B[37m\u001B[0m \u001B[1m1s\u001B[0m 185ms/step - accuracy: 0.9333 - loss: 0.0176 - val_accuracy: 0.8796 - val_loss: 0.0524\n",
      "Epoch 81/500\n",
      "\u001B[1m7/7\u001B[0m \u001B[32m━━━━━━━━━━━━━━━━━━━━\u001B[0m\u001B[37m\u001B[0m \u001B[1m1s\u001B[0m 120ms/step - accuracy: 0.9683 - loss: 0.0138 - val_accuracy: 0.8704 - val_loss: 0.0507\n",
      "Epoch 82/500\n",
      "\u001B[1m7/7\u001B[0m \u001B[32m━━━━━━━━━━━━━━━━━━━━\u001B[0m\u001B[37m\u001B[0m \u001B[1m1s\u001B[0m 133ms/step - accuracy: 0.9707 - loss: 0.0147 - val_accuracy: 0.8796 - val_loss: 0.0484\n",
      "Epoch 83/500\n",
      "\u001B[1m7/7\u001B[0m \u001B[32m━━━━━━━━━━━━━━━━━━━━\u001B[0m\u001B[37m\u001B[0m \u001B[1m1s\u001B[0m 123ms/step - accuracy: 0.9603 - loss: 0.0163 - val_accuracy: 0.8981 - val_loss: 0.0429\n",
      "Epoch 84/500\n",
      "\u001B[1m7/7\u001B[0m \u001B[32m━━━━━━━━━━━━━━━━━━━━\u001B[0m\u001B[37m\u001B[0m \u001B[1m1s\u001B[0m 121ms/step - accuracy: 0.9590 - loss: 0.0141 - val_accuracy: 0.8889 - val_loss: 0.0414\n",
      "Epoch 85/500\n",
      "\u001B[1m7/7\u001B[0m \u001B[32m━━━━━━━━━━━━━━━━━━━━\u001B[0m\u001B[37m\u001B[0m \u001B[1m1s\u001B[0m 93ms/step - accuracy: 0.9652 - loss: 0.0194 - val_accuracy: 0.8704 - val_loss: 0.0517\n",
      "Epoch 86/500\n",
      "\u001B[1m7/7\u001B[0m \u001B[32m━━━━━━━━━━━━━━━━━━━━\u001B[0m\u001B[37m\u001B[0m \u001B[1m1s\u001B[0m 100ms/step - accuracy: 0.9634 - loss: 0.0156 - val_accuracy: 0.8704 - val_loss: 0.0528\n",
      "Epoch 87/500\n",
      "\u001B[1m7/7\u001B[0m \u001B[32m━━━━━━━━━━━━━━━━━━━━\u001B[0m\u001B[37m\u001B[0m \u001B[1m1s\u001B[0m 125ms/step - accuracy: 0.9576 - loss: 0.0124 - val_accuracy: 0.8889 - val_loss: 0.0512\n",
      "Epoch 88/500\n",
      "\u001B[1m7/7\u001B[0m \u001B[32m━━━━━━━━━━━━━━━━━━━━\u001B[0m\u001B[37m\u001B[0m \u001B[1m1s\u001B[0m 100ms/step - accuracy: 0.9600 - loss: 0.0197 - val_accuracy: 0.8889 - val_loss: 0.0537\n",
      "Epoch 89/500\n",
      "\u001B[1m7/7\u001B[0m \u001B[32m━━━━━━━━━━━━━━━━━━━━\u001B[0m\u001B[37m\u001B[0m \u001B[1m1s\u001B[0m 108ms/step - accuracy: 0.9515 - loss: 0.0124 - val_accuracy: 0.8889 - val_loss: 0.0530\n"
     ]
    }
   ],
   "execution_count": 26
  },
  {
   "cell_type": "code",
   "metadata": {
    "ExecuteTime": {
     "end_time": "2024-06-26T07:48:24.983333Z",
     "start_time": "2024-06-26T07:48:24.231189Z"
    }
   },
   "source": [
    "# Vẽ biểu đồ loss và accuracy\n",
    "plot_history(history)"
   ],
   "outputs": [
    {
     "data": {
      "text/plain": [
       "<Figure size 1200x600 with 2 Axes>"
      ],
      "image/png": "[encoded data removed]"
     },
     "metadata": {},
     "output_type": "display_data"
    }
   ],
   "execution_count": 27
  },
  {
   "cell_type": "code",
   "metadata": {
    "ExecuteTime": {
     "end_time": "2024-06-26T07:48:24.990175Z",
     "start_time": "2024-06-26T07:48:24.984345Z"
    }
   },
   "source": [
    "print(f\"Số lượng categories: {len(categories)}\")\n",
    "print(f\"Số lượng outputs của mô hình: {num_classes}\")"
   ],
   "outputs": [
    {
     "name": "stdout",
     "output_type": "stream",
     "text": [
      "Số lượng categories: 15\n",
      "Số lượng outputs của mô hình: 15\n"
     ]
    }
   ],
   "execution_count": 28
  },
  {
   "cell_type": "code",
   "metadata": {
    "ExecuteTime": {
     "end_time": "2024-06-26T07:48:25.014886Z",
     "start_time": "2024-06-26T07:48:24.992186Z"
    }
   },
   "source": [
    "# Lưu tokenizer và categories\n",
    "joblib.dump(categories, 'categories.joblib')\n",
    "joblib.dump(tokenizer, 'tokenizer.joblib')\n",
    "\n",
    "# Định nghĩa và sử dụng hàm dự đoán\n",
    "def predict_project_category(project_name):\n",
    "    # Chuyển đổi tên dự án thành chuỗi số\n",
    "    sequence = tokenizer.texts_to_sequences([project_name])\n",
    "    padded_sequence = pad_sequences(sequence, maxlen=max_length)  # Sử dụng max_length đã xác định khi huấn luyện\n",
    "\n",
    "    # Thực hiện dự đoán\n",
    "    prediction = model.predict(padded_sequence)\n",
    "    predicted_categories = (prediction > 0.1).astype(int)\n",
    "\n",
    "    # Ánh xạ dự đoán thành tên chủ đề\n",
    "    predicted_labels = [categories[idx] for idx, is_present in enumerate(predicted_categories[0]) if is_present]\n",
    "    return ', '.join(predicted_labels) if predicted_labels else 'Không xác định'"
   ],
   "outputs": [],
   "execution_count": 29
  },
  {
   "cell_type": "code",
   "metadata": {
    "ExecuteTime": {
     "end_time": "2024-06-26T07:48:25.021703Z",
     "start_time": "2024-06-26T07:48:25.016410Z"
    }
   },
   "source": [
    "# Computer Science - AI\n",
    "# Xây dựng hệ thống chatbot tự động tư vấn tuyển sinh\n",
    "# Dự đoán doanh thu bán hàng dựa trên phân tích dữ liệu\n",
    "# Phân loại cảm xúc trong văn bản tiếng Việt\n",
    "# Nhận dạng giọng nói và chuyển đổi thành văn bản tiếng Việt\n",
    "# Hệ thống phát hiện gian lận giao dịch ngân hàng\n",
    "# Ứng dụng AI trong phân tích y học\n",
    "# Xây dựng hệ thống đề xuất sản phẩm dựa trên sở thích khách hàng\n",
    "# Phân loại ảnh và nhận diện đối tượng trong môi trường thực tế\n",
    "# Hệ thống quản lý học tập thông minh\n",
    "# Tối ưu hóa lộ trình vận chuyển hàng hóa\n",
    "\n",
    "# Dùng website để mua đồ chơi cho trẻ\n",
    "# Dùng website để quản trị nhà máy điện\n",
    "# Xây dựng ứng dụng để quản lý thiết bị thông minh - X"
   ],
   "outputs": [],
   "execution_count": 30
  },
  {
   "cell_type": "code",
   "metadata": {
    "ExecuteTime": {
     "end_time": "2024-06-26T07:49:40.807054Z",
     "start_time": "2024-06-26T07:49:40.692247Z"
    }
   },
   "source": [
    "# project_name = \"Xây dựng ứng dụng để quản lý thiết bị thông minh\"\n",
    "# project_name = \"Lập trình trí tuệ nhân tạo để dự đoán giá nhà\"\n",
    "# project_name = \"Sử dụng blockchain vào hệ thống ngân hàng\"\n",
    "# project_name = \"Dùng website để quản trị nhà máy điện\" # Ngoài lề - đã add\n",
    "# project_name = \"Ứng dụng AI trong phân tích y học\" # Ngoài lề - đã add\n",
    "# project_name = \"Xây dựng hệ thống chatbot tự động tư vấn tuyển sinh\" # X\n",
    "# project_name = \"Dùng website để mua đồ chơi cho trẻ\" # Ok\n",
    "project_name = \"Xây dựng ứng dụng để cải thiện hiệu xất văn phòng\"\n",
    "predicted_category = predict_project_category(project_name)\n",
    "print(f\"Đề tài: {project_name}\\nThuộc các chủ đề: {predicted_category}\")"
   ],
   "outputs": [
    {
     "name": "stdout",
     "output_type": "stream",
     "text": [
      "\u001B[1m1/1\u001B[0m \u001B[32m━━━━━━━━━━━━━━━━━━━━\u001B[0m\u001B[37m\u001B[0m \u001B[1m0s\u001B[0m 39ms/step\n",
      "Đề tài: Xây dựng ứng dụng để cải thiện hiệu xất văn phòng\n",
      "Thuộc các chủ đề: mobile-app\n"
     ]
    }
   ],
   "execution_count": 35
  },
  {
   "metadata": {
    "ExecuteTime": {
     "end_time": "2024-06-26T07:48:25.899728Z",
     "start_time": "2024-06-26T07:48:25.896871Z"
    }
   },
   "cell_type": "code",
   "source": "",
   "outputs": [],
   "execution_count": 31
  }
 ],
 "metadata": {
  "kernelspec": {
   "display_name": "dacs",
   "language": "python",
   "name": "python3"
  },
  "language_info": {
   "codemirror_mode": {
    "name": "ipython",
    "version": 3
   },
   "file_extension": ".py",
   "mimetype": "text/x-python",
   "name": "python",
   "nbconvert_exporter": "python",
   "pygments_lexer": "ipython3",
   "version": "3.12.3"
  }
 },
 "nbformat": 4,
 "nbformat_minor": 2
}
