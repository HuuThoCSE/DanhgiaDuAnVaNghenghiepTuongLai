{
 "cells": [
  {
   "cell_type": "code",
   "execution_count": 1,
   "metadata": {},
   "outputs": [],
   "source": [
    "import pandas as pd\n",
    "import joblib\n",
    "from tensorflow.keras.models import load_model\n",
    "from tensorflow.keras.preprocessing.sequence import pad_sequences\n",
    "from tensorflow.keras.preprocessing.text import Tokenizer\n",
    "\n",
    "# Đường dẫn tới các tệp đã lưu\n",
    "tokenizer_path = 'tokenizer.joblib'\n",
    "model_path = 'best_model.keras'\n",
    "categories_path = 'categories.joblib'\n",
    "\n",
    "# Tải tokenizer và categories\n",
    "tokenizer = joblib.load(tokenizer_path)\n",
    "categories = joblib.load(categories_path)\n",
    "\n",
    "# Tải mô hình\n",
    "model = load_model(model_path)\n",
    "\n",
    "# Đọc các cấu hình từ file\n",
    "config = {}\n",
    "with open('config.txt', 'r') as file:\n",
    "    for line in file:\n",
    "        key, value = line.strip().split(':')\n",
    "        config[key] = int(value)\n",
    "\n",
    "max_length = config.get('MaxLength')\n",
    "# num_words = config.get('NumWords')\n",
    "\n",
    "# Định nghĩa hàm dự đoán chủ đề dự án\n",
    "# Định nghĩa và sử dụng hàm dự đoán\n",
    "def predict_project_category(project_name):\n",
    "    # Chuyển đổi tên dự án thành chuỗi số\n",
    "    sequence = tokenizer.texts_to_sequences([project_name])\n",
    "    padded_sequence = pad_sequences(sequence, maxlen=max_length)  # Sử dụng max_length đã xác định khi huấn luyện\n",
    "\n",
    "    # Thực hiện dự đoán\n",
    "    prediction = model.predict(padded_sequence)\n",
    "    predicted_categories = (prediction > 0.1).astype(int)\n",
    "\n",
    "    # Ánh xạ dự đoán thành tên chủ đề\n",
    "    predicted_labels = [categories[idx] for idx, is_present in enumerate(predicted_categories[0]) if is_present]\n",
    "    return ', '.join(predicted_labels) if predicted_labels else 'Không xác định'"
   ]
  },
  {
   "cell_type": "code",
   "execution_count": 4,
   "metadata": {},
   "outputs": [],
   "source": [
    "# Computer Science - AI\n",
    "# Xây dựng hệ thống chatbot tự động tư vấn tuyển sinh\n",
    "# Dự đoán doanh thu bán hàng dựa trên phân tích dữ liệu\n",
    "# Phân loại cảm xúc trong văn bản tiếng Việt\n",
    "# Nhận dạng giọng nói và chuyển đổi thành văn bản tiếng Việt\n",
    "# Hệ thống phát hiện gian lận giao dịch ngân hàng\n",
    "# Ứng dụng AI trong phân tích y học\n",
    "# Xây dựng hệ thống đề xuất sản phẩm dựa trên sở thích khách hàng\n",
    "# Phân loại ảnh và nhận diện đối tượng trong môi trường thực tế\n",
    "# Hệ thống quản lý học tập thông minh\n",
    "# Tối ưu hóa lộ trình vận chuyển hàng hóa\n",
    "\n",
    "# Dùng website để mua đồ chơi cho trẻ\n",
    "# Dùng website để quản trị nhà máy điện\n",
    "# Xây dựng ứng dụng để quản lý thiết bị thông minh - X"
   ]
  },
  {
   "cell_type": "code",
   "execution_count": 3,
   "metadata": {},
   "outputs": [
    {
     "name": "stdout",
     "output_type": "stream",
     "text": [
      "\u001b[1m1/1\u001b[0m \u001b[32m━━━━━━━━━━━━━━━━━━━━\u001b[0m\u001b[37m\u001b[0m \u001b[1m0s\u001b[0m 26ms/step\n",
      "Đề tài: Xây dựng ứng dụng khôi phục hình ảnh\n",
      "Thuộc các chủ đề: mobile-app\n"
     ]
    }
   ],
   "source": [
    "# Sử dụng hàm dự đoán\n",
    "# project_name = \"Xây dựng ứng dụng để quản lý thiết bị thông minh\"\n",
    "# project_name = \"Nghiên cứu blockchain bridge và ứng dụng\"\n",
    "# project_name = \"Xây dựng ứng dụng khôi phục hình ảnh\"\n",
    "# project_name = \"Dùng website để quản trị nhà máy điện\"\n",
    "# project_name = \"Xây dựng hệ thống chatbot tự động tư vấn tuyển sinh\"\n",
    "project_name = \"\"\n",
    "predicted_category = predict_project_category(project_name)\n",
    "print(f\"Đề tài: {project_name}\\nThuộc các chủ đề: {predicted_category}\")"
   ]
  }
 ],
 "metadata": {
  "kernelspec": {
   "display_name": "base",
   "language": "python",
   "name": "python3"
  },
  "language_info": {
   "codemirror_mode": {
    "name": "ipython",
    "version": 3
   },
   "file_extension": ".py",
   "mimetype": "text/x-python",
   "name": "python",
   "nbconvert_exporter": "python",
   "pygments_lexer": "ipython3",
   "version": "3.12.3"
  }
 },
 "nbformat": 4,
 "nbformat_minor": 2
}
